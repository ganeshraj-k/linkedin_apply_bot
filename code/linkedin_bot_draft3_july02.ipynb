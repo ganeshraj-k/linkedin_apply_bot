{
 "cells": [
  {
   "cell_type": "code",
   "execution_count": 1,
   "id": "d8faf94f-7337-4838-bc62-7daf1e79b610",
   "metadata": {},
   "outputs": [],
   "source": [
    "from selenium import webdriver\n",
    "from selenium.webdriver.edge.service import Service\n",
    "from selenium.webdriver.edge.options import Options\n",
    "from selenium.webdriver.common.keys import Keys\n",
    "from selenium.webdriver.common.by import By\n",
    "from bs4 import BeautifulSoup\n",
    "from selenium.webdriver.support.ui import Select\n",
    "import random\n",
    "# Set the path to your downloaded Edge WebDriver executable\n",
    "\n",
    "edge_driver_path = 'msedgedriver.exe' \n",
    "edge_service = Service(edge_driver_path)\n",
    "# Initialize the Edge Service"
   ]
  },
  {
   "cell_type": "code",
   "execution_count": 2,
   "id": "c853ae83-a8c2-4794-b2b9-62fc0ab4b05e",
   "metadata": {},
   "outputs": [],
   "source": [
    "# Initialize the Edge WebDriver\n",
    "driver = webdriver.Edge(service=edge_service)"
   ]
  }
 ],
 "metadata": {
  "kernelspec": {
   "display_name": "Python 3 (ipykernel)",
   "language": "python",
   "name": "python3"
  },
  "language_info": {
   "codemirror_mode": {
    "name": "ipython",
    "version": 3
   },
   "file_extension": ".py",
   "mimetype": "text/x-python",
   "name": "python",
   "nbconvert_exporter": "python",
   "pygments_lexer": "ipython3",
   "version": "3.11.7"
  }
 },
 "nbformat": 4,
 "nbformat_minor": 5
}
