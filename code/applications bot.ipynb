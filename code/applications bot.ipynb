{
 "cells": [
  {
   "cell_type": "code",
   "execution_count": 85,
   "id": "a61e66a3",
   "metadata": {},
   "outputs": [],
   "source": [
    "from selenium import webdriver\n",
    "from selenium.webdriver.edge.service import Service\n",
    "from selenium.webdriver.edge.options import Options\n",
    "from selenium.webdriver.common.keys import Keys\n",
    "from selenium.webdriver.common.by import By\n",
    "from bs4 import BeautifulSoup\n",
    "from selenium.webdriver.support.ui import Select\n",
    "# Set the path to your downloaded Edge WebDriver executable\n",
    "edge_driver_path = '/path/to/msedgedriver.exe'\n",
    "    \n",
    "# Initialize the Edge Service\n",
    "\n"
   ]
  },
  {
   "cell_type": "code",
   "execution_count": 2,
   "id": "f21c6bb1",
   "metadata": {},
   "outputs": [],
   "source": [
    "edge_service = Service(edge_driver_path)\n",
    "\n",
    "# Initialize the Edge WebDriver\n",
    "\n",
    "driver = webdriver.Edge(service=edge_service)\n",
    "# Navigate to a website"
   ]
  },
  {
   "cell_type": "code",
   "execution_count": 3,
   "id": "14c50857",
   "metadata": {},
   "outputs": [],
   "source": [
    "driver.get('https://www.linkedin.com')\n",
    "driver.maximize_window()\n",
    "\n",
    "\n",
    "links = driver.find_elements(\"xpath\" , \"//a[@href]\")"
   ]
  },
  {
   "cell_type": "code",
   "execution_count": 4,
   "id": "4b769301",
   "metadata": {},
   "outputs": [
    {
     "name": "stdout",
     "output_type": "stream",
     "text": [
      "\n",
      "\n",
      "\n",
      "\n",
      "LinkedIn\n",
      "Articles\n",
      "People\n",
      "Learning\n",
      "Jobs\n",
      "Games\n",
      "Get the app\n",
      "Join now\n",
      "Sign in\n"
     ]
    }
   ],
   "source": [
    "for link in links:\n",
    "    print(link.text)\n",
    "    if \"sign in\" in link.text.lower():\n",
    "    \n",
    "        link.click()\n",
    "        break\n",
    "        \n",
    "        \n",
    "username = \"ganesh_012@outlook.com\"\n",
    "password = \"Password123\"\n",
    "     \n",
    "        \n",
    "username_field = driver.find_element(    \"xpath\" ,  \"//input[@id='username']\")\n",
    "password_field = driver.find_element (  \"xpath\" ,  \"//input[@id ='password']\")\n",
    "buttonsignin = driver.find_element( \"xpath\" , \"//button[@type='submit']\")\n",
    "\n",
    "\n",
    "\n",
    "\n",
    "\n",
    "\n",
    "\n",
    "\n",
    "\n",
    "        \n",
    "username_field.send_keys(username)\n",
    "password_field.send_keys(password)  \n",
    "\n",
    "\n",
    "\n",
    "driver.implicitly_wait(5)\n",
    "\n",
    "\n",
    "buttonsignin.click()\n",
    "\n",
    "# for link in links:\n",
    "#     print(link.text)"
   ]
  },
  {
   "cell_type": "code",
   "execution_count": 5,
   "id": "f0b5a870",
   "metadata": {},
   "outputs": [],
   "source": [
    "\n",
    "\n",
    "\n",
    "jobslink = driver.find_element(\"xpath\" , \"//a[@href = 'https://www.linkedin.com/jobs/?']\")\n",
    "\n",
    "\n",
    "jobslink.click()"
   ]
  },
  {
   "cell_type": "code",
   "execution_count": 13,
   "id": "b6076d22",
   "metadata": {
    "scrolled": true
   },
   "outputs": [],
   "source": [
    "job_name = \"Data Scientist\"\n",
    "location_name = \"United States\"\n",
    "\n",
    "input_job = driver.find_element(\"xpath\" , \"//input[@class = 'jobs-search-box__text-input jobs-search-box__keyboard-text-input jobs-search-global-typeahead__input']\")\n",
    "\n",
    "\n",
    "\n",
    "\n",
    "\n",
    "input_job.send_keys(\"\")\n",
    "\n",
    "input_job = driver.find_element(\"xpath\" , \"//input[@class = 'jobs-search-box__text-input jobs-search-box__keyboard-text-input jobs-search-global-typeahead__input']\")\n",
    "\n",
    "\n",
    "\n",
    "\n",
    "\n",
    "input_job.send_keys(job_name)\n",
    "\n",
    "# if input_location.is_enabled():\n",
    "#     input_location.send_keys(location_name)\n",
    "    \n",
    "# else:\n",
    "#     input_job.send_keys(\"\")\n",
    "#     driver.implicitly_wait(1)\n",
    "#     input_location = driver.find_element(\"xpath\" , \"//input[@class = 'jobs-search-box__text-input' and @autocomplete=  'address-level2']\")\n",
    "    \n",
    "    \n",
    "    \n",
    "# # search_button = driver.find_element(\"xpath\" , \"//button[contains(text(), 'Search')]\")\n",
    "# # search_button.click()\n",
    "\n",
    "input_location = driver.find_element(\"xpath\" , \"//input[@class = 'jobs-search-box__text-input' and @autocomplete=  'address-level2']\")\n",
    "input_location.send_keys(location_name)\n",
    "input_location.send_keys(Keys.ENTER)\n",
    "\n",
    "\n",
    "\n",
    "\n",
    "\n"
   ]
  },
  {
   "cell_type": "code",
   "execution_count": 14,
   "id": "27d1e6e0",
   "metadata": {},
   "outputs": [],
   "source": []
  },
  {
   "cell_type": "code",
   "execution_count": 15,
   "id": "cde8f7eb",
   "metadata": {},
   "outputs": [],
   "source": [
    "easy_apply_button = driver.find_element( \"xpath\" , \"//button[@aria-label='Easy Apply filter.']\") \n",
    "easy_apply_button.click()"
   ]
  },
  {
   "cell_type": "code",
   "execution_count": 16,
   "id": "cc820b63",
   "metadata": {},
   "outputs": [],
   "source": [
    "ul_element = driver.find_element(\"xpath\" , \"//div[contains(@class, 'jobs-search-results-list')]\") #driver.find_element(\"xpath\", '//div[contains(@class, \"jobs-search-results-list\")]')\n",
    "\n",
    "list_of_jobs = ul_element.find_elements( \"xpath\" , \"//li[@data-occludable-job-id]\")\n",
    "\n",
    "list_of_jobs[3].click()"
   ]
  },
  {
   "cell_type": "code",
   "execution_count": 18,
   "id": "c15394e8",
   "metadata": {},
   "outputs": [],
   "source": [
    "easy_apply_button = driver.find_element(\"xpath\", \"//button[contains(@aria-label , 'Easy Apply to')]\")\n",
    "easy_apply_button.click()"
   ]
  },
  {
   "cell_type": "code",
   "execution_count": null,
   "id": "e3773515",
   "metadata": {},
   "outputs": [],
   "source": [
    "# <button aria-label=\"Easy Apply to Data Scientist at OrusGroup\" id=\"ember2553\" class=\"jobs-apply-button artdeco-button artdeco-button--3 artdeco-button--primary ember-view\" data-job-id=\"3938936657\">        <svg role=\"none\" aria-hidden=\"true\" class=\"artdeco-button__icon artdeco-button__icon--in-bug\" xmlns=\"http://www.w3.org/2000/svg\" width=\"14\" height=\"14\" viewBox=\"0 0 14 14\" data-supported-dps=\"14x14\" data-test-icon=\"linkedin-bug-xxsmall\">\n",
    "# <!---->    \n",
    "#     <use href=\"#linkedin-bug-xxsmall\" width=\"14\" height=\"14\"></use>\n",
    "# </svg>\n",
    "\n",
    "\n",
    "# <span class=\"artdeco-button__text\">\n",
    "#     Easy Apply\n",
    "# </span></button>"
   ]
  },
  {
   "cell_type": "code",
   "execution_count": 1,
   "id": "8981dc62",
   "metadata": {},
   "outputs": [
    {
     "ename": "NameError",
     "evalue": "name 'driver' is not defined",
     "output_type": "error",
     "traceback": [
      "\u001b[1;31m---------------------------------------------------------------------------\u001b[0m",
      "\u001b[1;31mNameError\u001b[0m                                 Traceback (most recent call last)",
      "Cell \u001b[1;32mIn[1], line 1\u001b[0m\n\u001b[1;32m----> 1\u001b[0m find_form \u001b[38;5;241m=\u001b[39m \u001b[43mdriver\u001b[49m\u001b[38;5;241m.\u001b[39mfind_element(\u001b[38;5;124m\"\u001b[39m\u001b[38;5;124mxpath\u001b[39m\u001b[38;5;124m\"\u001b[39m , \u001b[38;5;124m\"\u001b[39m\u001b[38;5;124m//div[@class=\u001b[39m\u001b[38;5;124m'\u001b[39m\u001b[38;5;124mjobs-easy-apply-content\u001b[39m\u001b[38;5;124m'\u001b[39m\u001b[38;5;124m]\u001b[39m\u001b[38;5;124m\"\u001b[39m)\n\u001b[0;32m      2\u001b[0m form \u001b[38;5;241m=\u001b[39m find_form\u001b[38;5;241m.\u001b[39mfind_element(\u001b[38;5;124m\"\u001b[39m\u001b[38;5;124mxpath\u001b[39m\u001b[38;5;124m\"\u001b[39m, \u001b[38;5;124m\"\u001b[39m\u001b[38;5;124m//form\u001b[39m\u001b[38;5;124m\"\u001b[39m)\n\u001b[0;32m      3\u001b[0m inputs1 \u001b[38;5;241m=\u001b[39m form\u001b[38;5;241m.\u001b[39mfind_elements(\u001b[38;5;124m\"\u001b[39m\u001b[38;5;124mxpath\u001b[39m\u001b[38;5;124m\"\u001b[39m , \u001b[38;5;124m\"\u001b[39m\u001b[38;5;124m//div[contains(@class, \u001b[39m\u001b[38;5;124m'\u001b[39m\u001b[38;5;124mjobs-easy-apply-form-section__grouping\u001b[39m\u001b[38;5;124m'\u001b[39m\u001b[38;5;124m)]\u001b[39m\u001b[38;5;124m\"\u001b[39m)\n",
      "\u001b[1;31mNameError\u001b[0m: name 'driver' is not defined"
     ]
    }
   ],
   "source": [
    "apply = driver.find_element(\"xpath\" , \"//div[@class='jobs-easy-apply-content']\")\n",
    "form = apply.find_element(\"xpath\", \"//form\")\n",
    "inputs1 = form.find_elements(\"xpath\" , \"//div[contains(@class, 'jobs-easy-apply-form-section__grouping')]\")"
   ]
  },
  {
   "cell_type": "code",
   "execution_count": null,
   "id": "0c90f278",
   "metadata": {},
   "outputs": [],
   "source": [
    "easy_apply_button = driver.find_element( \"xpath\" , \"//button[@aria-label='Easy Apply filter.']\") \n",
    "easy_apply_button.click()"
   ]
  },
  {
   "cell_type": "code",
   "execution_count": 104,
   "id": "dadc5a4c",
   "metadata": {},
   "outputs": [
    {
     "name": "stdout",
     "output_type": "stream",
     "text": [
      "1\n",
      "2\n"
     ]
    }
   ],
   "source": [
    "# jobs-easy-apply-form-section__grouping\n",
    "inputs = form.find_elements(\"xpath\",\"//input[@class=' artdeco-text-input--input']\")\n",
    "print(len(inputs))\n",
    "selects = form.find_elements(\"xpath\" , \"//select\")\n",
    "print(len(selects))"
   ]
  },
  {
   "cell_type": "code",
   "execution_count": 105,
   "id": "377d95be",
   "metadata": {},
   "outputs": [
    {
     "data": {
      "text/plain": [
       "'Email address\\nEmail address\\nRequired\\n       Select an option\\n       ganeshrajk007@gmail.com\\n       ganesh_012@outlook.com\\n   Please enter a valid answer'"
      ]
     },
     "execution_count": 105,
     "metadata": {},
     "output_type": "execute_result"
    }
   ],
   "source": [
    "inputs1[0].text"
   ]
  },
  {
   "cell_type": "code",
   "execution_count": 106,
   "id": "ff5c9030",
   "metadata": {},
   "outputs": [
    {
     "data": {
      "text/plain": [
       "'\\n            \\n          <div class=\"fb-dash-form-element jobs-easy-apply-form-element mt1\" style=\"width:100%\" tabindex=\"-1\" data-test-form-element=\"\">\\n<!---->        <div data-test-text-entity-list-form-component=\"\">\\n    <label for=\"text-entity-list-form-component-formElement-urn-li-jobs-applyformcommon-easyApplyFormElement-3863029614-116782181-multipleChoice\" class=\"fb-dash-form-element__label\\n        fb-dash-form-element__label-title--is-required\" data-test-text-entity-list-form-title=\"\">\\n      <span aria-hidden=\"true\"><!---->Email address<!----></span><span class=\"visually-hidden\"><!---->Email address<!----></span>\\n    </label>\\n\\n    <span class=\"visually-hidden\" data-test-text-entity-list-form-required=\"\">\\n      Required\\n    </span>\\n\\n  <select id=\"text-entity-list-form-component-formElement-urn-li-jobs-applyformcommon-easyApplyFormElement-3863029614-116782181-multipleChoice\" aria-describedby=\"text-entity-list-form-component-formElement-urn-li-jobs-applyformcommon-easyApplyFormElement-3863029614-116782181-multipleChoice-error\" aria-required=\"true\" required=\"\" data-test-text-entity-list-form-select=\"\" class=\"fb-dash-form-element__error-field\">\\n      <option value=\"Select an option\">\\n        Select an option\\n      </option>\\n      <option value=\"ganeshrajk007@gmail.com\">\\n        ganeshrajk007@gmail.com\\n      </option>\\n      <option value=\"ganesh_012@outlook.com\">\\n        ganesh_012@outlook.com\\n      </option>\\n  </select>\\n\\n    <div id=\"text-entity-list-form-component-formElement-urn-li-jobs-applyformcommon-easyApplyFormElement-3863029614-116782181-multipleChoice-error\">\\n      <div id=\"ember3862\" class=\"artdeco-inline-feedback artdeco-inline-feedback--error ember-view mt1\" role=\"alert\" data-test-form-element-error-messages=\"\">    <li-icon aria-hidden=\"true\" type=\"error-pebble-icon\" class=\"artdeco-inline-feedback__icon\" size=\"small\"><svg xmlns=\"http://www.w3.org/2000/svg\" viewBox=\"0 0 16 16\" data-supported-dps=\"16x16\" fill=\"currentColor\" class=\"mercado-match\" width=\"16\" height=\"16\" focusable=\"false\">\\n      <path d=\"M10.8 1H5.2L1 5.2v5.6L5.2 15h5.6l4.2-4.2V5.2zM12 9H4V7h8z\"></path>\\n    </svg></li-icon>\\n\\n  <span class=\"artdeco-inline-feedback__message\">\\n      \\n          <!---->Please enter a valid answer<!---->\\n              \\n<!---->  </span>\\n</div>\\n</div>\\n</div>\\n<!---->  </div>\\n\\n  \\n        '"
      ]
     },
     "execution_count": 106,
     "metadata": {},
     "output_type": "execute_result"
    }
   ],
   "source": [
    "inputs1[0].get_attribute(\"innerHTML\")"
   ]
  },
  {
   "cell_type": "code",
   "execution_count": 107,
   "id": "39723c13",
   "metadata": {},
   "outputs": [
    {
     "name": "stdout",
     "output_type": "stream",
     "text": [
      "Email address\n",
      "Email address\n",
      "Required\n",
      "       Select an option\n",
      "       ganeshrajk007@gmail.com\n",
      "       ganesh_012@outlook.com\n",
      "   Please enter a valid answer\n"
     ]
    }
   ],
   "source": [
    "print(inputs1[0].text)\n",
    "select = inputs1[0].find_element(\"xpath\" , \"//select\")\n",
    "\n",
    "select2 = Select(select)\n",
    "select2.select_by_visible_text('ganeshrajk007@gmail.com')"
   ]
  },
  {
   "cell_type": "code",
   "execution_count": 119,
   "id": "626e4078",
   "metadata": {},
   "outputs": [
    {
     "name": "stdout",
     "output_type": "stream",
     "text": [
      "Phone country code\n",
      "Phone country code\n",
      "Required\n",
      "       Select an option\n",
      "       United States (+1)\n",
      "       Afghanistan (+93)\n",
      "       Aland Islands (+358)\n",
      "       Albania (+355)\n",
      "       Algeria (+213)\n",
      "       American Samoa (+1)\n",
      "       Andorra (+376)\n",
      "       Angola (+244)\n",
      "       Anguilla (+1)\n",
      "       Antarctica (+0)\n",
      "       Antigua and Barbuda (+1)\n",
      "       Argentina (+54)\n",
      "       Armenia (+374)\n",
      "       Aruba (+297)\n",
      "       Australia (+61)\n",
      "       Austria (+43)\n",
      "       Azerbaijan (+994)\n",
      "       Bahamas (+1)\n",
      "       Bahrain (+973)\n",
      "       Bangladesh (+880)\n",
      "       Barbados (+1)\n",
      "       Belarus (+375)\n",
      "       Belgium (+32)\n",
      "       Belize (+501)\n",
      "       Benin (+229)\n",
      "       Bermuda (+1)\n",
      "       Bhutan (+975)\n",
      "       Bolivia (+591)\n",
      "       Bosnia and Herzegovina (+387)\n",
      "       Botswana (+267)\n",
      "       Bouvet Island (+0)\n",
      "       Brazil (+55)\n",
      "       British Indian Ocean Territory (+246)\n",
      "       Brunei Darussalam (+673)\n",
      "       Bulgaria (+359)\n",
      "       Burkina Faso (+226)\n",
      "       Burundi (+257)\n",
      "       Cambodia (+855)\n",
      "       Cameroon (+237)\n",
      "       Canada (+1)\n",
      "       Cape Verde (+238)\n",
      "       Caribbean Nations (+0)\n",
      "       Cayman Islands (+1)\n",
      "       Central African Republic (+236)\n",
      "       Chad (+235)\n",
      "       Chile (+56)\n",
      "       China (+86)\n",
      "       Christmas Island (+61)\n",
      "       Cocos (Keeling) Islands (+61)\n",
      "       Colombia (+57)\n",
      "       Comoros (+269)\n",
      "       Congo (+242)\n",
      "       Cook Islands (+682)\n",
      "       Costa Rica (+506)\n",
      "       Cote D’Ivoire (Ivory Coast) (+225)\n",
      "       Croatia (+385)\n",
      "       Cuba (+53)\n",
      "       Cyprus (+357)\n",
      "       Czech Republic (+420)\n",
      "       Democratic Republic of the Congo (+243)\n",
      "       Denmark (+45)\n",
      "       Djibouti (+253)\n",
      "       Dominica (+1)\n",
      "       Dominican Republic (+1)\n",
      "       Ecuador (+593)\n",
      "       Egypt (+20)\n",
      "       El Salvador (+503)\n",
      "       Equatorial Guinea (+240)\n",
      "       Eritrea (+291)\n",
      "       Estonia (+372)\n",
      "       Ethiopia (+251)\n",
      "       Falkland Islands (Malvinas) (+500)\n",
      "       Faroe Islands (+298)\n",
      "       Federated States of Micronesia (+691)\n",
      "       Fiji (+679)\n",
      "       Finland (+358)\n",
      "       France (+33)\n",
      "       French Guiana (+594)\n",
      "       French Polynesia (+689)\n",
      "       French Southern Territories (+0)\n",
      "       Gabon (+241)\n",
      "       Gambia (+220)\n",
      "       Georgia (+995)\n",
      "       Germany (+49)\n",
      "       Ghana (+233)\n",
      "       Gibraltar (+350)\n",
      "       Greece (+30)\n",
      "       Greenland (+299)\n",
      "       Grenada (+1)\n",
      "       Guadeloupe (+590)\n",
      "       Guam (+1)\n",
      "       Guatemala (+502)\n",
      "       Guernsey (+44)\n",
      "       Guinea (+224)\n",
      "       Guinea-Bissau (+245)\n",
      "       Guyana (+592)\n",
      "       Haiti (+509)\n",
      "       Heard Island and McDonald Islands (+0)\n",
      "       Honduras (+504)\n",
      "       Hong Kong (+852)\n",
      "       Hungary (+36)\n",
      "       Iceland (+354)\n",
      "       India (+91)\n",
      "       Indonesia (+62)\n",
      "       Iran (+98)\n",
      "       Iraq (+964)\n",
      "       Ireland (+353)\n",
      "       Isle of Man (+44)\n",
      "       Israel (+972)\n",
      "       Italy (+39)\n",
      "       Jamaica (+1)\n",
      "       Japan (+81)\n",
      "       Jersey (+44)\n",
      "       Jordan (+962)\n",
      "       Kazakhstan (+7)\n",
      "       Kenya (+254)\n",
      "       Kiribati (+686)\n",
      "       Korea (+82)\n",
      "       Korea (North) (+850)\n",
      "       Kosovo (+383)\n",
      "       Kuwait (+965)\n",
      "       Kyrgyzstan (+996)\n",
      "       Laos (+856)\n",
      "       Latvia (+371)\n",
      "       Lebanon (+961)\n",
      "       Lesotho (+266)\n",
      "       Liberia (+231)\n",
      "       Libya (+218)\n",
      "       Liechtenstein (+423)\n",
      "       Lithuania (+370)\n",
      "       Luxembourg (+352)\n",
      "       Macao (+853)\n",
      "       Macedonia (+389)\n",
      "       Madagascar (+261)\n",
      "       Malawi (+265)\n",
      "       Malaysia (+60)\n",
      "       Maldives (+960)\n",
      "       Mali (+223)\n",
      "       Malta (+356)\n",
      "       Marshall Islands (+692)\n",
      "       Martinique (+596)\n",
      "       Mauritania (+222)\n",
      "       Mauritius (+230)\n",
      "       Mayotte (+262)\n",
      "       Mexico (+52)\n",
      "       Moldova (+373)\n",
      "       Monaco (+377)\n",
      "       Mongolia (+976)\n",
      "       Montenegro (+382)\n",
      "       Montserrat (+1)\n",
      "       Morocco (+212)\n",
      "       Mozambique (+258)\n",
      "       Myanmar (+95)\n",
      "       Namibia (+264)\n",
      "       Nauru (+674)\n",
      "       Nepal (+977)\n",
      "       Netherlands (+31)\n",
      "       Netherlands Antilles (+0)\n",
      "       New Caledonia (+687)\n",
      "       New Zealand (+64)\n",
      "       Nicaragua (+505)\n",
      "       Niger (+227)\n",
      "       Nigeria (+234)\n",
      "       Niue (+683)\n",
      "       Norfolk Island (+672)\n",
      "       Northern Mariana Islands (+1)\n",
      "       Norway (+47)\n",
      "       Pakistan (+92)\n",
      "       Palau (+680)\n",
      "       Palestinian Territory (+970)\n",
      "       Panama (+507)\n",
      "       Papua New Guinea (+675)\n",
      "       Paraguay (+595)\n",
      "       Peru (+51)\n",
      "       Philippines (+63)\n",
      "       Pitcairn (+0)\n",
      "       Poland (+48)\n",
      "       Portugal (+351)\n",
      "       Puerto Rico (+1)\n",
      "       Qatar (+974)\n",
      "       Reunion (+262)\n",
      "       Romania (+40)\n",
      "       Russian Federation (+7)\n",
      "       Rwanda (+250)\n",
      "       S. Georgia and S. Sandwich Islands (+0)\n",
      "       Saint Helena (+290)\n",
      "       Saint Kitts and Nevis (+1)\n",
      "       Saint Lucia (+1)\n",
      "       Saint Pierre and Miquelon (+508)\n",
      "       Saint Vincent and the Grenadines (+1)\n",
      "       Samoa (+685)\n",
      "       San Marino (+378)\n",
      "       Sao Tome and Principe (+239)\n",
      "       Saudi Arabia (+966)\n",
      "       Senegal (+221)\n",
      "       Serbia (+381)\n",
      "       Serbia and Montenegro (+0)\n",
      "       Seychelles (+248)\n",
      "       Sierra Leone (+232)\n",
      "       Singapore (+65)\n",
      "       Slovak Republic (+421)\n",
      "       Slovenia (+386)\n",
      "       Solomon Islands (+677)\n",
      "       Somalia (+252)\n",
      "       South Africa (+27)\n",
      "       South Sudan (+211)\n",
      "       Spain (+34)\n",
      "       Sri Lanka (+94)\n",
      "       Sudan (+249)\n",
      "       Sultanate of Oman (+968)\n",
      "       Suriname (+597)\n",
      "       Svalbard and Jan Mayen (+47)\n",
      "       Swaziland (+268)\n",
      "       Sweden (+46)\n",
      "       Switzerland (+41)\n",
      "       Syria (+963)\n",
      "       Taiwan (+886)\n",
      "       Tajikistan (+992)\n",
      "       Tanzania (+255)\n",
      "       Thailand (+66)\n",
      "       Timor-Leste (+670)\n",
      "       Togo (+228)\n",
      "       Tokelau (+690)\n",
      "       Tonga (+676)\n",
      "       Trinidad and Tobago (+1)\n",
      "       Tunisia (+216)\n",
      "       Turkey (+90)\n",
      "       Turkmenistan (+993)\n",
      "       Turks and Caicos Islands (+1)\n",
      "       Tuvalu (+688)\n",
      "       Uganda (+256)\n",
      "       Ukraine (+380)\n",
      "       United Arab Emirates (+971)\n",
      "       United Kingdom (+44)\n",
      "       Uruguay (+598)\n",
      "       Uzbekistan (+998)\n",
      "       Vanuatu (+678)\n",
      "       Vatican City State (Holy See) (+39)\n",
      "       Venezuela (+58)\n",
      "       Vietnam (+84)\n",
      "       Virgin Islands (British) (+1)\n",
      "       Virgin Islands (U.S.) (+1)\n",
      "       Wallis and Futuna (+681)\n",
      "       Western Sahara (+212)\n",
      "       Yemen (+967)\n",
      "       Zambia (+260)\n",
      "       Zimbabwe (+263)\n",
      "  \n"
     ]
    }
   ],
   "source": [
    "print(inputs1[1].text)\n",
    "select = inputs1[1].find_element(\"xpath\" , \".//select\")\n",
    "\n",
    "select = Select(select)\n",
    "select.select_by_index(1)"
   ]
  },
  {
   "cell_type": "code",
   "execution_count": 121,
   "id": "6b3b481f",
   "metadata": {},
   "outputs": [
    {
     "name": "stdout",
     "output_type": "stream",
     "text": [
      "Mobile phone number\n"
     ]
    }
   ],
   "source": [
    "print(inputs1[2].text)\n",
    "input_num = inputs1[2].find_element(\"xpath\" , \".//input\")\n",
    "\n",
    "input_num.send_keys(\"9589017753\")"
   ]
  },
  {
   "cell_type": "code",
   "execution_count": 122,
   "id": "3356d2a0",
   "metadata": {},
   "outputs": [],
   "source": [
    "button = form.find_element(\"xpath\" , \".//button\")\n",
    "button.click()"
   ]
  },
  {
   "cell_type": "code",
   "execution_count": null,
   "id": "acd892de",
   "metadata": {},
   "outputs": [],
   "source": [
    "button1 = "
   ]
  },
  {
   "cell_type": "code",
   "execution_count": 123,
   "id": "a95c82a8",
   "metadata": {},
   "outputs": [],
   "source": [
    "find_form = driver.find_element(\"xpath\" , \"//div[@class='jobs-easy-apply-content']\")\n",
    "form = find_form.find_element(\"xpath\", \"//form\")"
   ]
  },
  {
   "cell_type": "code",
   "execution_count": 124,
   "id": "1a1a8112",
   "metadata": {},
   "outputs": [],
   "source": [
    "resumes = form.find_elements(\"xpath\" ,\".//div[contains(@class, 'ui-attachment jobs-document-upload-redesign-card__container')]\")\n",
    "radioButton = resumes[0].find_element(\"xpath\", \".//input[@type = 'radio']\")\n",
    "resumes[1].click()"
   ]
  },
  {
   "cell_type": "code",
   "execution_count": 125,
   "id": "b7ebfe18",
   "metadata": {
    "scrolled": true
   },
   "outputs": [
    {
     "data": {
      "text/plain": [
       "2"
      ]
     },
     "execution_count": 125,
     "metadata": {},
     "output_type": "execute_result"
    }
   ],
   "source": [
    "len(resumes)"
   ]
  },
  {
   "cell_type": "code",
   "execution_count": 134,
   "id": "a420ddad",
   "metadata": {},
   "outputs": [],
   "source": [
    "radioButton = resumes[0].find_element(\"xpath\", \".//input[@type = 'radio']\")"
   ]
  },
  {
   "cell_type": "code",
   "execution_count": 137,
   "id": "019501de",
   "metadata": {},
   "outputs": [],
   "source": [
    "driver.execute_script(\"arguments[0].click();\", radioButton)"
   ]
  },
  {
   "cell_type": "code",
   "execution_count": 139,
   "id": "f36ecefe",
   "metadata": {},
   "outputs": [],
   "source": [
    "resumes[1].click()"
   ]
  },
  {
   "cell_type": "code",
   "execution_count": 1,
   "id": "46f93277",
   "metadata": {},
   "outputs": [],
   "source": [
    "# take data from excel\n",
    "\n",
    "# iterator\n",
    "# resume finder\n",
    "# questions and answers\n",
    "# answer using the right kind of button\n",
    "# find submit, review or next button and click it. \n",
    "\n",
    "\n",
    "# scroller page "
   ]
  },
  {
   "cell_type": "code",
   "execution_count": null,
   "id": "ab746e05",
   "metadata": {},
   "outputs": [],
   "source": []
  }
 ],
 "metadata": {
  "kernelspec": {
   "display_name": "Python 3 (ipykernel)",
   "language": "python",
   "name": "python3"
  },
  "language_info": {
   "codemirror_mode": {
    "name": "ipython",
    "version": 3
   },
   "file_extension": ".py",
   "mimetype": "text/x-python",
   "name": "python",
   "nbconvert_exporter": "python",
   "pygments_lexer": "ipython3",
   "version": "3.11.7"
  }
 },
 "nbformat": 4,
 "nbformat_minor": 5
}
