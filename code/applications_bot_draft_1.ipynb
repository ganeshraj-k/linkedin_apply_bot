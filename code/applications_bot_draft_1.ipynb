{
 "cells": [
  {
   "cell_type": "code",
   "execution_count": 64,
   "id": "8d9d7bf9",
   "metadata": {},
   "outputs": [],
   "source": [
    "from selenium import webdriver\n",
    "from selenium.webdriver.edge.service import Service\n",
    "from selenium.webdriver.edge.options import Options\n",
    "from selenium.webdriver.common.keys import Keys\n",
    "from selenium.webdriver.common.by import By\n",
    "from bs4 import BeautifulSoup\n",
    "from selenium.webdriver.support.ui import Select\n",
    "from selenium.webdriver.support.ui import WebDriverWait\n",
    "import random\n",
    "from selenium.webdriver.support import expected_conditions as EC\n",
    "# Set the path to your downloaded Edge WebDriver executable\n",
    "\n",
    "edge_driver_path = 'msedgedriver.exe' \n",
    "edge_service = Service(edge_driver_path)\n",
    "# Initialize the Edge Service"
   ]
  },
  {
   "cell_type": "code",
   "execution_count": 18,
   "id": "d10a2795",
   "metadata": {},
   "outputs": [],
   "source": [
    "# Initialize the Edge WebDriver\n",
    "driver = webdriver.Edge(service=edge_service)"
   ]
  },
  {
   "cell_type": "code",
   "execution_count": 3,
   "id": "d11a6c1c",
   "metadata": {},
   "outputs": [],
   "source": [
    "userdata = {}\n"
   ]
  },
  {
   "cell_type": "code",
   "execution_count": 22,
   "id": "15689832",
   "metadata": {},
   "outputs": [],
   "source": [
    "linkedin_url = \"https://www.linkedin.com\"\n",
    "username = \"ganesh_012@outlook.com\"\n",
    "password = \"Password123\"\n",
    "role = \"Video Editor\"\n",
    "location = \"United States\""
   ]
  },
  {
   "cell_type": "code",
   "execution_count": 41,
   "id": "44db0d90",
   "metadata": {},
   "outputs": [],
   "source": [
    "#opening linkedin \n",
    "def get_url(url):\n",
    "    driver.get(url)\n",
    "    driver.maximize_window()\n",
    "    \n",
    "    \n",
    "def sign_in(username, password):\n",
    "    signin_page = driver.find_element(\"xpath\", \".//a[contains(text(), 'Sign in') and @href]\")\n",
    "    signin_page.click()\n",
    "    username_field = driver.find_element(\"xpath\" , \".//input[@id = 'username']\")\n",
    "    password_field = driver.find_element(\"xpath\" , \".//input[@id = 'password']\")\n",
    "    submit_button = driver.find_element(\"xpath\" , \".//button[@type = 'submit']\")\n",
    "    \n",
    "    username_field.send_keys(username)\n",
    "    password_field.send_keys(password)\n",
    "    submit_button.click()\n",
    "\n",
    "    \n",
    "def job_search(role, location):\n",
    "    get_url(\"https://www.linkedin.com/jobs\")\n",
    "    role_input = driver.find_element(\"xpath\" , \".//input[@class = 'jobs-search-box__text-input jobs-search-box__keyboard-text-input jobs-search-global-typeahead__input']\")\n",
    "    role_input.send_keys(role)\n",
    "    driver.implicitly_wait(2)\n",
    "    location_input = driver.find_element(\"xpath\" , \".//input[@class = 'jobs-search-box__text-input' and @autocomplete=  'address-level2']\")\n",
    "    location_input.send_keys(location)\n",
    "    #submit\n",
    "    role_input.send_keys(Keys.ENTER)\n",
    "    \n",
    "# def add_resume(i):\n",
    "#     # resumes = driver.find_elements(\"xpath\" ,\"//div[contains(@class, 'ui-attachment jobs-document-upload-redesign-card__container')]\")\n",
    "#     # resumes[i].click()\n",
    "    \n",
    "    \n",
    "def applyjob(job_card):\n",
    "    job_card.click()\n",
    "    easy_apply_button = driver.find_element(\"xpath\", \"//button[contains(@aria-label , 'Easy Apply to')]\")\n",
    "    easy_apply_button.click()\n",
    "    find_form = driver.find_element(\"xpath\" , \"//div[@class='jobs-easy-apply-content']\")\n",
    "    form = find_form.find_element(\"xpath\", \"//form\")\n",
    "    inputs1 = form.find_elements(\"xpath\" , \"//div[contains(@class, 'jobs-easy-apply-form-section__grouping')]\")\n",
    "    \n",
    "   \n",
    "def answer_select(field , answer):\n",
    "    select = field.find_element(\"xpath\",\".//select[contains(@id, 'text-entity-list-form-component-formElement')]\")\n",
    "    select = Select(select)\n",
    "    select.select_by_value('{}'.format(answer))\n",
    "\n",
    "def answer_text(field, answer):\n",
    "    text = field.find_element(\"xpath\" , \".//input[@type = 'text']\")\n",
    "    text.send_keys(answer)\n",
    "    \n",
    "    \n",
    "def answer_radio(field , answer):\n",
    "    radio_select = field.find_element(\"xpath\" , \".//fieldset\")\n",
    "    div_answer  = radio_select.find_element(\"xpath\" , \".//input[@type='radio' and @value= '{}']\".format(answer))\n",
    "    driver.execute_script(\"arguments[0].click();\", div_answer)\n",
    "        \n",
    "    \n",
    "\n",
    "def find_next(form):\n",
    "    button = form.find_element(\"xpath\" , \".//button[@aria-label = 'Continue to next step' or @aria-label = 'Review your application']\")\n",
    "    button.click()\n",
    "\n",
    "def theresubmit(driver):\n",
    "    buttons = driver.find_elements( \"xpath\" , \".//button[@aria-label = 'Submit application']\") \n",
    "    return len(buttons) and True\n",
    "\n",
    "def find_submit(driver):\n",
    "    button = driver.find_element( \"xpath\" , \".//button[@aria-label = 'Submit application']\") \n",
    "    button.click()\n",
    "\n",
    "\n",
    "    \n",
    "\n",
    "def there_resume(form):\n",
    "    resumes = form.find_elements(\"xpath\" ,\".//div[contains(@class, 'ui-attachment jobs-document-upload-redesign-card__container')]\")\n",
    "    return len(resumes) and True\n",
    "    \n",
    "\n",
    "def enter_resume(form, number):\n",
    "    resumes = form.find_elements(\"xpath\" ,\".//div[contains(@class, 'ui-attachment jobs-document-upload-redesign-card__container')]\")\n",
    "    resumes[number].click()    \n",
    "    \n",
    "    \n",
    "def QnA(question):\n",
    "    answer = 0\n",
    "    if \"mail\" in question:\n",
    "        answer =  'ganesh_012@outlook.com'\n",
    "    elif 'country code' in question:\n",
    "        answer =  'United States (+1)'\n",
    "    elif 'phone number' in question:\n",
    "        answer =  '8483138525'\n",
    "    elif 'python' in question:\n",
    "        answer =  3\n",
    "    elif 'sql' in question:\n",
    "        answer =  2\n",
    "    elif 'how many' in question:\n",
    "        answer =  1\n",
    "    elif 'are you' in question:\n",
    "        answer =  'Yes'\n",
    "    elif 'have you' in question:\n",
    "        answer =  'Yes'\n",
    "    elif \"experience\" in question:\n",
    "        answer = \"1\"\n",
    "    elif \"sponsor\" in question:\n",
    "        answer = \"Yes\"\n",
    "    elif 'do you ' in question:\n",
    "        answer = \"Yes\"\n",
    "    elif \"have you \" in question:\n",
    "        answer = \"Yes\"\n",
    "    elif \"US citizen\" in question:\n",
    "        answer = \"No\"\n",
    "    elif \"are you \" in question:\n",
    "        answer = \"Yes\"\n",
    "    elif \"salary\" in question:\n",
    "        answer = '100000$ per annum'\n",
    "    elif \"can you\" in question:\n",
    "        answer = \"Yes\"\n",
    "    elif \"gender\" in question:\n",
    "        answer = \"Male\"\n",
    "    elif \"race\" in question:\n",
    "        answer = \"Wish not to answer\"\n",
    "    elif \"lgbtq\" in question:\n",
    "        answer = \"Wish not to answer\"\n",
    "    elif \"ethnicity\" in question:\n",
    "        answer = \"Wish not to answer\"\n",
    "    elif \"nationality\" in question:\n",
    "        answer = \"Wish not to answer\"\n",
    "    elif \"government\" in question:\n",
    "        answer = \"I do not wish to self-identify\"\n",
    "    elif \"are you legally\" in question:\n",
    "        answer = \"Yes\"\n",
    "   \n",
    "        \n",
    "    return answer\n",
    "def buttontype(input_field):\n",
    "    #text = input_field.find_elements(\"xpath\", \".//input[@class='artdeco-text-input--input' and @type='text']\")\n",
    "    text = input_field.find_elements(\"xpath\", \".//input[@type='text']\")\n",
    "    multi_select = input_field.find_elements(\"xpath\",\".//select[contains(@id, 'text-entity-list-form-component-formElement')]\")\n",
    "    radio_select = input_field.find_elements(\"xpath\" , \".//fieldset\")\n",
    "\n",
    "    if len(text) > 0 :\n",
    "        return 'text'\n",
    "    elif len(multi_select) > 0:\n",
    "        return 'multi_select'\n",
    "    else:\n",
    "        return 'radio'\n",
    "    \n",
    "    \n",
    "                                            \n",
    "                                             \n",
    "\n",
    "\n",
    "\n",
    "    \n",
    "        \n",
    "    \n",
    "def iterator(current_page, driver):\n",
    "    currentpage = current_page\n",
    "    nextpageexists = True\n",
    "    \n",
    "    while nextpageexists:\n",
    "        search_results = driver.find_element(\"xpath\" , \".//div[contains(@class, 'jobs-search-results-list')]\")\n",
    "        list_of_jobs = search_results.find_elements( \"xpath\" , \"//li[@data-occludable-job-id]\")\n",
    "        \n",
    "        driver.execute_script(\"arguments[0].scrollIntoView();\", list_of_jobs[-1])\n",
    "        for job in list_of_jobs:\n",
    "            job.click()\n",
    "            driver.implicitly_wait(random.randint(1,3))\n",
    "        \n",
    "        try:\n",
    "            next_page = driver.find_element(\"xpath\" , \"//li[@data-test-pagination-page-btn = {}]\".format(currentpage+1))\n",
    "            next_page.click()\n",
    "            currentpage+=1\n",
    "        except ReachedEnd as r:\n",
    "            print(f\"An error occurred: {r}\")\n",
    "            nextpageexists = False\n",
    "            \n",
    "        \n",
    "def apply_filters():\n",
    "    easy_apply_button = driver.find_element( \"xpath\" , \"//button[contains(@aria-label ,'Easy Apply filter')]\") \n",
    "    easy_apply_button.click()\n",
    "        \n",
    " "
   ]
  },
  {
   "cell_type": "code",
   "execution_count": 38,
   "id": "6a9f2e7f-b9bd-4016-9a72-e4bc6e385131",
   "metadata": {},
   "outputs": [],
   "source": [
    "filters_list = driver.find_element(\"xpath\" , \"//ul[contains( @class , 'search-reusables__filter-list') ]\")\n",
    "filter_elements = filters_list.find_elements(\"xpath\" , \".//li[@class = 'search-reusables__primary-filter'] \")"
   ]
  },
  {
   "cell_type": "code",
   "execution_count": 39,
   "id": "04fd51a5-b2a1-4d1d-8b2c-c0153d210ee3",
   "metadata": {},
   "outputs": [],
   "source": [
    "date_posted = filters_list.find_element(\"xpath\" , \".//div[@data-basic-filter-parameter-name = 'timePostedRange']  \" )\n",
    "salary = filters_list.find_element(\"xpath\" , \".//div[@data-basic-filter-parameter-name = 'salaryBucketV2']  \" )\n",
    "hybrid = filters_list.find_element(\"xpath\" , \".//div[@data-basic-filter-parameter-name = 'workplaceType']  \" )\n",
    "experience = filters_list.find_element(\"xpath\" , \".//div[@data-basic-filter-parameter-name = 'experience']  \" )"
   ]
  },
  {
   "cell_type": "code",
   "execution_count": 42,
   "id": "0379a3e3-b25e-4017-a170-e14b3568c528",
   "metadata": {},
   "outputs": [],
   "source": [
    "date_posted.click()\n",
    "salary.click()\n",
    "hybrid.click()\n",
    "experience.click()"
   ]
  },
  {
   "cell_type": "code",
   "execution_count": 43,
   "id": "c5fcf142-2f30-4d8e-8681-c277d265ae93",
   "metadata": {},
   "outputs": [],
   "source": [
    "date_options = date_posted.find_elements( \"xpath\" , \".//li[@class = 'search-reusables__collection-values-item'] \")"
   ]
  },
  {
   "cell_type": "code",
   "execution_count": 49,
   "id": "d55a422b-dd62-498f-99c4-5f2e896c9cec",
   "metadata": {},
   "outputs": [],
   "source": [
    "date_posted.click()"
   ]
  },
  {
   "cell_type": "code",
   "execution_count": 71,
   "id": "533ca542-fcae-4aa6-8fbd-db2b9e0963d9",
   "metadata": {},
   "outputs": [
    {
     "ename": "StaleElementReferenceException",
     "evalue": "Message: stale element reference: stale element not found in the current frame\n  (Session info: MicrosoftEdge=126.0.2592.81); For documentation on this error, please visit: https://www.selenium.dev/documentation/webdriver/troubleshooting/errors#stale-element-reference-exception\nStacktrace:\n\tGetHandleVerifier [0x00007FF729DF8132+13538]\n\tMicrosoft::Applications::Events::EventProperty::~EventProperty [0x00007FF729D81DE9+595465]\n\t(No symbol) [0x00007FF729B9E6CF]\n\t(No symbol) [0x00007FF729BA37C9]\n\t(No symbol) [0x00007FF729BA56CB]\n\t(No symbol) [0x00007FF729BA5770]\n\t(No symbol) [0x00007FF729BE2516]\n\t(No symbol) [0x00007FF729BE2A1F]\n\t(No symbol) [0x00007FF729BD854C]\n\t(No symbol) [0x00007FF729C0203F]\n\t(No symbol) [0x00007FF729BD8147]\n\t(No symbol) [0x00007FF729BD800D]\n\t(No symbol) [0x00007FF729C022E0]\n\t(No symbol) [0x00007FF729BD8147]\n\t(No symbol) [0x00007FF729C1B1EE]\n\t(No symbol) [0x00007FF729C01C63]\n\t(No symbol) [0x00007FF729BD766E]\n\t(No symbol) [0x00007FF729BD683C]\n\t(No symbol) [0x00007FF729BD7221]\n\tMicrosoft::Applications::Events::EventProperty::to_string [0x00007FF729FB96D4+1099860]\n\tMicrosoft::Applications::Events::EventProperty::~EventProperty [0x00007FF729CFD8FC+53532]\n\tMicrosoft::Applications::Events::EventProperty::~EventProperty [0x00007FF729CF0E25+1605]\n\tMicrosoft::Applications::Events::EventProperty::to_string [0x00007FF729FB8665+1095653]\n\tMicrosoft::Applications::Events::ILogConfiguration::operator* [0x00007FF729D8C961+27777]\n\tMicrosoft::Applications::Events::ILogConfiguration::operator* [0x00007FF729D86CE4+4100]\n\tMicrosoft::Applications::Events::ILogConfiguration::operator* [0x00007FF729D86E1B+4411]\n\tMicrosoft::Applications::Events::EventProperty::~EventProperty [0x00007FF729D7CFA0+575424]\n\tBaseThreadInitThunk [0x00007FFA57DF257D+29]\n\tRtlUserThreadStart [0x00007FFA5978AF28+40]\n",
     "output_type": "error",
     "traceback": [
      "\u001b[1;31m---------------------------------------------------------------------------\u001b[0m",
      "\u001b[1;31mStaleElementReferenceException\u001b[0m            Traceback (most recent call last)",
      "Cell \u001b[1;32mIn[71], line 1\u001b[0m\n\u001b[1;32m----> 1\u001b[0m date_options \u001b[38;5;241m=\u001b[39m date_posted\u001b[38;5;241m.\u001b[39mfind_elements( \u001b[38;5;124m\"\u001b[39m\u001b[38;5;124mxpath\u001b[39m\u001b[38;5;124m\"\u001b[39m , \u001b[38;5;124m\"\u001b[39m\u001b[38;5;124m.//li[@class = \u001b[39m\u001b[38;5;124m'\u001b[39m\u001b[38;5;124msearch-reusables__collection-values-item\u001b[39m\u001b[38;5;124m'\u001b[39m\u001b[38;5;124m] \u001b[39m\u001b[38;5;124m\"\u001b[39m)\n\u001b[0;32m      2\u001b[0m label \u001b[38;5;241m=\u001b[39m date_options[\u001b[38;5;241m3\u001b[39m]\u001b[38;5;241m.\u001b[39mfind_element(\u001b[38;5;124m\"\u001b[39m\u001b[38;5;124mxpath\u001b[39m\u001b[38;5;124m\"\u001b[39m , \u001b[38;5;124m\"\u001b[39m\u001b[38;5;124m.//label\u001b[39m\u001b[38;5;124m\"\u001b[39m)\n\u001b[0;32m      3\u001b[0m label\u001b[38;5;241m.\u001b[39mclick()\n",
      "File \u001b[1;32m~\\AppData\\Roaming\\Python\\Python311\\site-packages\\selenium\\webdriver\\remote\\webelement.py:439\u001b[0m, in \u001b[0;36mWebElement.find_elements\u001b[1;34m(self, by, value)\u001b[0m\n\u001b[0;32m    436\u001b[0m     by \u001b[38;5;241m=\u001b[39m By\u001b[38;5;241m.\u001b[39mCSS_SELECTOR\n\u001b[0;32m    437\u001b[0m     value \u001b[38;5;241m=\u001b[39m \u001b[38;5;124mf\u001b[39m\u001b[38;5;124m'\u001b[39m\u001b[38;5;124m[name=\u001b[39m\u001b[38;5;124m\"\u001b[39m\u001b[38;5;132;01m{\u001b[39;00mvalue\u001b[38;5;132;01m}\u001b[39;00m\u001b[38;5;124m\"\u001b[39m\u001b[38;5;124m]\u001b[39m\u001b[38;5;124m'\u001b[39m\n\u001b[1;32m--> 439\u001b[0m \u001b[38;5;28;01mreturn\u001b[39;00m \u001b[38;5;28mself\u001b[39m\u001b[38;5;241m.\u001b[39m_execute(Command\u001b[38;5;241m.\u001b[39mFIND_CHILD_ELEMENTS, {\u001b[38;5;124m\"\u001b[39m\u001b[38;5;124musing\u001b[39m\u001b[38;5;124m\"\u001b[39m: by, \u001b[38;5;124m\"\u001b[39m\u001b[38;5;124mvalue\u001b[39m\u001b[38;5;124m\"\u001b[39m: value})[\u001b[38;5;124m\"\u001b[39m\u001b[38;5;124mvalue\u001b[39m\u001b[38;5;124m\"\u001b[39m]\n",
      "File \u001b[1;32m~\\AppData\\Roaming\\Python\\Python311\\site-packages\\selenium\\webdriver\\remote\\webelement.py:395\u001b[0m, in \u001b[0;36mWebElement._execute\u001b[1;34m(self, command, params)\u001b[0m\n\u001b[0;32m    393\u001b[0m     params \u001b[38;5;241m=\u001b[39m {}\n\u001b[0;32m    394\u001b[0m params[\u001b[38;5;124m\"\u001b[39m\u001b[38;5;124mid\u001b[39m\u001b[38;5;124m\"\u001b[39m] \u001b[38;5;241m=\u001b[39m \u001b[38;5;28mself\u001b[39m\u001b[38;5;241m.\u001b[39m_id\n\u001b[1;32m--> 395\u001b[0m \u001b[38;5;28;01mreturn\u001b[39;00m \u001b[38;5;28mself\u001b[39m\u001b[38;5;241m.\u001b[39m_parent\u001b[38;5;241m.\u001b[39mexecute(command, params)\n",
      "File \u001b[1;32m~\\AppData\\Roaming\\Python\\Python311\\site-packages\\selenium\\webdriver\\remote\\webdriver.py:347\u001b[0m, in \u001b[0;36mWebDriver.execute\u001b[1;34m(self, driver_command, params)\u001b[0m\n\u001b[0;32m    345\u001b[0m response \u001b[38;5;241m=\u001b[39m \u001b[38;5;28mself\u001b[39m\u001b[38;5;241m.\u001b[39mcommand_executor\u001b[38;5;241m.\u001b[39mexecute(driver_command, params)\n\u001b[0;32m    346\u001b[0m \u001b[38;5;28;01mif\u001b[39;00m response:\n\u001b[1;32m--> 347\u001b[0m     \u001b[38;5;28mself\u001b[39m\u001b[38;5;241m.\u001b[39merror_handler\u001b[38;5;241m.\u001b[39mcheck_response(response)\n\u001b[0;32m    348\u001b[0m     response[\u001b[38;5;124m\"\u001b[39m\u001b[38;5;124mvalue\u001b[39m\u001b[38;5;124m\"\u001b[39m] \u001b[38;5;241m=\u001b[39m \u001b[38;5;28mself\u001b[39m\u001b[38;5;241m.\u001b[39m_unwrap_value(response\u001b[38;5;241m.\u001b[39mget(\u001b[38;5;124m\"\u001b[39m\u001b[38;5;124mvalue\u001b[39m\u001b[38;5;124m\"\u001b[39m, \u001b[38;5;28;01mNone\u001b[39;00m))\n\u001b[0;32m    349\u001b[0m     \u001b[38;5;28;01mreturn\u001b[39;00m response\n",
      "File \u001b[1;32m~\\AppData\\Roaming\\Python\\Python311\\site-packages\\selenium\\webdriver\\remote\\errorhandler.py:229\u001b[0m, in \u001b[0;36mErrorHandler.check_response\u001b[1;34m(self, response)\u001b[0m\n\u001b[0;32m    227\u001b[0m         alert_text \u001b[38;5;241m=\u001b[39m value[\u001b[38;5;124m\"\u001b[39m\u001b[38;5;124malert\u001b[39m\u001b[38;5;124m\"\u001b[39m]\u001b[38;5;241m.\u001b[39mget(\u001b[38;5;124m\"\u001b[39m\u001b[38;5;124mtext\u001b[39m\u001b[38;5;124m\"\u001b[39m)\n\u001b[0;32m    228\u001b[0m     \u001b[38;5;28;01mraise\u001b[39;00m exception_class(message, screen, stacktrace, alert_text)  \u001b[38;5;66;03m# type: ignore[call-arg]  # mypy is not smart enough here\u001b[39;00m\n\u001b[1;32m--> 229\u001b[0m \u001b[38;5;28;01mraise\u001b[39;00m exception_class(message, screen, stacktrace)\n",
      "\u001b[1;31mStaleElementReferenceException\u001b[0m: Message: stale element reference: stale element not found in the current frame\n  (Session info: MicrosoftEdge=126.0.2592.81); For documentation on this error, please visit: https://www.selenium.dev/documentation/webdriver/troubleshooting/errors#stale-element-reference-exception\nStacktrace:\n\tGetHandleVerifier [0x00007FF729DF8132+13538]\n\tMicrosoft::Applications::Events::EventProperty::~EventProperty [0x00007FF729D81DE9+595465]\n\t(No symbol) [0x00007FF729B9E6CF]\n\t(No symbol) [0x00007FF729BA37C9]\n\t(No symbol) [0x00007FF729BA56CB]\n\t(No symbol) [0x00007FF729BA5770]\n\t(No symbol) [0x00007FF729BE2516]\n\t(No symbol) [0x00007FF729BE2A1F]\n\t(No symbol) [0x00007FF729BD854C]\n\t(No symbol) [0x00007FF729C0203F]\n\t(No symbol) [0x00007FF729BD8147]\n\t(No symbol) [0x00007FF729BD800D]\n\t(No symbol) [0x00007FF729C022E0]\n\t(No symbol) [0x00007FF729BD8147]\n\t(No symbol) [0x00007FF729C1B1EE]\n\t(No symbol) [0x00007FF729C01C63]\n\t(No symbol) [0x00007FF729BD766E]\n\t(No symbol) [0x00007FF729BD683C]\n\t(No symbol) [0x00007FF729BD7221]\n\tMicrosoft::Applications::Events::EventProperty::to_string [0x00007FF729FB96D4+1099860]\n\tMicrosoft::Applications::Events::EventProperty::~EventProperty [0x00007FF729CFD8FC+53532]\n\tMicrosoft::Applications::Events::EventProperty::~EventProperty [0x00007FF729CF0E25+1605]\n\tMicrosoft::Applications::Events::EventProperty::to_string [0x00007FF729FB8665+1095653]\n\tMicrosoft::Applications::Events::ILogConfiguration::operator* [0x00007FF729D8C961+27777]\n\tMicrosoft::Applications::Events::ILogConfiguration::operator* [0x00007FF729D86CE4+4100]\n\tMicrosoft::Applications::Events::ILogConfiguration::operator* [0x00007FF729D86E1B+4411]\n\tMicrosoft::Applications::Events::EventProperty::~EventProperty [0x00007FF729D7CFA0+575424]\n\tBaseThreadInitThunk [0x00007FFA57DF257D+29]\n\tRtlUserThreadStart [0x00007FFA5978AF28+40]\n"
     ]
    }
   ],
   "source": [
    "date_options = date_posted.find_elements( \"xpath\" , \".//li[@class = 'search-reusables__collection-values-item'] \")\n",
    "label = date_options[3].find_element(\"xpath\" , \".//label\")\n",
    "label.click()\n",
    "results = date_posted.find_element(\"xpath\" , \".//button[@class = 'artdeco-button artdeco-button--2 artdeco-button--primary ember-view ml2'] \")\n",
    "results.click()"
   ]
  },
  {
   "cell_type": "code",
   "execution_count": null,
   "id": "35a675ce-03a2-4db9-8976-c062bc96d6d8",
   "metadata": {},
   "outputs": [],
   "source": []
  },
  {
   "cell_type": "code",
   "execution_count": null,
   "id": "3e705fd1-a36f-4d1b-bfc0-bc0431b3adf3",
   "metadata": {},
   "outputs": [],
   "source": [
    "def apply_filters():\n",
    "    easy_apply_button = driver.find_element( \"xpath\" , \"//button[@aria-label='Easy Apply filter.']\") \n",
    "    easy_apply_button.click()\n",
    "    \n",
    "        "
   ]
  },
  {
   "cell_type": "code",
   "execution_count": 14,
   "id": "3826e179-2a55-47b2-8954-b9dcc83ccb63",
   "metadata": {
    "scrolled": true
   },
   "outputs": [],
   "source": [
    "apply_filters()"
   ]
  },
  {
   "cell_type": "code",
   "execution_count": 47,
   "id": "035a4b64-a94b-4329-8888-aa718430fb8f",
   "metadata": {},
   "outputs": [],
   "source": []
  },
  {
   "cell_type": "code",
   "execution_count": 48,
   "id": "196ecd42-4c90-49f4-8dcb-5275d9c28a83",
   "metadata": {},
   "outputs": [],
   "source": [
    "done_button  =  driver.find_element(\"xpath\" , \".//button[@aria-label = 'Dismiss']\")\n",
    "done_button.click()"
   ]
  },
  {
   "cell_type": "code",
   "execution_count": 21,
   "id": "2cff148e",
   "metadata": {
    "scrolled": true
   },
   "outputs": [],
   "source": [
    "get_url(linkedin_url)\n",
    "sign_in(username, password)\n",
    "job_search(role, location)\n",
    "\n",
    "#apply_filters()\n",
    "# iterator(1, driver)"
   ]
  },
  {
   "cell_type": "code",
   "execution_count": 16,
   "id": "945c0203-5561-47c3-9b4d-9f25eb110b2d",
   "metadata": {},
   "outputs": [
    {
     "ename": "NoSuchElementException",
     "evalue": "Message: no such element: Unable to locate element: {\"method\":\"xpath\",\"selector\":\".//div[@class='jobs-easy-apply-content']\"}\n  (Session info: MicrosoftEdge=126.0.2592.81); For documentation on this error, please visit: https://www.selenium.dev/documentation/webdriver/troubleshooting/errors#no-such-element-exception\nStacktrace:\n\tGetHandleVerifier [0x00007FF729DF8132+13538]\n\tMicrosoft::Applications::Events::EventProperty::~EventProperty [0x00007FF729D81DE9+595465]\n\t(No symbol) [0x00007FF729B9E6CF]\n\t(No symbol) [0x00007FF729BE2960]\n\t(No symbol) [0x00007FF729BE2A1F]\n\t(No symbol) [0x00007FF729C1D627]\n\t(No symbol) [0x00007FF729C0203F]\n\t(No symbol) [0x00007FF729BD8147]\n\t(No symbol) [0x00007FF729C1B1EE]\n\t(No symbol) [0x00007FF729C01C63]\n\t(No symbol) [0x00007FF729BD766E]\n\t(No symbol) [0x00007FF729BD683C]\n\t(No symbol) [0x00007FF729BD7221]\n\tMicrosoft::Applications::Events::EventProperty::to_string [0x00007FF729FB96D4+1099860]\n\tMicrosoft::Applications::Events::EventProperty::~EventProperty [0x00007FF729CFD8FC+53532]\n\tMicrosoft::Applications::Events::EventProperty::~EventProperty [0x00007FF729CF0E25+1605]\n\tMicrosoft::Applications::Events::EventProperty::to_string [0x00007FF729FB8665+1095653]\n\tMicrosoft::Applications::Events::ILogConfiguration::operator* [0x00007FF729D8C961+27777]\n\tMicrosoft::Applications::Events::ILogConfiguration::operator* [0x00007FF729D86CE4+4100]\n\tMicrosoft::Applications::Events::ILogConfiguration::operator* [0x00007FF729D86E1B+4411]\n\tMicrosoft::Applications::Events::EventProperty::~EventProperty [0x00007FF729D7CFA0+575424]\n\tBaseThreadInitThunk [0x00007FFA57DF257D+29]\n\tRtlUserThreadStart [0x00007FFA5978AF28+40]\n",
     "output_type": "error",
     "traceback": [
      "\u001b[1;31m---------------------------------------------------------------------------\u001b[0m",
      "\u001b[1;31mNoSuchElementException\u001b[0m                    Traceback (most recent call last)",
      "Cell \u001b[1;32mIn[16], line 1\u001b[0m\n\u001b[1;32m----> 1\u001b[0m apply \u001b[38;5;241m=\u001b[39m driver\u001b[38;5;241m.\u001b[39mfind_element(\u001b[38;5;124m\"\u001b[39m\u001b[38;5;124mxpath\u001b[39m\u001b[38;5;124m\"\u001b[39m , \u001b[38;5;124m\"\u001b[39m\u001b[38;5;124m.//div[@class=\u001b[39m\u001b[38;5;124m'\u001b[39m\u001b[38;5;124mjobs-easy-apply-content\u001b[39m\u001b[38;5;124m'\u001b[39m\u001b[38;5;124m]\u001b[39m\u001b[38;5;124m\"\u001b[39m)\n\u001b[0;32m      3\u001b[0m form \u001b[38;5;241m=\u001b[39m apply\u001b[38;5;241m.\u001b[39mfind_element(\u001b[38;5;124m\"\u001b[39m\u001b[38;5;124mxpath\u001b[39m\u001b[38;5;124m\"\u001b[39m, \u001b[38;5;124m\"\u001b[39m\u001b[38;5;124m.//form\u001b[39m\u001b[38;5;124m\"\u001b[39m)\n\u001b[0;32m      6\u001b[0m \u001b[38;5;28;01mif\u001b[39;00m there_resume(form):\n",
      "File \u001b[1;32m~\\AppData\\Roaming\\Python\\Python311\\site-packages\\selenium\\webdriver\\remote\\webdriver.py:741\u001b[0m, in \u001b[0;36mWebDriver.find_element\u001b[1;34m(self, by, value)\u001b[0m\n\u001b[0;32m    738\u001b[0m     by \u001b[38;5;241m=\u001b[39m By\u001b[38;5;241m.\u001b[39mCSS_SELECTOR\n\u001b[0;32m    739\u001b[0m     value \u001b[38;5;241m=\u001b[39m \u001b[38;5;124mf\u001b[39m\u001b[38;5;124m'\u001b[39m\u001b[38;5;124m[name=\u001b[39m\u001b[38;5;124m\"\u001b[39m\u001b[38;5;132;01m{\u001b[39;00mvalue\u001b[38;5;132;01m}\u001b[39;00m\u001b[38;5;124m\"\u001b[39m\u001b[38;5;124m]\u001b[39m\u001b[38;5;124m'\u001b[39m\n\u001b[1;32m--> 741\u001b[0m \u001b[38;5;28;01mreturn\u001b[39;00m \u001b[38;5;28mself\u001b[39m\u001b[38;5;241m.\u001b[39mexecute(Command\u001b[38;5;241m.\u001b[39mFIND_ELEMENT, {\u001b[38;5;124m\"\u001b[39m\u001b[38;5;124musing\u001b[39m\u001b[38;5;124m\"\u001b[39m: by, \u001b[38;5;124m\"\u001b[39m\u001b[38;5;124mvalue\u001b[39m\u001b[38;5;124m\"\u001b[39m: value})[\u001b[38;5;124m\"\u001b[39m\u001b[38;5;124mvalue\u001b[39m\u001b[38;5;124m\"\u001b[39m]\n",
      "File \u001b[1;32m~\\AppData\\Roaming\\Python\\Python311\\site-packages\\selenium\\webdriver\\remote\\webdriver.py:347\u001b[0m, in \u001b[0;36mWebDriver.execute\u001b[1;34m(self, driver_command, params)\u001b[0m\n\u001b[0;32m    345\u001b[0m response \u001b[38;5;241m=\u001b[39m \u001b[38;5;28mself\u001b[39m\u001b[38;5;241m.\u001b[39mcommand_executor\u001b[38;5;241m.\u001b[39mexecute(driver_command, params)\n\u001b[0;32m    346\u001b[0m \u001b[38;5;28;01mif\u001b[39;00m response:\n\u001b[1;32m--> 347\u001b[0m     \u001b[38;5;28mself\u001b[39m\u001b[38;5;241m.\u001b[39merror_handler\u001b[38;5;241m.\u001b[39mcheck_response(response)\n\u001b[0;32m    348\u001b[0m     response[\u001b[38;5;124m\"\u001b[39m\u001b[38;5;124mvalue\u001b[39m\u001b[38;5;124m\"\u001b[39m] \u001b[38;5;241m=\u001b[39m \u001b[38;5;28mself\u001b[39m\u001b[38;5;241m.\u001b[39m_unwrap_value(response\u001b[38;5;241m.\u001b[39mget(\u001b[38;5;124m\"\u001b[39m\u001b[38;5;124mvalue\u001b[39m\u001b[38;5;124m\"\u001b[39m, \u001b[38;5;28;01mNone\u001b[39;00m))\n\u001b[0;32m    349\u001b[0m     \u001b[38;5;28;01mreturn\u001b[39;00m response\n",
      "File \u001b[1;32m~\\AppData\\Roaming\\Python\\Python311\\site-packages\\selenium\\webdriver\\remote\\errorhandler.py:229\u001b[0m, in \u001b[0;36mErrorHandler.check_response\u001b[1;34m(self, response)\u001b[0m\n\u001b[0;32m    227\u001b[0m         alert_text \u001b[38;5;241m=\u001b[39m value[\u001b[38;5;124m\"\u001b[39m\u001b[38;5;124malert\u001b[39m\u001b[38;5;124m\"\u001b[39m]\u001b[38;5;241m.\u001b[39mget(\u001b[38;5;124m\"\u001b[39m\u001b[38;5;124mtext\u001b[39m\u001b[38;5;124m\"\u001b[39m)\n\u001b[0;32m    228\u001b[0m     \u001b[38;5;28;01mraise\u001b[39;00m exception_class(message, screen, stacktrace, alert_text)  \u001b[38;5;66;03m# type: ignore[call-arg]  # mypy is not smart enough here\u001b[39;00m\n\u001b[1;32m--> 229\u001b[0m \u001b[38;5;28;01mraise\u001b[39;00m exception_class(message, screen, stacktrace)\n",
      "\u001b[1;31mNoSuchElementException\u001b[0m: Message: no such element: Unable to locate element: {\"method\":\"xpath\",\"selector\":\".//div[@class='jobs-easy-apply-content']\"}\n  (Session info: MicrosoftEdge=126.0.2592.81); For documentation on this error, please visit: https://www.selenium.dev/documentation/webdriver/troubleshooting/errors#no-such-element-exception\nStacktrace:\n\tGetHandleVerifier [0x00007FF729DF8132+13538]\n\tMicrosoft::Applications::Events::EventProperty::~EventProperty [0x00007FF729D81DE9+595465]\n\t(No symbol) [0x00007FF729B9E6CF]\n\t(No symbol) [0x00007FF729BE2960]\n\t(No symbol) [0x00007FF729BE2A1F]\n\t(No symbol) [0x00007FF729C1D627]\n\t(No symbol) [0x00007FF729C0203F]\n\t(No symbol) [0x00007FF729BD8147]\n\t(No symbol) [0x00007FF729C1B1EE]\n\t(No symbol) [0x00007FF729C01C63]\n\t(No symbol) [0x00007FF729BD766E]\n\t(No symbol) [0x00007FF729BD683C]\n\t(No symbol) [0x00007FF729BD7221]\n\tMicrosoft::Applications::Events::EventProperty::to_string [0x00007FF729FB96D4+1099860]\n\tMicrosoft::Applications::Events::EventProperty::~EventProperty [0x00007FF729CFD8FC+53532]\n\tMicrosoft::Applications::Events::EventProperty::~EventProperty [0x00007FF729CF0E25+1605]\n\tMicrosoft::Applications::Events::EventProperty::to_string [0x00007FF729FB8665+1095653]\n\tMicrosoft::Applications::Events::ILogConfiguration::operator* [0x00007FF729D8C961+27777]\n\tMicrosoft::Applications::Events::ILogConfiguration::operator* [0x00007FF729D86CE4+4100]\n\tMicrosoft::Applications::Events::ILogConfiguration::operator* [0x00007FF729D86E1B+4411]\n\tMicrosoft::Applications::Events::EventProperty::~EventProperty [0x00007FF729D7CFA0+575424]\n\tBaseThreadInitThunk [0x00007FFA57DF257D+29]\n\tRtlUserThreadStart [0x00007FFA5978AF28+40]\n"
     ]
    }
   ],
   "source": [
    "\n",
    "apply = driver.find_element(\"xpath\" , \".//div[@class='jobs-easy-apply-content']\")\n",
    "            \n",
    "form = apply.find_element(\"xpath\", \".//form\")\n",
    "\n",
    "\n",
    "if there_resume(form):\n",
    "    enter_resume(form, 0)\n"
   ]
  },
  {
   "cell_type": "code",
   "execution_count": 75,
   "id": "08a51b16-0597-40c9-a6d2-1346ed6d953a",
   "metadata": {},
   "outputs": [],
   "source": [
    "apply = driver.find_element(\"xpath\" , \".//div[@class='jobs-easy-apply-content']\")\n",
    "form = apply.find_element(\"xpath\", \".//form\")"
   ]
  },
  {
   "cell_type": "code",
   "execution_count": 76,
   "id": "b0776266-8d87-41a6-9ceb-783df448781a",
   "metadata": {},
   "outputs": [
    {
     "data": {
      "text/plain": [
       "<selenium.webdriver.remote.webelement.WebElement (session=\"09eee44421d4565c4e5427038ff677bc\", element=\"f.83869D86B3BEDE738A791AE6F99FABC9.d.3431662DDB27C553B797DEDC30BC6656.e.120343\")>"
      ]
     },
     "execution_count": 76,
     "metadata": {},
     "output_type": "execute_result"
    }
   ],
   "source": [
    "form"
   ]
  },
  {
   "cell_type": "code",
   "execution_count": 9,
   "id": "c818906c-00d7-4324-9eb1-086e3aeecef5",
   "metadata": {},
   "outputs": [],
   "source": [
    "def apply_job(job_card):\n",
    "    job_card.click()\n",
    "    easy_apply_button = driver.find_element(\"xpath\", \"//button[contains(@aria-label , 'Easy Apply to')]\")\n",
    "    easy_apply_button.click()\n",
    "\n",
    "    \n",
    "    isform = True\n",
    "    fillresume = False\n",
    "    \n",
    "    while isform:\n",
    "\n",
    "        if theresubmit(driver):\n",
    "            find_submit(driver)\n",
    "            break\n",
    "\n",
    "        try:\n",
    "            apply = driver.find_element(\"xpath\" , \".//div[@class='jobs-easy-apply-content']\")\n",
    "            form = apply.find_element(\"xpath\", \".//form\")\n",
    "            print(\"form found\")\n",
    "        except Exception as f:\n",
    "            print(\"form not found \".format(f))\n",
    "            isform = False\n",
    "        \n",
    "        \n",
    "        \n",
    "\n",
    "        if not fillresume:\n",
    "            print(\"resume\" )\n",
    "            if there_resume(form):\n",
    "                print(\"fill resume\")\n",
    "\n",
    "                resumes = form.find_elements(\"xpath\" ,\".//div[contains(@class, 'ui-attachment jobs-document-upload-redesign-card__container')]\")\n",
    "                print(len(resumes))\n",
    "                driver.execute_script(\"arguments[0].click();\", resumes[0]) \n",
    "                resumes[0].click()\n",
    "                # enter_resume(form, 0)\n",
    "                fillresume = True\n",
    "        \n",
    "        fields = form.find_elements(\"xpath\" , \"//div[contains(@class, 'jobs-easy-apply-form-section__grouping')]\")\n",
    "\n",
    "        for field in fields:\n",
    "            print(QnA(field.text.lower()))\n",
    "            print(buttontype(field))\n",
    "            if buttontype(field) == 'multi_select' :\n",
    "                answer_select( field, QnA(field.text.lower()))\n",
    "            elif buttontype(field) == 'text':\n",
    "                answer_text(field, QnA(field.text.lower()))\n",
    "            elif buttontype(field) == 'radio' :\n",
    "                answer_radio(field, QnA(field.text.lower()))\n",
    "\n",
    "        find_next(form)\n",
    "\n",
    "        driver.implicitly_wait(2)\n",
    " \n",
    "\n",
    "\n",
    "    driver.implicitly_wait(5)\n",
    "\n",
    "    done_buttons  =  driver.find_elements(\"xpath\" , \".//button[@aria-label = 'Dismiss']\")\n",
    "    done_buttons  =  driver.find_elements(\"xpath\" , \".//button[@aria-label = 'Dismiss']\")\n",
    "    done_button  =  driver.find_element(\"xpath\" , \".//button[@aria-label = 'Dismiss']\")\n",
    "    try:\n",
    "        done_button.click()\n",
    "    except:\n",
    "        done_button  =  driver.find_element(\"xpath\" , \".//button[@aria-label = 'Dismiss']\")\n",
    "        done_button.click()\n",
    "    \n",
    "        \n",
    "        \n",
    "        \n",
    "        \n",
    "    "
   ]
  },
  {
   "cell_type": "code",
   "execution_count": 102,
   "id": "b0bd46ee-ae6d-4bf7-8f08-afb4937fa2cc",
   "metadata": {},
   "outputs": [],
   "source": [
    "done_button  =  driver.find_element(\"xpath\" , \".//button[@aria-label = 'Dismiss']\")\n",
    "done_button.click()"
   ]
  },
  {
   "cell_type": "code",
   "execution_count": 10,
   "id": "e1610798-07e6-4141-8619-263cd7b79030",
   "metadata": {},
   "outputs": [
    {
     "name": "stdout",
     "output_type": "stream",
     "text": [
      "form found\n",
      "resume\n",
      "ganesh_012@outlook.com\n",
      "multi_select\n",
      "United States (+1)\n",
      "multi_select\n",
      "8483138525\n",
      "text\n",
      "form found\n",
      "resume\n",
      "fill resume\n",
      "2\n",
      "form found\n",
      "1\n",
      "text\n",
      "Yes\n",
      "radio\n",
      "1\n",
      "text\n",
      "Yes\n",
      "multi_select\n",
      "1\n",
      "multi_select\n"
     ]
    },
    {
     "ename": "NoSuchElementException",
     "evalue": "Message: Cannot locate option with value: 1; For documentation on this error, please visit: https://www.selenium.dev/documentation/webdriver/troubleshooting/errors#no-such-element-exception\n",
     "output_type": "error",
     "traceback": [
      "\u001b[1;31m---------------------------------------------------------------------------\u001b[0m",
      "\u001b[1;31mNoSuchElementException\u001b[0m                    Traceback (most recent call last)",
      "Cell \u001b[1;32mIn[10], line 1\u001b[0m\n\u001b[1;32m----> 1\u001b[0m apply_job(job_card)\n",
      "Cell \u001b[1;32mIn[9], line 45\u001b[0m, in \u001b[0;36mapply_job\u001b[1;34m(job_card)\u001b[0m\n\u001b[0;32m     43\u001b[0m \u001b[38;5;28mprint\u001b[39m(buttontype(field))\n\u001b[0;32m     44\u001b[0m \u001b[38;5;28;01mif\u001b[39;00m buttontype(field) \u001b[38;5;241m==\u001b[39m \u001b[38;5;124m'\u001b[39m\u001b[38;5;124mmulti_select\u001b[39m\u001b[38;5;124m'\u001b[39m :\n\u001b[1;32m---> 45\u001b[0m     answer_select( field, QnA(field\u001b[38;5;241m.\u001b[39mtext\u001b[38;5;241m.\u001b[39mlower()))\n\u001b[0;32m     46\u001b[0m \u001b[38;5;28;01melif\u001b[39;00m buttontype(field) \u001b[38;5;241m==\u001b[39m \u001b[38;5;124m'\u001b[39m\u001b[38;5;124mtext\u001b[39m\u001b[38;5;124m'\u001b[39m:\n\u001b[0;32m     47\u001b[0m     answer_text(field, QnA(field\u001b[38;5;241m.\u001b[39mtext\u001b[38;5;241m.\u001b[39mlower()))\n",
      "Cell \u001b[1;32mIn[6], line 45\u001b[0m, in \u001b[0;36manswer_select\u001b[1;34m(field, answer)\u001b[0m\n\u001b[0;32m     43\u001b[0m select \u001b[38;5;241m=\u001b[39m field\u001b[38;5;241m.\u001b[39mfind_element(\u001b[38;5;124m\"\u001b[39m\u001b[38;5;124mxpath\u001b[39m\u001b[38;5;124m\"\u001b[39m,\u001b[38;5;124m\"\u001b[39m\u001b[38;5;124m.//select[contains(@id, \u001b[39m\u001b[38;5;124m'\u001b[39m\u001b[38;5;124mtext-entity-list-form-component-formElement\u001b[39m\u001b[38;5;124m'\u001b[39m\u001b[38;5;124m)]\u001b[39m\u001b[38;5;124m\"\u001b[39m)\n\u001b[0;32m     44\u001b[0m select \u001b[38;5;241m=\u001b[39m Select(select)\n\u001b[1;32m---> 45\u001b[0m select\u001b[38;5;241m.\u001b[39mselect_by_value(\u001b[38;5;124m'\u001b[39m\u001b[38;5;132;01m{}\u001b[39;00m\u001b[38;5;124m'\u001b[39m\u001b[38;5;241m.\u001b[39mformat(answer))\n",
      "File \u001b[1;32m~\\AppData\\Roaming\\Python\\Python311\\site-packages\\selenium\\webdriver\\support\\select.py:84\u001b[0m, in \u001b[0;36mSelect.select_by_value\u001b[1;34m(self, value)\u001b[0m\n\u001b[0;32m     82\u001b[0m     matched \u001b[38;5;241m=\u001b[39m \u001b[38;5;28;01mTrue\u001b[39;00m\n\u001b[0;32m     83\u001b[0m \u001b[38;5;28;01mif\u001b[39;00m \u001b[38;5;129;01mnot\u001b[39;00m matched:\n\u001b[1;32m---> 84\u001b[0m     \u001b[38;5;28;01mraise\u001b[39;00m NoSuchElementException(\u001b[38;5;124mf\u001b[39m\u001b[38;5;124m\"\u001b[39m\u001b[38;5;124mCannot locate option with value: \u001b[39m\u001b[38;5;132;01m{\u001b[39;00mvalue\u001b[38;5;132;01m}\u001b[39;00m\u001b[38;5;124m\"\u001b[39m)\n",
      "\u001b[1;31mNoSuchElementException\u001b[0m: Message: Cannot locate option with value: 1; For documentation on this error, please visit: https://www.selenium.dev/documentation/webdriver/troubleshooting/errors#no-such-element-exception\n"
     ]
    }
   ],
   "source": [
    "apply_job(job_card)"
   ]
  },
  {
   "cell_type": "code",
   "execution_count": 22,
   "id": "c90a2475",
   "metadata": {},
   "outputs": [],
   "source": [
    "def apply_job(job_card):\n",
    "    reg_page = True\n",
    "    review = False\n",
    "    submit = False\n",
    "    \n",
    "    while reg_page:\n",
    "        \n",
    "        easy_apply_button = driver.find_element(\"xpath\", \"//button[contains(@aria-label , 'Easy Apply to')]\")\n",
    "        easy_apply_button.click()\n",
    "        \n",
    "        form = driver.find_element(\"xpath\", \"//form\")\n",
    "        input_fields = form.find_elements(\"xpath\" , \"//div[contains(@class, 'jobs-easy-apply-form-section__grouping')]\")\n",
    "\n",
    "        \n",
    "    "
   ]
  },
  {
   "cell_type": "code",
   "execution_count": 8,
   "id": "c73c4e08-ca1b-404f-92bb-036039e13790",
   "metadata": {},
   "outputs": [],
   "source": [
    "ul_element = driver.find_element(\"xpath\" , \"//div[contains(@class, 'jobs-search-results-list')]\") #driver.find_element(\"xpath\", '//div[contains(@class, \"jobs-search-results-list\")]')\n",
    "\n",
    "list_of_jobs = ul_element.find_elements( \"xpath\" , \"//li[@data-occludable-job-id]\")\n",
    "job_card = list_of_jobs[0]"
   ]
  },
  {
   "cell_type": "code",
   "execution_count": 11,
   "id": "6ab1f789-909e-40cd-ae0c-b89e98532ac4",
   "metadata": {},
   "outputs": [],
   "source": [
    "job_card.click()\n",
    "easy_apply_button = driver.find_element(\"xpath\", \"//button[contains(@aria-label , 'Easy Apply to')]\")\n",
    "easy_apply_button.click()"
   ]
  },
  {
   "cell_type": "code",
   "execution_count": 93,
   "id": "dd87f50c",
   "metadata": {},
   "outputs": [],
   "source": [
    "# applied resumes yes or no - bool\n",
    "# review button yes or no - bool\n",
    "# if review then no form. -\n",
    "# submit direct\n",
    "# capture error messages - need to add logger\n",
    "# form reload each time after clicking next or review or submit\n",
    "# will the elements in job cardsbe same after one application -for fucks sake please be same - okay they are same"
   ]
  },
  {
   "cell_type": "code",
   "execution_count": 35,
   "id": "308e3d89",
   "metadata": {},
   "outputs": [
    {
     "name": "stdout",
     "output_type": "stream",
     "text": [
      "ganesh_012@outlook.com\n",
      "multi_select\n",
      "United States (+1)\n",
      "multi_select\n",
      "8483138525\n",
      "text\n"
     ]
    }
   ],
   "source": [
    "factor = True\n",
    "\n",
    "# while factor:\n",
    "form = driver.find_element(\"xpath\"  , \"//form\") \n",
    "fields = form.find_elements(\"xpath\" , \"//div[contains(@class, 'jobs-easy-apply-form-section__grouping')]\")\n",
    "\n",
    "for field in fields:\n",
    "    print(QnA(field.text.lower()))\n",
    "    print(buttontype(field))\n",
    "    if buttontype(field) == 'multi_select' :\n",
    "        answer_select( field, QnA(field.text.lower()))\n",
    "    elif buttontype(field) == 'text':\n",
    "        answer_text(field, QnA(field.text.lower()))\n",
    "    elif buttontype(field) == 'radio' :\n",
    "        answer_radio(field, QnA(field.text.lower()))\n",
    "    \n",
    "find_next(form)    "
   ]
  },
  {
   "cell_type": "code",
   "execution_count": 26,
   "id": "fac07171-3544-4f93-8d33-dffd3f74f776",
   "metadata": {},
   "outputs": [
    {
     "data": {
      "text/plain": [
       "[]"
      ]
     },
     "execution_count": 26,
     "metadata": {},
     "output_type": "execute_result"
    }
   ],
   "source": [
    "fields[2].find_elements(\"xpath\", \".//input[@type='text']\")"
   ]
  },
  {
   "cell_type": "code",
   "execution_count": null,
   "id": "58003c94-8d9d-4f86-8d52-222f4a84ee48",
   "metadata": {},
   "outputs": [],
   "source": []
  },
  {
   "cell_type": "code",
   "execution_count": 27,
   "id": "833fe7fa-80fc-4c18-a06f-cc3abdcb3491",
   "metadata": {},
   "outputs": [],
   "source": []
  },
  {
   "cell_type": "code",
   "execution_count": 318,
   "id": "bf0fa6dd",
   "metadata": {},
   "outputs": [],
   "source": [
    "current_page = 1\n",
    "driver = driver\n",
    "\n",
    "\n",
    "    \n",
    "    \n",
    "    \n",
    "    \n",
    "    \n",
    "    \n",
    "    \n",
    "    "
   ]
  },
  {
   "cell_type": "code",
   "execution_count": null,
   "id": "08881566",
   "metadata": {},
   "outputs": [],
   "source": []
  },
  {
   "cell_type": "code",
   "execution_count": 96,
   "id": "eae0387f",
   "metadata": {},
   "outputs": [],
   "source": [
    "find_form = driver.find_element(\"xpath\" , \"//div[@class='jobs-easy-apply-content']\")\n",
    "form = find_form.find_element(\"xpath\", \"//form\")\n",
    "inputs1 = form.find_elements(\"xpath\" , \"//div[contains(@class, 'jobs-easy-apply-form-section__grouping')]\")"
   ]
  },
  {
   "cell_type": "code",
   "execution_count": 315,
   "id": "98016bcb",
   "metadata": {},
   "outputs": [],
   "source": [
    "\n",
    "\n",
    "for job in list_of_jobs:\n",
    "    job.click()\n",
    "    driver.implicitly_wait(random.randint(1,3))"
   ]
  },
  {
   "cell_type": "code",
   "execution_count": 20,
   "id": "a30b9def",
   "metadata": {},
   "outputs": [],
   "source": []
  },
  {
   "cell_type": "code",
   "execution_count": 350,
   "id": "d2ee3701",
   "metadata": {},
   "outputs": [],
   "source": [
    "\n",
    "list_of_jobs[4].click()"
   ]
  },
  {
   "cell_type": "code",
   "execution_count": 314,
   "id": "a3baba7a",
   "metadata": {},
   "outputs": [],
   "source": [
    "driver.execute_script(\"arguments[0].scrollIntoView();\", list_of_jobs[-1])"
   ]
  },
  {
   "cell_type": "code",
   "execution_count": null,
   "id": "38cf85f2",
   "metadata": {},
   "outputs": [],
   "source": []
  },
  {
   "cell_type": "code",
   "execution_count": 349,
   "id": "4c532303",
   "metadata": {},
   "outputs": [],
   "source": [
    "easy_apply_button = driver.find_element(\"xpath\", \"//button[contains(@aria-label , 'Easy Apply to')]\")\n",
    "easy_apply_button.click()"
   ]
  },
  {
   "cell_type": "code",
   "execution_count": 236,
   "id": "93e1e777",
   "metadata": {},
   "outputs": [],
   "source": [
    "find_form = driver.find_element(\"xpath\" , \"//div[@class='jobs-easy-apply-content']\")\n",
    "form = find_form.find_element(\"xpath\", \"//form\")\n",
    "#inputs1 = form.find_elements(\"xpath\" , \"//div[contains(@class, 'jobs-easy-apply-form-section__grouping')]\")"
   ]
  },
  {
   "cell_type": "code",
   "execution_count": 267,
   "id": "25f3a171",
   "metadata": {},
   "outputs": [
    {
     "data": {
      "text/plain": [
       "True"
      ]
     },
     "execution_count": 267,
     "metadata": {},
     "output_type": "execute_result"
    }
   ],
   "source": [
    "'sponsor' in \"do you require sponsorship now or in the future\""
   ]
  },
  {
   "cell_type": "code",
   "execution_count": 295,
   "id": "2935e97f",
   "metadata": {},
   "outputs": [
    {
     "data": {
      "text/plain": [
       "'Yes'"
      ]
     },
     "execution_count": 295,
     "metadata": {},
     "output_type": "execute_result"
    }
   ],
   "source": [
    "QnA(\"do you \")"
   ]
  },
  {
   "cell_type": "code",
   "execution_count": 289,
   "id": "b77a5210",
   "metadata": {},
   "outputs": [],
   "source": [
    "   \n",
    "    "
   ]
  },
  {
   "cell_type": "code",
   "execution_count": 186,
   "id": "027dea2d",
   "metadata": {
    "scrolled": true
   },
   "outputs": [],
   "source": [
    "#email \n",
    "select_element = inputs1[0].find_element(\"xpath\" , \".//select\")\n",
    "answer_select(select_element , \"ganesh_012@outlook.com\")\n",
    "\n",
    "select_code = inputs1[1].find_element(\"xpath\" , \".//select\")\n",
    "answer_select(select_code, 'United States (+1)')\n",
    "\n",
    "enter_phone  = inputs1[2].find_element(\"xpath\" , \".//input[@type = 'text']\")\n",
    "answer_text(enter_phone, \"9589017753\")\n",
    "find_next(form)\n",
    "\n",
    "form = find_form.find_element(\"xpath\", \"//form\")\n",
    "\n",
    "\n",
    "enter_resume(form, 1)\n",
    "find_next(form)\n",
    "\n",
    "\n",
    "inputs1 = form.find_elements(\"xpath\" , \"//div[contains(@class, 'jobs-easy-apply-form-section__grouping')]\"\n",
    "\n",
    "\n",
    "fields  = inputs1[0].find_element(\"xpath\" , \".//fieldset\")\n",
    "                             \n",
    "answer_radio(fields, \"Yes\")                           \n",
    "                             \n",
    "                             \n",
    "                             \n",
    "fields  = inputs1[1].find_element(\"xpath\" , \".//fieldset\")\n",
    "answer_radio(fields, \"Yes\")                 \n",
    "fields  = inputs1[2].find_element(\"xpath\" , \".//input[@type = 'text']\")\n",
    "answer_text(fields, '3')                              \n",
    "fields  = inputs1[3].find_element(\"xpath\" , \".//input[@type = 'text']\")\n",
    "answer_text(fields, '3')                              \n",
    "fields  = inputs1[4].find_element(\"xpath\" , \".//input[@type = 'text']t\")                             \n",
    "answer_text(fields, '2') \n",
    "fields  = inputs1[5].find_element(\"xpath\" , \".//fieldset\")\n",
    "answer_radio(fields, \"Yes\")                              \n",
    "fields  = inputs1[6].find_element(\"xpath\" , \".//select\")      \n",
    "answer_select(fields, \"Yes\")                              \n",
    "                             "
   ]
  },
  {
   "cell_type": "code",
   "execution_count": 247,
   "id": "4e6060d3",
   "metadata": {},
   "outputs": [
    {
     "ename": "StaleElementReferenceException",
     "evalue": "Message: stale element reference: stale element not found in the current frame\n  (Session info: MicrosoftEdge=125.0.2535.85)\nStacktrace:\n\tGetHandleVerifier [0x00007FF629185DC2+61250]\n\tMicrosoft::Applications::Events::ILogConfiguration::operator* [0x00007FF6291106C9+206985]\n\t(No symbol) [0x00007FF628F1E3C7]\n\t(No symbol) [0x00007FF628F23713]\n\t(No symbol) [0x00007FF628F253DB]\n\t(No symbol) [0x00007FF628F25480]\n\t(No symbol) [0x00007FF628F64F6F]\n\t(No symbol) [0x00007FF628F65366]\n\t(No symbol) [0x00007FF628F5AAFC]\n\t(No symbol) [0x00007FF628F8493F]\n\t(No symbol) [0x00007FF628F5AAA7]\n\t(No symbol) [0x00007FF628F5A96D]\n\t(No symbol) [0x00007FF628F84BE0]\n\t(No symbol) [0x00007FF628F5AAA7]\n\t(No symbol) [0x00007FF628F9DEB7]\n\t(No symbol) [0x00007FF628F84563]\n\t(No symbol) [0x00007FF628F59FCE]\n\t(No symbol) [0x00007FF628F5918C]\n\t(No symbol) [0x00007FF628F59B81]\n\tMicrosoft::Applications::Events::EventProperty::to_string [0x00007FF62933DF54+1072532]\n\t(No symbol) [0x00007FF628FD2D9C]\n\tMicrosoft::Applications::Events::EventProperty::~EventProperty [0x00007FF62907EF4C+51468]\n\tMicrosoft::Applications::Events::EventProperty::~EventProperty [0x00007FF629073805+4549]\n\tMicrosoft::Applications::Events::EventProperty::to_string [0x00007FF62933CF15+1068373]\n\tMicrosoft::Applications::Events::ILogConfiguration::operator* [0x00007FF62911A0D1+246417]\n\tMicrosoft::Applications::Events::ILogConfiguration::operator* [0x00007FF629115434+226804]\n\tMicrosoft::Applications::Events::ILogConfiguration::operator* [0x00007FF62911556B+227115]\n\tMicrosoft::Applications::Events::ILogConfiguration::operator* [0x00007FF62910BD60+188192]\n\tBaseThreadInitThunk [0x00007FFD44BC257D+29]\n\tRtlUserThreadStart [0x00007FFD4612AA48+40]\n",
     "output_type": "error",
     "traceback": [
      "\u001b[1;31m---------------------------------------------------------------------------\u001b[0m",
      "\u001b[1;31mStaleElementReferenceException\u001b[0m            Traceback (most recent call last)",
      "Cell \u001b[1;32mIn[247], line 8\u001b[0m\n\u001b[0;32m      4\u001b[0m find_form \u001b[38;5;241m=\u001b[39m driver\u001b[38;5;241m.\u001b[39mfind_element(\u001b[38;5;124m\"\u001b[39m\u001b[38;5;124mxpath\u001b[39m\u001b[38;5;124m\"\u001b[39m , \u001b[38;5;124m\"\u001b[39m\u001b[38;5;124m//div[@class=\u001b[39m\u001b[38;5;124m'\u001b[39m\u001b[38;5;124mjobs-easy-apply-content\u001b[39m\u001b[38;5;124m'\u001b[39m\u001b[38;5;124m]\u001b[39m\u001b[38;5;124m\"\u001b[39m)\n\u001b[0;32m      5\u001b[0m form \u001b[38;5;241m=\u001b[39m find_form\u001b[38;5;241m.\u001b[39mfind_element(\u001b[38;5;124m\"\u001b[39m\u001b[38;5;124mxpath\u001b[39m\u001b[38;5;124m\"\u001b[39m, \u001b[38;5;124m\"\u001b[39m\u001b[38;5;124m//form\u001b[39m\u001b[38;5;124m\"\u001b[39m)\n\u001b[1;32m----> 8\u001b[0m fields  \u001b[38;5;241m=\u001b[39m \u001b[43minputs1\u001b[49m\u001b[43m[\u001b[49m\u001b[38;5;241;43m0\u001b[39;49m\u001b[43m]\u001b[49m\u001b[38;5;241;43m.\u001b[39;49m\u001b[43mfind_element\u001b[49m\u001b[43m(\u001b[49m\u001b[38;5;124;43m\"\u001b[39;49m\u001b[38;5;124;43mxpath\u001b[39;49m\u001b[38;5;124;43m\"\u001b[39;49m\u001b[43m \u001b[49m\u001b[43m,\u001b[49m\u001b[43m \u001b[49m\u001b[38;5;124;43m\"\u001b[39;49m\u001b[38;5;124;43m.//fieldset\u001b[39;49m\u001b[38;5;124;43m\"\u001b[39;49m\u001b[43m)\u001b[49m\n\u001b[0;32m     10\u001b[0m answer_radio(fields, \u001b[38;5;124m\"\u001b[39m\u001b[38;5;124mYes\u001b[39m\u001b[38;5;124m\"\u001b[39m)                           \n\u001b[0;32m     14\u001b[0m fields  \u001b[38;5;241m=\u001b[39m inputs1[\u001b[38;5;241m1\u001b[39m]\u001b[38;5;241m.\u001b[39mfind_element(\u001b[38;5;124m\"\u001b[39m\u001b[38;5;124mxpath\u001b[39m\u001b[38;5;124m\"\u001b[39m , \u001b[38;5;124m\"\u001b[39m\u001b[38;5;124m.//fieldset\u001b[39m\u001b[38;5;124m\"\u001b[39m)\n",
      "File \u001b[1;32m~\\anaconda3\\lib\\site-packages\\selenium\\webdriver\\remote\\webelement.py:425\u001b[0m, in \u001b[0;36mWebElement.find_element\u001b[1;34m(self, by, value)\u001b[0m\n\u001b[0;32m    422\u001b[0m     by \u001b[38;5;241m=\u001b[39m By\u001b[38;5;241m.\u001b[39mCSS_SELECTOR\n\u001b[0;32m    423\u001b[0m     value \u001b[38;5;241m=\u001b[39m \u001b[38;5;124mf\u001b[39m\u001b[38;5;124m'\u001b[39m\u001b[38;5;124m[name=\u001b[39m\u001b[38;5;124m\"\u001b[39m\u001b[38;5;132;01m{\u001b[39;00mvalue\u001b[38;5;132;01m}\u001b[39;00m\u001b[38;5;124m\"\u001b[39m\u001b[38;5;124m]\u001b[39m\u001b[38;5;124m'\u001b[39m\n\u001b[1;32m--> 425\u001b[0m \u001b[38;5;28;01mreturn\u001b[39;00m \u001b[38;5;28;43mself\u001b[39;49m\u001b[38;5;241;43m.\u001b[39;49m\u001b[43m_execute\u001b[49m\u001b[43m(\u001b[49m\u001b[43mCommand\u001b[49m\u001b[38;5;241;43m.\u001b[39;49m\u001b[43mFIND_CHILD_ELEMENT\u001b[49m\u001b[43m,\u001b[49m\u001b[43m \u001b[49m\u001b[43m{\u001b[49m\u001b[38;5;124;43m\"\u001b[39;49m\u001b[38;5;124;43musing\u001b[39;49m\u001b[38;5;124;43m\"\u001b[39;49m\u001b[43m:\u001b[49m\u001b[43m \u001b[49m\u001b[43mby\u001b[49m\u001b[43m,\u001b[49m\u001b[43m \u001b[49m\u001b[38;5;124;43m\"\u001b[39;49m\u001b[38;5;124;43mvalue\u001b[39;49m\u001b[38;5;124;43m\"\u001b[39;49m\u001b[43m:\u001b[49m\u001b[43m \u001b[49m\u001b[43mvalue\u001b[49m\u001b[43m}\u001b[49m\u001b[43m)\u001b[49m[\u001b[38;5;124m\"\u001b[39m\u001b[38;5;124mvalue\u001b[39m\u001b[38;5;124m\"\u001b[39m]\n",
      "File \u001b[1;32m~\\anaconda3\\lib\\site-packages\\selenium\\webdriver\\remote\\webelement.py:403\u001b[0m, in \u001b[0;36mWebElement._execute\u001b[1;34m(self, command, params)\u001b[0m\n\u001b[0;32m    401\u001b[0m     params \u001b[38;5;241m=\u001b[39m {}\n\u001b[0;32m    402\u001b[0m params[\u001b[38;5;124m\"\u001b[39m\u001b[38;5;124mid\u001b[39m\u001b[38;5;124m\"\u001b[39m] \u001b[38;5;241m=\u001b[39m \u001b[38;5;28mself\u001b[39m\u001b[38;5;241m.\u001b[39m_id\n\u001b[1;32m--> 403\u001b[0m \u001b[38;5;28;01mreturn\u001b[39;00m \u001b[38;5;28;43mself\u001b[39;49m\u001b[38;5;241;43m.\u001b[39;49m\u001b[43m_parent\u001b[49m\u001b[38;5;241;43m.\u001b[39;49m\u001b[43mexecute\u001b[49m\u001b[43m(\u001b[49m\u001b[43mcommand\u001b[49m\u001b[43m,\u001b[49m\u001b[43m \u001b[49m\u001b[43mparams\u001b[49m\u001b[43m)\u001b[49m\n",
      "File \u001b[1;32m~\\anaconda3\\lib\\site-packages\\selenium\\webdriver\\remote\\webdriver.py:440\u001b[0m, in \u001b[0;36mWebDriver.execute\u001b[1;34m(self, driver_command, params)\u001b[0m\n\u001b[0;32m    438\u001b[0m response \u001b[38;5;241m=\u001b[39m \u001b[38;5;28mself\u001b[39m\u001b[38;5;241m.\u001b[39mcommand_executor\u001b[38;5;241m.\u001b[39mexecute(driver_command, params)\n\u001b[0;32m    439\u001b[0m \u001b[38;5;28;01mif\u001b[39;00m response:\n\u001b[1;32m--> 440\u001b[0m     \u001b[38;5;28;43mself\u001b[39;49m\u001b[38;5;241;43m.\u001b[39;49m\u001b[43merror_handler\u001b[49m\u001b[38;5;241;43m.\u001b[39;49m\u001b[43mcheck_response\u001b[49m\u001b[43m(\u001b[49m\u001b[43mresponse\u001b[49m\u001b[43m)\u001b[49m\n\u001b[0;32m    441\u001b[0m     response[\u001b[38;5;124m\"\u001b[39m\u001b[38;5;124mvalue\u001b[39m\u001b[38;5;124m\"\u001b[39m] \u001b[38;5;241m=\u001b[39m \u001b[38;5;28mself\u001b[39m\u001b[38;5;241m.\u001b[39m_unwrap_value(response\u001b[38;5;241m.\u001b[39mget(\u001b[38;5;124m\"\u001b[39m\u001b[38;5;124mvalue\u001b[39m\u001b[38;5;124m\"\u001b[39m, \u001b[38;5;28;01mNone\u001b[39;00m))\n\u001b[0;32m    442\u001b[0m     \u001b[38;5;28;01mreturn\u001b[39;00m response\n",
      "File \u001b[1;32m~\\anaconda3\\lib\\site-packages\\selenium\\webdriver\\remote\\errorhandler.py:245\u001b[0m, in \u001b[0;36mErrorHandler.check_response\u001b[1;34m(self, response)\u001b[0m\n\u001b[0;32m    243\u001b[0m         alert_text \u001b[38;5;241m=\u001b[39m value[\u001b[38;5;124m\"\u001b[39m\u001b[38;5;124malert\u001b[39m\u001b[38;5;124m\"\u001b[39m]\u001b[38;5;241m.\u001b[39mget(\u001b[38;5;124m\"\u001b[39m\u001b[38;5;124mtext\u001b[39m\u001b[38;5;124m\"\u001b[39m)\n\u001b[0;32m    244\u001b[0m     \u001b[38;5;28;01mraise\u001b[39;00m exception_class(message, screen, stacktrace, alert_text)  \u001b[38;5;66;03m# type: ignore[call-arg]  # mypy is not smart enough here\u001b[39;00m\n\u001b[1;32m--> 245\u001b[0m \u001b[38;5;28;01mraise\u001b[39;00m exception_class(message, screen, stacktrace)\n",
      "\u001b[1;31mStaleElementReferenceException\u001b[0m: Message: stale element reference: stale element not found in the current frame\n  (Session info: MicrosoftEdge=125.0.2535.85)\nStacktrace:\n\tGetHandleVerifier [0x00007FF629185DC2+61250]\n\tMicrosoft::Applications::Events::ILogConfiguration::operator* [0x00007FF6291106C9+206985]\n\t(No symbol) [0x00007FF628F1E3C7]\n\t(No symbol) [0x00007FF628F23713]\n\t(No symbol) [0x00007FF628F253DB]\n\t(No symbol) [0x00007FF628F25480]\n\t(No symbol) [0x00007FF628F64F6F]\n\t(No symbol) [0x00007FF628F65366]\n\t(No symbol) [0x00007FF628F5AAFC]\n\t(No symbol) [0x00007FF628F8493F]\n\t(No symbol) [0x00007FF628F5AAA7]\n\t(No symbol) [0x00007FF628F5A96D]\n\t(No symbol) [0x00007FF628F84BE0]\n\t(No symbol) [0x00007FF628F5AAA7]\n\t(No symbol) [0x00007FF628F9DEB7]\n\t(No symbol) [0x00007FF628F84563]\n\t(No symbol) [0x00007FF628F59FCE]\n\t(No symbol) [0x00007FF628F5918C]\n\t(No symbol) [0x00007FF628F59B81]\n\tMicrosoft::Applications::Events::EventProperty::to_string [0x00007FF62933DF54+1072532]\n\t(No symbol) [0x00007FF628FD2D9C]\n\tMicrosoft::Applications::Events::EventProperty::~EventProperty [0x00007FF62907EF4C+51468]\n\tMicrosoft::Applications::Events::EventProperty::~EventProperty [0x00007FF629073805+4549]\n\tMicrosoft::Applications::Events::EventProperty::to_string [0x00007FF62933CF15+1068373]\n\tMicrosoft::Applications::Events::ILogConfiguration::operator* [0x00007FF62911A0D1+246417]\n\tMicrosoft::Applications::Events::ILogConfiguration::operator* [0x00007FF629115434+226804]\n\tMicrosoft::Applications::Events::ILogConfiguration::operator* [0x00007FF62911556B+227115]\n\tMicrosoft::Applications::Events::ILogConfiguration::operator* [0x00007FF62910BD60+188192]\n\tBaseThreadInitThunk [0x00007FFD44BC257D+29]\n\tRtlUserThreadStart [0x00007FFD4612AA48+40]\n"
     ]
    }
   ],
   "source": [
    "# form = find_form.find_element(\"xpath\", \"//form\")\n",
    "\n",
    "\n",
    "find_form = driver.find_element(\"xpath\" , \"//div[@class='jobs-easy-apply-content']\")\n",
    "form = find_form.find_element(\"xpath\", \"//form\")\n",
    "\n",
    "\n",
    "fields  = inputs1[0].find_element(\"xpath\" , \".//fieldset\")\n",
    "                             \n",
    "answer_radio(fields, \"Yes\")                           \n",
    "                             \n",
    "                             \n",
    "                             \n",
    "fields  = inputs1[1].find_element(\"xpath\" , \".//fieldset\")\n",
    "answer_radio(fields, \"Yes\")                 \n",
    "fields  = inputs1[2].find_element(\"xpath\" , \".//input[@type = 'text']\")\n",
    "answer_text(fields, '3')                              \n",
    "fields  = inputs1[3].find_element(\"xpath\" , \".//input[@type = 'text']\")\n",
    "answer_text(fields, '3')                              \n",
    "fields  = inputs1[4].find_element(\"xpath\" , \".//input[@type = 'text']\")                             \n",
    "answer_text(fields, '2') \n",
    "fields  = inputs1[5].find_element(\"xpath\" , \".//fieldset\")\n",
    "answer_radio(fields, \"Yes\")                              \n",
    "fields  = inputs1[6].find_element(\"xpath\" , \".//select\")      \n",
    "answer_select(fields, \"Yes\") \n",
    "\n",
    "# divs = fields[0].find_elements(\"xpath\" , \".//input\")\n",
    "\n",
    "find_next(form)"
   ]
  },
  {
   "cell_type": "code",
   "execution_count": 249,
   "id": "4948de0b",
   "metadata": {},
   "outputs": [],
   "source": [
    "form_last = driver.find_element(\"xpath\" , \"//div[@class='jobs-easy-apply-content']\")\n",
    "\n",
    "find_next(form_last)"
   ]
  },
  {
   "cell_type": "code",
   "execution_count": 224,
   "id": "576631ee",
   "metadata": {},
   "outputs": [],
   "source": [
    "input1  = fields[0].find_element(\"xpath\" , \".//input[@type='radio' and @value= '{}']\".format('Yes'))\n",
    "div = input1.find_element(\"xpath\" , \"..\")"
   ]
  },
  {
   "cell_type": "code",
   "execution_count": 220,
   "id": "fbe15e39",
   "metadata": {},
   "outputs": [],
   "source": [
    "div.click()"
   ]
  },
  {
   "cell_type": "code",
   "execution_count": 241,
   "id": "14fea0c0",
   "metadata": {},
   "outputs": [],
   "source": [
    "answer_radio(fields[0], \"Yes\")"
   ]
  },
  {
   "cell_type": "code",
   "execution_count": 238,
   "id": "ebaca9a4",
   "metadata": {},
   "outputs": [],
   "source": [
    "driver.execute_script(\"arguments[0].checked = true;\", divs[0]);"
   ]
  },
  {
   "cell_type": "code",
   "execution_count": null,
   "id": "aa96e991",
   "metadata": {},
   "outputs": [],
   "source": []
  },
  {
   "cell_type": "code",
   "execution_count": 237,
   "id": "13f9142b",
   "metadata": {},
   "outputs": [],
   "source": [
    "divs = fields[0].find_elements(\"xpath\" , \".//input\")\n"
   ]
  },
  {
   "cell_type": "code",
   "execution_count": 159,
   "id": "2cea3386",
   "metadata": {},
   "outputs": [
    {
     "data": {
      "text/plain": [
       "'\\n    <legend>\\n      <span data-test-form-builder-radio-button-form-component__title=\"\" class=\"fb-dash-form-element__label\\n          fb-dash-form-element__label-title--is-required\">\\n        <span aria-hidden=\"true\"><!---->Have you completed the following level of education: Bachelor\\'s Degree?<!----></span><span class=\"visually-hidden\"><!---->Have you completed the following level of education: Bachelor\\'s Degree?<!----></span>\\n      </span>\\n\\n        <span class=\"visually-hidden\" data-test-form-builder-radio-button-form-component__required=\"\">\\n          Required\\n        </span>\\n    </legend>\\n\\n      <div data-test-text-selectable-option=\"0\" class=\"fb-text-selectable__option display-flex\">\\n  <input data-test-text-selectable-option__input=\"Yes\" id=\"urn:li:fsd_formElement:urn:li:jobs_applyformcommon_easyApplyFormElement:(3927427090,124558981,multipleChoice)-0\" class=\"fb-form-element__checkbox\" name=\"urn:li:fsd_formElement:urn:li:jobs_applyformcommon_easyApplyFormElement:(3927427090,124558981,multipleChoice)\" aria-required=\"true\" type=\"radio\" value=\"Yes\">\\n  <label data-test-text-selectable-option__label=\"Yes\" for=\"urn:li:fsd_formElement:urn:li:jobs_applyformcommon_easyApplyFormElement:(3927427090,124558981,multipleChoice)-0\" class=\"t-14\">\\n    <!---->Yes<!---->\\n  </label>\\n</div>\\n      <div data-test-text-selectable-option=\"1\" class=\"fb-text-selectable__option display-flex\">\\n  <input data-test-text-selectable-option__input=\"No\" id=\"urn:li:fsd_formElement:urn:li:jobs_applyformcommon_easyApplyFormElement:(3927427090,124558981,multipleChoice)-1\" class=\"fb-form-element__checkbox\" name=\"urn:li:fsd_formElement:urn:li:jobs_applyformcommon_easyApplyFormElement:(3927427090,124558981,multipleChoice)\" aria-required=\"true\" type=\"radio\" value=\"No\">\\n  <label data-test-text-selectable-option__label=\"No\" for=\"urn:li:fsd_formElement:urn:li:jobs_applyformcommon_easyApplyFormElement:(3927427090,124558981,multipleChoice)-1\" class=\"t-14\">\\n    <!---->No<!---->\\n  </label>\\n</div>\\n'"
      ]
     },
     "execution_count": 159,
     "metadata": {},
     "output_type": "execute_result"
    }
   ],
   "source": [
    "fields[0].get_attribute(\"innerHTML\")"
   ]
  },
  {
   "cell_type": "code",
   "execution_count": 239,
   "id": "1a5074a1",
   "metadata": {},
   "outputs": [],
   "source": []
  },
  {
   "cell_type": "code",
   "execution_count": 30,
   "id": "77aaef9c",
   "metadata": {},
   "outputs": [],
   "source": [
    "find_form = driver.find_element(\"xpath\" , \"//div[@class='jobs-easy-apply-content']\")"
   ]
  },
  {
   "cell_type": "code",
   "execution_count": 17,
   "id": "5b77fecf",
   "metadata": {},
   "outputs": [],
   "source": [
    "#handle buttons\n",
    "\n",
    "#text input\n",
    "\n",
    "\n"
   ]
  },
  {
   "cell_type": "code",
   "execution_count": 135,
   "id": "2001128d",
   "metadata": {},
   "outputs": [
    {
     "data": {
      "text/plain": [
       "[]"
      ]
     },
     "execution_count": 135,
     "metadata": {},
     "output_type": "execute_result"
    }
   ],
   "source": [
    "#write code for each element \n",
    "# begin with clicking\n",
    "# add exceptions at the end\n",
    "# write the iterator \n",
    "# add logging for everything\n"
   ]
  }
 ],
 "metadata": {
  "kernelspec": {
   "display_name": "Python 3 (ipykernel)",
   "language": "python",
   "name": "python3"
  },
  "language_info": {
   "codemirror_mode": {
    "name": "ipython",
    "version": 3
   },
   "file_extension": ".py",
   "mimetype": "text/x-python",
   "name": "python",
   "nbconvert_exporter": "python",
   "pygments_lexer": "ipython3",
   "version": "3.11.7"
  }
 },
 "nbformat": 4,
 "nbformat_minor": 5
}
