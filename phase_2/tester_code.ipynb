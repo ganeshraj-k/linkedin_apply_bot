{
 "cells": [
  {
   "cell_type": "code",
   "execution_count": 2,
   "metadata": {},
   "outputs": [],
   "source": [
    "from selenium import webdriver\n",
    "from selenium.webdriver.edge.service import Service\n",
    "from selenium.webdriver.edge.options import Options\n",
    "from selenium.webdriver.common.keys import Keys\n",
    "from selenium.webdriver.common.by import By\n",
    "from bs4 import BeautifulSoup\n",
    "from selenium.webdriver.support.ui import Select\n",
    "from selenium.webdriver.support.ui import WebDriverWait\n",
    "import random\n",
    "from selenium.webdriver.support import expected_conditions as EC\n",
    "import time\n",
    "from random import randint\n",
    "from thefuzz import process\n",
    "import json\n",
    "# Set the path to your downloaded Edge WebDriver executable\n",
    "\n",
    "\n",
    "# Initialize the Edge WebDriver\n",
    "driver = webdriver.Edge()\n",
    "driver.implicitly_wait(randint(1,3))\n",
    "\n",
    "# Initialize the Edge Service"
   ]
  },
  {
   "cell_type": "markdown",
   "metadata": {},
   "source": [
    "import json\n"
   ]
  },
  {
   "cell_type": "code",
   "execution_count": 3,
   "metadata": {},
   "outputs": [],
   "source": [
    "driver.get(\"file:///C:/Users/localadmin/Desktop/myprojects/linkedinsucks/linkedinsucks/code/sample.html\")"
   ]
  },
  {
   "cell_type": "code",
   "execution_count": 5,
   "metadata": {},
   "outputs": [],
   "source": [
    "form = driver.find_element(\"xpath\", \".//form\")"
   ]
  },
  {
   "cell_type": "code",
   "execution_count": 6,
   "metadata": {},
   "outputs": [],
   "source": [
    "fields = form.find_elements(\"xpath\" , \"//div[contains(@class, 'jobs-easy-apply-form-section__grouping')]\")"
   ]
  },
  {
   "cell_type": "code",
   "execution_count": 7,
   "metadata": {},
   "outputs": [],
   "source": [
    "count = len(fields)\n",
    "\n",
    "radios = []\n",
    "\n",
    "\n",
    "radios = form.find_elements(\"xpath\" , \".//fieldset[@data-test-form-builder-radio-button-form-component = 'true']\" )\n",
    "\n",
    "text_dropdown = form.find_element(\"xpath\" ,\".//div[@data-test-text-entity-list-form-component='']\")\n",
    "singleline_textfields = form.find_elements(\"xpath\" , \".//div[@data-test-single-line-text-form-component='']\")\n",
    "len(singleline_textfields)\n",
    "multiline_fields = form.find_elements(\"xpath\" , \".//div[@data-test-multiline-text-form-component='']\")\n",
    "checkbox = form.find_element(\"xpath\" , \".//fieldset[@data-test-checkbox-form-component='true']\") "
   ]
  },
  {
   "cell_type": "code",
   "execution_count": null,
   "metadata": {},
   "outputs": [],
   "source": [
    "class=\"relative \" data-test-single-typeahead-entity-form-component=\"\""
   ]
  },
  {
   "cell_type": "code",
   "execution_count": null,
   "metadata": {},
   "outputs": [],
   "source": [
    "autofills = form.find_elements(\"xpath\" , \".//div[@data-test-single-typeahead-entity-form-component='']\")"
   ]
  },
  {
   "cell_type": "code",
   "execution_count": null,
   "metadata": {},
   "outputs": [],
   "source": []
  },
  {
   "cell_type": "code",
   "execution_count": 68,
   "metadata": {},
   "outputs": [
    {
     "name": "stdout",
     "output_type": "stream",
     "text": [
      "Question: Do you now, or will you in the future, require sponsorship for employment visa status (e.g., H-1B visa status, etc.) to work legally for our Company in the United States?Do you now, or will you in the future, require sponsorship for employment visa status (e.g., H-1B visa status, etc.) to work legally for our Company in the United States?\n",
      "Option: Yes, I will require sponsorship now or in the future\n",
      "Option: No, I will not require sponsorship now or in the future\n"
     ]
    }
   ],
   "source": [
    "# Extract the question\n",
    "\n",
    "fieldset  = radios[1]\n",
    "\n",
    "\n",
    "question = fieldset.find_element(By.XPATH, \".//legend/span[@data-test-form-builder-radio-button-form-component__title]\").text\n",
    "print(\"Question:\", question)\n",
    "\n",
    "# Extract the options\n",
    "options = fieldset.find_elements(By.XPATH, \".//div[@data-test-text-selectable-option]\")\n",
    "for option in options:\n",
    "    option_text = option.find_element(By.XPATH, \".//label\").text\n",
    "    print(\"Option:\", option_text)"
   ]
  },
  {
   "cell_type": "markdown",
   "metadata": {},
   "source": []
  },
  {
   "cell_type": "code",
   "execution_count": 69,
   "metadata": {},
   "outputs": [],
   "source": [
    "options = fieldset.find_elements(By.XPATH, \".//div[@data-test-text-selectable-option]\")\n",
    "\n",
    "# Select the first option (Yes)\n",
    "yes_option = options[1].find_element(By.XPATH, \".//input[@type='radio']\")\n",
    "yes_option.click()"
   ]
  },
  {
   "cell_type": "code",
   "execution_count": 144,
   "metadata": {},
   "outputs": [],
   "source": [
    "def update_questions(path_json, questions_dict):\n",
    "    with open(path_json, 'r') as file:\n",
    "    # Load the JSON data\n",
    "        data = json.load(file)\n",
    "    file.close()\n",
    "\n",
    "    data.update(questions_dict)\n",
    "\n",
    "    with open(path_json, 'w') as file:\n",
    "        json.dump(questions_dict, file)\n",
    "    file.close()\n",
    "\n"
   ]
  },
  {
   "cell_type": "code",
   "execution_count": 141,
   "metadata": {},
   "outputs": [
    {
     "name": "stdout",
     "output_type": "stream",
     "text": [
      "{'would you be requiring visa sponsorship in the future': 'yes', 'Country': 'united states of america'}\n"
     ]
    },
    {
     "data": {
      "text/plain": [
       "'united states of america'"
      ]
     },
     "execution_count": 141,
     "metadata": {},
     "output_type": "execute_result"
    }
   ],
   "source": [
    "import json\n",
    "\n",
    "# Open the JSON file\n",
    "with open('QnA.json', 'r') as file:\n",
    "    # Load the JSON data\n",
    "    data = json.load(file)\n",
    "file.close()\n",
    "\n",
    "\n",
    "new_record = {}\n",
    "new_record['this']  = 'that'\n",
    "new_record['is'] = 'was'\n",
    "\n",
    "data.update(new_record)\n",
    "\n",
    "with open('QnA.json' , 'w') as file:\n",
    "    json.dump(data, file)\n",
    "\n",
    "file.close()"
   ]
  },
  {
   "cell_type": "code",
   "execution_count": 143,
   "metadata": {},
   "outputs": [],
   "source": [
    "new_record = {}\n",
    "new_record['this']  = 'that'\n",
    "new_record['is'] = 'was'\n",
    "\n",
    "data.update(new_record)\n",
    "\n",
    "with open('QnA.json' , 'w') as file:\n",
    "    json.dump(data, file)\n",
    "\n",
    "file.close()"
   ]
  },
  {
   "cell_type": "code",
   "execution_count": 17,
   "metadata": {},
   "outputs": [],
   "source": [
    "def answer_machine(question):\n",
    "\n",
    "    fuck me fuck me fucm me \n",
    "\n",
    "    return answer\n"
   ]
  },
  {
   "cell_type": "code",
   "execution_count": 39,
   "metadata": {},
   "outputs": [
    {
     "name": "stdout",
     "output_type": "stream",
     "text": [
      "Do you consent to being contacted about this job via text/SMS?Do you consent to being contacted about this job via text/SMS? ['Yes', 'No']\n"
     ]
    }
   ],
   "source": [
    "radio_select(radios[0])"
   ]
  },
  {
   "cell_type": "code",
   "execution_count": 74,
   "metadata": {},
   "outputs": [],
   "source": [
    "answer = \"Yes I will require sponsorship\""
   ]
  },
  {
   "cell_type": "code",
   "execution_count": 81,
   "metadata": {},
   "outputs": [
    {
     "name": "stdout",
     "output_type": "stream",
     "text": [
      "Have you completed Junior year of college, majoring in a mathematical science (mathematics, statistics, physics, or computer science)?Have you completed Junior year of college, majoring in a mathematical science (mathematics, statistics, physics, or computer science)? ['yes', 'no']\n"
     ]
    }
   ],
   "source": [
    "radio_select(radios[2])  #fuck me up"
   ]
  },
  {
   "cell_type": "code",
   "execution_count": 99,
   "metadata": {},
   "outputs": [],
   "source": [
    "def radio_select(radio_button):\n",
    "    question = radio_button.find_element(By.XPATH, \".//legend/span[@data-test-form-builder-radio-button-form-component__title]\").text\n",
    "    option_elements = radio_button.find_elements(By.XPATH, \".//div[@data-test-text-selectable-option]\")\n",
    "    options = []\n",
    "    \n",
    "    for option in option_elements:\n",
    "        options.append(  option.find_element(By.XPATH, \".//label\").text.lower())\n",
    "    print(question, options)\n",
    "\n",
    "    answer_match = process.extractOne(answer, options)[0] \n",
    "    selected_option = option_elements[options.index(answer_match)].find_element(By.XPATH, \".//input[@type='radio']\")\n",
    "    selected_option.click()\n",
    "    #driver.execute_script(\"arguments[0].click();\", selected_option)\n",
    "    \n",
    "\n",
    "def dropdown_select(dropdown_element):\n",
    "    # Extract the question\n",
    "    question = dropdown_element.find_element(By.XPATH, \".//label/span[@aria-hidden='true']\").text\n",
    "    \n",
    "    # Extract the options\n",
    "    options = [option.text for option in dropdown_element.find_elements(By.XPATH, \".//select/option\")]\n",
    "    \n",
    "    # Print the question and options\n",
    "    print(\"Question:\", question)\n",
    "    print(\"Options:\", options)\n",
    "    \n",
    "    # Find the best match for the answer\n",
    "    answer_match = process.extractOne(answer, options)[0]\n",
    "    \n",
    "    # Select the matched option using Select\n",
    "    select_element = dropdown_element.find_element(By.XPATH, \".//select[contains(@id, 'text-entity-list-form-component-formElement')]\")\n",
    "    select = Select(select_element)\n",
    "    select.select_by_visible_text(answer_match)\n",
    "\n",
    "\n",
    "\n",
    "\n",
    "def fill_single_line_text_field(text_field):\n",
    "    # Extract the question\n",
    "    question = text_field.find_element(By.XPATH, \".//label\").text\n",
    "    \n",
    "    # Print the question\n",
    "    print(\"Question:\", question)\n",
    "    \n",
    "    # Fill the answer in the input field\n",
    "    input_field = text_field.find_element(By.XPATH, \".//input[@type='text']\")\n",
    "    input_field.send_keys(answer)\n",
    "\n",
    "def fill_multiline_text_field(text_field):\n",
    "    # Extract the question\n",
    "    question = text_field.find_element(By.XPATH, \".//label\").text\n",
    "    \n",
    "    # Print the question\n",
    "    print(\"Question:\", question)\n",
    "    \n",
    "    # Fill the answer in the textarea field\n",
    "    textarea_field = text_field.find_element(By.XPATH, \".//textarea\")\n",
    "    textarea_field.send_keys(answer)\n",
    "\n",
    "\n",
    "\n",
    "\n",
    "\n",
    "\n",
    "def checkbox_select(fieldset_element, answers):\n",
    "    # Extract the question\n",
    "    question = fieldset_element.find_element(By.XPATH, \".//legend/div[@data-test-checkbox-form-title='true']\").text\n",
    "    \n",
    "    # Extract the options\n",
    "    option_elements = fieldset_element.find_elements(By.XPATH, \".//div[@data-test-text-selectable-option]\")\n",
    "    options = [option.find_element(By.XPATH, \".//label\").text for option in option_elements]\n",
    "    \n",
    "    # Print the question and options\n",
    "    print(\"Question:\", question)\n",
    "    print(\"Options:\", options)\n",
    "    \n",
    "    # Select the matched options\n",
    "    for answer in answers:\n",
    "        answer_match = process.extractOne(answer, options)[0]\n",
    "        option_index = options.index(answer_match)\n",
    "        checkbox = option_elements[option_index].find_element(By.XPATH, \".//input[@type='checkbox']\")\n",
    "        if not checkbox.is_selected():\n",
    "            checkbox.click()\n",
    "\n",
    "\n",
    "\n",
    "\n",
    "def autofill_answer(autofill_field, answer):\n",
    "\n",
    "    input_field = autofill_field.find_element(\"xpath\" , \".//input[@aria-autocomplete='list']\")\n",
    "    input_field.send_keys(answer)\n",
    "    time.sleep(1.0)\n",
    "    input_field.send_keys(Keys.DOWN)\n",
    "    input_field.send_keys(Keys.ENTER)\n",
    "\n",
    "    "
   ]
  },
  {
   "cell_type": "code",
   "execution_count": 106,
   "metadata": {},
   "outputs": [],
   "source": [
    "answer = \"fuck my shit iup\""
   ]
  },
  {
   "cell_type": "code",
   "execution_count": 112,
   "metadata": {},
   "outputs": [
    {
     "data": {
      "text/plain": [
       "5"
      ]
     },
     "execution_count": 112,
     "metadata": {},
     "output_type": "execute_result"
    }
   ],
   "source": [
    "len(multiline_fields)"
   ]
  },
  {
   "cell_type": "code",
   "execution_count": 120,
   "metadata": {},
   "outputs": [
    {
     "name": "stdout",
     "output_type": "stream",
     "text": [
      "Question: Do you have a proven track record of designing and building statistical and machine learning models to solve complex problems.\n"
     ]
    }
   ],
   "source": [
    "fill_multiline_text_field(multiline_fields[4])"
   ]
  },
  {
   "cell_type": "code",
   "execution_count": 116,
   "metadata": {},
   "outputs": [],
   "source": [
    "def fill_single_line_text_field(text_field):\n",
    "    # Extract the question\n",
    "    question = text_field.find_element(By.XPATH, \".//label\").text\n",
    "    \n",
    "    # Print the question\n",
    "    print(\"Question:\", question)\n",
    "    \n",
    "    # Fill the answer in the input field\n",
    "    input_field = text_field.find_element(By.XPATH, \".//input[@type='text']\")\n",
    "    input_field.send_keys(answer)\n",
    "\n",
    "def fill_multiline_text_field(text_field):\n",
    "    # Extract the question\n",
    "    question = text_field.find_element(By.XPATH, \".//label\").text\n",
    "    \n",
    "    # Print the question\n",
    "    print(\"Question:\", question)\n",
    "    \n",
    "    # Fill the answer in the textarea field\n",
    "    textarea_field = text_field.find_element(By.XPATH, \".//textarea\")\n",
    "    textarea_field.send_keys(answer)\n",
    "\n",
    "\n",
    "\n",
    "\n",
    "\n",
    "\n",
    "def checkbox_select(fieldset_element, answers):\n",
    "    # Extract the question\n",
    "    question = fieldset_element.find_element(By.XPATH, \".//legend/div[@data-test-checkbox-form-title='true']\").text\n",
    "    \n",
    "    # Extract the options\n",
    "    option_elements = fieldset_element.find_elements(By.XPATH, \".//div[@data-test-text-selectable-option]\")\n",
    "    options = [option.find_element(By.XPATH, \".//label\").text for option in option_elements]\n",
    "    \n",
    "    # Print the question and options\n",
    "    print(\"Question:\", question)\n",
    "    print(\"Options:\", options)\n",
    "    \n",
    "    # Select the matched options\n",
    "    for answer in answers:\n",
    "        answer_match = process.extractOne(answer, options)[0]\n",
    "        option_index = options.index(answer_match)\n",
    "        checkbox = option_elements[option_index].find_element(By.XPATH, \".//input[@type='checkbox']\")\n",
    "        if not checkbox.is_selected():\n",
    "            checkbox.click()\n",
    "\n",
    "\n",
    "\n",
    "\n",
    "def autofill_answer(autofill_field, answer):\n",
    "\n",
    "    input_field = autofill_field.find_element(\"xpath\" , \".//input[@aria-autocomplete='list']\")\n",
    "    input_field.send_keys(answer)\n",
    "    time.sleep(1.0)\n",
    "    input_field.send_keys(Keys.DOWN)\n",
    "    input_field.send_keys(Keys.ENTER)\n"
   ]
  },
  {
   "cell_type": "code",
   "execution_count": 125,
   "metadata": {},
   "outputs": [
    {
     "name": "stdout",
     "output_type": "stream",
     "text": [
      "Question: Do you have understanding & utilized Python, SQL, Pandas, TensorFlow, PyTorch?Do you have understanding & utilized Python, SQL, Pandas, TensorFlow, PyTorch?\n",
      "Options: ['Python', 'SQL', 'Pandas', 'TensorFlow', 'PyTorch']\n"
     ]
    }
   ],
   "source": [
    "checkbox_select(checkbox , ['python' , 'sql' , 'tensorflow'])"
   ]
  },
  {
   "cell_type": "code",
   "execution_count": 121,
   "metadata": {},
   "outputs": [],
   "source": [
    "\n",
    "\n",
    "def checkbox_select(fieldset_element, answers):\n",
    "    # Extract the question\n",
    "    question = fieldset_element.find_element(By.XPATH, \".//legend/div[@data-test-checkbox-form-title='true']\").text\n",
    "    \n",
    "    # Extract the options\n",
    "    option_elements = fieldset_element.find_elements(By.XPATH, \".//div[@data-test-text-selectable-option]\")\n",
    "    options = [option.find_element(By.XPATH, \".//label\").text for option in option_elements]\n",
    "    \n",
    "    # Print the question and options\n",
    "    print(\"Question:\", question)\n",
    "    print(\"Options:\", options)\n",
    "    \n",
    "    # Select the matched options\n",
    "    for answer in answers:\n",
    "        answer_match = process.extractOne(answer, options)[0]\n",
    "        option_index = options.index(answer_match)\n",
    "        checkbox = option_elements[option_index].find_element(By.XPATH, \".//input[@type='checkbox']\")\n",
    "        if not checkbox.is_selected():\n",
    "            checkbox.click()\n",
    "\n",
    "\n",
    "\n",
    "\n",
    "def autofill_answer(autofill_field, answer):\n",
    "\n",
    "    input_field = autofill_field.find_element(\"xpath\" , \".//input[@aria-autocomplete='list']\")\n",
    "    input_field.send_keys(answer)\n",
    "    time.sleep(1.0)\n",
    "    input_field.send_keys(Keys.DOWN)\n",
    "    input_field.send_keys(Keys.ENTER)"
   ]
  },
  {
   "cell_type": "code",
   "execution_count": 135,
   "metadata": {},
   "outputs": [
    {
     "name": "stdout",
     "output_type": "stream",
     "text": [
      "[\n"
     ]
    }
   ],
   "source": [
    "# example.py\n",
    "answer = input(\"Enter your name: \")\n",
    "print(name[0])\n"
   ]
  },
  {
   "cell_type": "code",
   "execution_count": 133,
   "metadata": {},
   "outputs": [],
   "source": [
    "lis1 = []\n",
    "for i in lis1:\n",
    "    print(\"yes\")"
   ]
  },
  {
   "cell_type": "code",
   "execution_count": 127,
   "metadata": {},
   "outputs": [],
   "source": [
    "def autofill_answer(autofill_field, answer):\n",
    "\n",
    "    input_field = autofill_field.find_element(\"xpath\" , \".//input[@aria-autocomplete='list']\")\n",
    "    input_field.send_keys(answer)\n",
    "    time.sleep(1.0)\n",
    "    input_field.send_keys(Keys.DOWN)\n",
    "    input_field.send_keys(Keys.ENTER)"
   ]
  },
  {
   "cell_type": "code",
   "execution_count": 98,
   "metadata": {},
   "outputs": [
    {
     "name": "stdout",
     "output_type": "stream",
     "text": [
      "Question: What's your highest level of education completed?\n",
      "Options: ['Select an option', 'GED or Equivalent', 'High School', 'Some College', 'College - Associates', 'College - Bachelor of Arts', 'College - Bachelor of Fine Arts', 'College - Bachelor of Science', 'College - Master of Arts', 'College - Master of Science', 'College - Master of Fine Arts', 'College - Master of Business Administration', 'College - Doctorate', 'Medical Doctor', 'Other']\n"
     ]
    }
   ],
   "source": [
    "dropdown_select(text_dropdown)"
   ]
  },
  {
   "cell_type": "code",
   "execution_count": 86,
   "metadata": {},
   "outputs": [],
   "source": [
    "checkbox_select()"
   ]
  },
  {
   "cell_type": "code",
   "execution_count": 20,
   "metadata": {},
   "outputs": [
    {
     "name": "stdout",
     "output_type": "stream",
     "text": [
      "('Yes I need visa H1 B sponsorship', 86)\n"
     ]
    }
   ],
   "source": [
    "choices = [\"Yes I need visa H1 B sponsorship\" , \"No I do not need visa sponsorship\"]\n",
    "query = \"I need sponsorship\"\n",
    "best_match = process.extractOne(query, choices)\n",
    "print(best_match)"
   ]
  },
  {
   "cell_type": "code",
   "execution_count": null,
   "metadata": {},
   "outputs": [],
   "source": [
    "\n",
    "def answer_select(field , answer):\n",
    "    select = field.find_element(\"xpath\",\".//select[contains(@id, 'text-entity-list-form-component-formElement')]\")\n",
    "    select = Select(select)\n",
    "    select.select_by_value('{}'.format(answer))\n",
    "\n",
    "def answer_text(field, answer):\n",
    "    text = field.find_element(\"xpath\" , \".//input[@type = 'text']\")\n",
    "    text.send_keys(answer)\n",
    "    \n",
    "    \n",
    "def answer_radio(field , answer):\n",
    "    radio_select = field.find_element(\"xpath\" , \".//fieldset\")\n",
    "    div_answer  = radio_select.find_element(\"xpath\" , \".//input[@type='radio' and @value= '{}']\".format(answer))\n",
    "    driver.execute_script(\"arguments[0].click();\", div_answer)\n",
    "         "
   ]
  },
  {
   "cell_type": "code",
   "execution_count": 21,
   "metadata": {},
   "outputs": [
    {
     "name": "stdout",
     "output_type": "stream",
     "text": [
      "1\n"
     ]
    }
   ],
   "source": [
    "# radio answer\n",
    "# list drop down answer\n",
    "# short text\n",
    "# long text\n",
    "# autocomplete answer"
   ]
  }
 ],
 "metadata": {
  "kernelspec": {
   "display_name": "linkedinbot_venv",
   "language": "python",
   "name": "python3"
  },
  "language_info": {
   "codemirror_mode": {
    "name": "ipython",
    "version": 3
   },
   "file_extension": ".py",
   "mimetype": "text/x-python",
   "name": "python",
   "nbconvert_exporter": "python",
   "pygments_lexer": "ipython3",
   "version": "3.12.4"
  }
 },
 "nbformat": 4,
 "nbformat_minor": 2
}
