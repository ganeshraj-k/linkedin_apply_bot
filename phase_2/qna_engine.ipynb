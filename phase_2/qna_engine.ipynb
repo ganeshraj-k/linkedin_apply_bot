{
 "cells": [
  {
   "cell_type": "code",
   "execution_count": 15,
   "metadata": {},
   "outputs": [],
   "source": [
    "import json\n",
    "from fuzzywuzzy import process, fuzz\n",
    "import requests\n",
    "\n",
    "mydata_path = r\"C:\\Users\\localadmin\\Desktop\\myprojects\\linkedinsucks\\linkedinsucks\\mydata\""
   ]
  },
  {
   "cell_type": "code",
   "execution_count": 18,
   "metadata": {},
   "outputs": [],
   "source": [
    "def read_json(json_path):\n",
    "    with open(json_path,  'r') as file:\n",
    "        data = json.load(file)\n",
    "    return data\n",
    "\n",
    "def write_json(json_data, json_path):\n",
    "    with open(json_path , 'w') as file:\n",
    "        json.dump(json_data, file, indent=4)\n",
    "\n",
    "    \n",
    "    "
   ]
  },
  {
   "cell_type": "code",
   "execution_count": 21,
   "metadata": {},
   "outputs": [
    {
     "data": {
      "text/plain": [
       "{'name': 'Ganesh Raj Kyatham', 'number': '8483138525'}"
      ]
     },
     "execution_count": 21,
     "metadata": {},
     "output_type": "execute_result"
    }
   ],
   "source": []
  },
  {
   "cell_type": "code",
   "execution_count": 16,
   "metadata": {},
   "outputs": [],
   "source": [
    "dict1 = {}\n",
    "\n",
    "dict1['name'] = 'Ganesh Raj Kyatham'\n",
    "dict1['number'] = '8483138525'"
   ]
  },
  {
   "cell_type": "code",
   "execution_count": 3,
   "metadata": {},
   "outputs": [
    {
     "data": {
      "text/plain": [
       "['elaborated_resume.txt', 'questions.json']"
      ]
     },
     "execution_count": 3,
     "metadata": {},
     "output_type": "execute_result"
    }
   ],
   "source": [
    "import os\n",
    "os.listdir(mydata_path)"
   ]
  },
  {
   "cell_type": "code",
   "execution_count": 7,
   "metadata": {},
   "outputs": [],
   "source": [
    "def rag_query(query):\n",
    "    url = \"http://127.0.0.1:8000/resume_qa\"\n",
    "    payload = {\"query\": query}\n",
    "    response = requests.post(url, json=payload)\n",
    "    return response.json()['response']"
   ]
  },
  {
   "cell_type": "code",
   "execution_count": 8,
   "metadata": {},
   "outputs": [
    {
     "data": {
      "text/plain": [
       "'Ganesh Raj K'"
      ]
     },
     "execution_count": 8,
     "metadata": {},
     "output_type": "execute_result"
    }
   ],
   "source": [
    "rag_query(\"what is your name\")"
   ]
  },
  {
   "cell_type": "code",
   "execution_count": 4,
   "metadata": {},
   "outputs": [
    {
     "name": "stdout",
     "output_type": "stream",
     "text": [
      "Ganesh Raj K\n"
     ]
    }
   ],
   "source": [
    "url = \"http://127.0.0.1:8000/resume_qa\"\n",
    "payload = {\"query\": \"what is your name\"}\n",
    "response = requests.post(url, json=payload)\n",
    "print(response.json()['response'])            "
   ]
  },
  {
   "cell_type": "code",
   "execution_count": 11,
   "metadata": {},
   "outputs": [
    {
     "name": "stdout",
     "output_type": "stream",
     "text": [
      "{'what is your name': 'ganesh raj k', 'what is your phone number': '8484848484'}\n"
     ]
    },
    {
     "name": "stderr",
     "output_type": "stream",
     "text": [
      "<>:3: SyntaxWarning: invalid escape sequence '\\q'\n",
      "<>:3: SyntaxWarning: invalid escape sequence '\\q'\n",
      "C:\\Users\\localadmin\\AppData\\Local\\Temp\\ipykernel_19900\\1568751968.py:3: SyntaxWarning: invalid escape sequence '\\q'\n",
      "  qna_dict_path = mydata_path + \"\\questions.json\"\n"
     ]
    }
   ],
   "source": [
    "question = \"\"\n",
    "\n",
    "qna_dict_path = mydata_path + \"\\questions.json\"\n",
    "\n",
    "with open(qna_dict_path, 'r') as file:\n",
    "    qna_dict = json.load(file)\n",
    "print(qna_dict)"
   ]
  },
  {
   "cell_type": "code",
   "execution_count": 7,
   "metadata": {},
   "outputs": [],
   "source": [
    "qna_dict['what is your name'] = \"ganesh raj k\"\n",
    "qna_dict['what is your phone number'] = \"8484848484\""
   ]
  },
  {
   "cell_type": "code",
   "execution_count": 8,
   "metadata": {},
   "outputs": [
    {
     "name": "stdout",
     "output_type": "stream",
     "text": [
      "JSON file updated successfully!\n"
     ]
    }
   ],
   "source": [
    "with open(qna_dict_path, 'w') as file:\n",
    "    json.dump(qna_dict, file, indent=4)\n",
    "\n",
    "print(\"JSON file updated successfully!\")\n",
    "\n",
    "file.close()"
   ]
  },
  {
   "cell_type": "code",
   "execution_count": 13,
   "metadata": {},
   "outputs": [],
   "source": [
    "def qna_engine(question):\n",
    "    \n",
    "\n",
    "    questions_list = list(qna_dict.keys())\n",
    "    \n",
    "\n",
    "    question = str(question)\n",
    "    \n",
    "\n",
    "    if question in qna_dict:\n",
    "        answer =  qna_dict[question]\n",
    "    else:\n",
    "        threshold = 85\n",
    "        matches = process.extract(question, questions_list, scorer=fuzz.WRatio, limit=3)\n",
    "        filtered_matches = [match for match in matches if match[1] >= threshold]\n",
    "        \n",
    "        if not filtered_matches:\n",
    "            answer = rag_query(question)\n",
    "            qna_dict[question] = answer\n",
    "        else:\n",
    "            answer =  qna_dict[filtered_matches[0]]\n",
    "\n",
    "\n",
    "        \n",
    "    return answer\n",
    "    \n"
   ]
  },
  {
   "cell_type": "code",
   "execution_count": 14,
   "metadata": {},
   "outputs": [
    {
     "data": {
      "text/plain": [
       "'Ganesh Raj K'"
      ]
     },
     "execution_count": 14,
     "metadata": {},
     "output_type": "execute_result"
    }
   ],
   "source": [
    "qna_engine(\"whats the name \")"
   ]
  },
  {
   "cell_type": "code",
   "execution_count": 28,
   "metadata": {},
   "outputs": [
    {
     "name": "stdout",
     "output_type": "stream",
     "text": [
      "Yes\n"
     ]
    }
   ],
   "source": [
    "\n",
    "\n",
    "# The string you want to match\n",
    "query = \"whats the name\"\n",
    "\n",
    "# The list of strings to match against\n",
    "choices = [\"what is your name\", \"My name is Ali\", \"My Ali\", \"Hello Ali\"]\n",
    "\n",
    "# Set a threshold\n",
    "threshold = 80\n",
    "\n",
    "# Get matches that meet the threshold using a custom scorer\n",
    "matches = process.extract(query, choices, scorer=fuzz.WRatio, limit=10)\n",
    "filtered_matches = [match for match in matches if match[1] >= threshold]\n",
    "\n",
    "# Print the filtered matches\n",
    "for match in filtered_matches:\n",
    "    print(match)\n",
    "if  not filtered_matches:\n",
    "    print(\"Yes\")\n"
   ]
  }
 ],
 "metadata": {
  "kernelspec": {
   "display_name": "linkedinbot_venv",
   "language": "python",
   "name": "python3"
  },
  "language_info": {
   "codemirror_mode": {
    "name": "ipython",
    "version": 3
   },
   "file_extension": ".py",
   "mimetype": "text/x-python",
   "name": "python",
   "nbconvert_exporter": "python",
   "pygments_lexer": "ipython3",
   "version": "3.12.4"
  }
 },
 "nbformat": 4,
 "nbformat_minor": 2
}
