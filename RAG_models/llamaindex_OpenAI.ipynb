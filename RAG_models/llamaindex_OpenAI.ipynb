{
 "cells": [
  {
   "cell_type": "markdown",
   "metadata": {},
   "source": [
    "## Rag system using LLama2 with HuggingFace"
   ]
  },
  {
   "cell_type": "code",
   "execution_count": 1,
   "metadata": {},
   "outputs": [
    {
     "data": {
      "text/plain": [
       "False"
      ]
     },
     "execution_count": 1,
     "metadata": {},
     "output_type": "execute_result"
    }
   ],
   "source": [
    "## embedding:\n",
    "import os\n",
    "from dotenv import load_dotenv\n",
    "from llama_index.core import VectorStoreIndex, SimpleDirectoryReader\n",
    "from llama_index.core.response.pprint_utils import pprint_response\n",
    "load_dotenv()\n"
   ]
  },
  {
   "cell_type": "code",
   "execution_count": 6,
   "metadata": {},
   "outputs": [],
   "source": [
    "\n",
    "\n",
    "\n",
    "os.environ[\"OPENAI_API_KEY\"] = OPENAI_API_KEY\n"
   ]
  },
  {
   "cell_type": "code",
   "execution_count": 3,
   "metadata": {},
   "outputs": [],
   "source": [
    "\n",
    "documents = SimpleDirectoryReader('./mydata').load_data()\n",
    "index = VectorStoreIndex.from_documents(documents)\n",
    "index = VectorStoreIndex.from_documents(documents)"
   ]
  },
  {
   "cell_type": "code",
   "execution_count": 4,
   "metadata": {},
   "outputs": [
    {
     "data": {
      "text/plain": [
       "[Document(id_='de32b4e7-b8e0-47a2-ab1a-01840d007e77', embedding=None, metadata={'file_path': 'c:\\\\Users\\\\localadmin\\\\Desktop\\\\myprojects\\\\linkedinsucks\\\\linkedinsucks\\\\RAG_models\\\\mydata\\\\QnA.json', 'file_name': 'QnA.json', 'file_type': 'application/json', 'file_size': 751, 'creation_date': '2024-08-07', 'last_modified_date': '2024-08-08'}, excluded_embed_metadata_keys=['file_name', 'file_type', 'file_size', 'creation_date', 'last_modified_date', 'last_accessed_date'], excluded_llm_metadata_keys=['file_name', 'file_type', 'file_size', 'creation_date', 'last_modified_date', 'last_accessed_date'], relationships={}, text='{\"Email address\": \"ganesh_012@outlook.com\", \"Phone country code\": \"United States (+1)\", \"Mobile phone number\": \"8483138525\", \"How many years of work experience do you have with PySpark?\": \"2\", \"How many years of work experience do you have with Data Engineering?\": \"3\", \"How many years of work experience do you have with Amazon Web Services (AWS)?\": \"3\", \"Have you completed the following level of education: Bachelor\\'s Degree?\\\\nHave you completed the following level of education: Bachelor\\'s Degree?\": \"Yes\", \"How many years of work experience do you have with Python (Programming Language)?\": \"4\", \"How many years of work experience do you have with Test Automation?\": \"1\", \"How many years of work experience do you have with Mobile Devices?\": \"1\"}', mimetype='text/plain', start_char_idx=None, end_char_idx=None, text_template='{metadata_str}\\n\\n{content}', metadata_template='{key}: {value}', metadata_seperator='\\n'),\n",
       " Document(id_='9ad24789-68d3-489a-b545-5f395244f0dd', embedding=None, metadata={'page_label': '1', 'file_name': 'resume_july_2024_master.pdf', 'file_path': 'c:\\\\Users\\\\localadmin\\\\Desktop\\\\myprojects\\\\linkedinsucks\\\\linkedinsucks\\\\RAG_models\\\\mydata\\\\resume_july_2024_master.pdf', 'file_type': 'application/pdf', 'file_size': 191973, 'creation_date': '2024-08-08', 'last_modified_date': '2024-08-01'}, excluded_embed_metadata_keys=['file_name', 'file_type', 'file_size', 'creation_date', 'last_modified_date', 'last_accessed_date'], excluded_llm_metadata_keys=['file_name', 'file_type', 'file_size', 'creation_date', 'last_modified_date', 'last_accessed_date'], relationships={}, text='Ganesh Raj K  \\n◆ ganesh_012@outlook.com    ◆   848 313 8525   ◆   linkedin.com/in/ganeshrajk    ◆   github.com/ganeshraj -k \\nEXPERIENCE : \\nRutgers UCM, Data Analyst         Feb 2023 – Present, New Brunswick  \\n• Harnessed learning data from canvas Api to predict new student course outcomes /CGPA grade  using a classification \\nmodel with 78 percent success rate  in classifying new students.  \\n• The dataset consisted of 12 diverse features including demographic academic, behavioral, parent participation for the \\npredictive modeling.  \\n• Extracted data using canvas Api, preprocessed using python, and used ANN for the classificatio n model.  \\nDeloitte Consulting, Data Analyst       June 2019 – Jan 2022, Bengaluru  \\nMedical Data NER:  \\n• Enhanced query speed for a medical record database with over 2 million records.  \\n• Used Amazon Comprehend with Python to perform Named Entity Recognition on the DynamoDB dataset.  \\n• Added recognized entities as tags using AWS Glue for the ETL process.  \\nRestaurant Chain:  \\n• Categorized restaurant patrons based on their dining preferences from survey data using K -Means clustering.  \\n• Generated detailed Tableau visualizations to correlate the cluster results with their risk and safety behaviors.  \\n• This analysis helped strategize marketing along with promotion of safety protocols. which led to an 74% increase in \\ntake away orders the next quarter.  \\nBanking:  \\n• Mitigated the lockdown -induced customer churn by constructing a multivariate logistic regression model to Identified \\nchurn -prone customers and key contributing factors.  \\n• Performed EDA using matplotlib and communicated results to stakeholders. helped them target marketing accordingly \\nresulting in a 30% churn reduction in the next quarter.       \\nGeospatial Intelligence:  \\n• Addressed the challenge of manually identifying docked vessels by developing an object detection system using Mask \\nR-CNN and OpenCV for change detection in Python.  \\n• Accessed high -definition GIS satellite imagery from the Sentinel API in Python and dehazed the images for better \\nresults.  \\n• Extracted the geolocation data of the detected objects using QGIS.  \\n• Automated the entire process using AWS Lambda and CloudWatch, saving over $100k in labor costs.  \\nKey Achievement : Was recognized with Applause award twice for my client centric work approach and timely \\ndeliverables.  \\n \\nMAQ Software, Data Engineer        May 2018 – July 2018, Hyderabad  \\n• Established an ETL pipeline using SQL Server Management Studio and SSIS, consolidating three large Azure d ata \\nmarts with over 2 million records into one. Developed triggers and stored procedures in place to identify \\ninconsistencies during the transfer and maintain data integrity.  \\n \\nPROJECTS:  \\n Chat bot with a personality : [github]  \\n• Built a generative AI (Gen AI) model chatbot to replicate Chandler Bing’s dialogue style from “Friends,” utilizing an \\nextensive dataset of 8,700 dialogues.  \\n•  The model, featuring a seq2seq with 2 -layer LSTM network with a dropout layer, achieved a BLEU score of 0.63.  \\n \\nTwitter Search:  [github]  \\n• Designed a web application with a local cache of 200 trending tweets, leveraging a combination of Postgres \\n(relational) and MongoDB (non -relational) to query a dataset of about 120,000 tweets from 13,000 users.  \\n• Applied NLP techniques for efficient search, including synonym search and Levenshtein distance, and managed API \\nrequests with  Flask  \\n \\n2024 Travelers Insurance Analytics University Contest:  \\n• Conducted Tweedie regression on a zero -inflated dataset of over 29,000 records, fine -tuned parameters using grid \\nsearch, and assessed model efficacy with the Gini index. This systematic approach secured a third -place finish \\namong 200+ teams.  \\n ', mimetype='text/plain', start_char_idx=None, end_char_idx=None, text_template='{metadata_str}\\n\\n{content}', metadata_template='{key}: {value}', metadata_seperator='\\n'),\n",
       " Document(id_='1342305b-1094-4ebe-a7b6-58e2bf92b7d8', embedding=None, metadata={'page_label': '2', 'file_name': 'resume_july_2024_master.pdf', 'file_path': 'c:\\\\Users\\\\localadmin\\\\Desktop\\\\myprojects\\\\linkedinsucks\\\\linkedinsucks\\\\RAG_models\\\\mydata\\\\resume_july_2024_master.pdf', 'file_type': 'application/pdf', 'file_size': 191973, 'creation_date': '2024-08-08', 'last_modified_date': '2024-08-01'}, excluded_embed_metadata_keys=['file_name', 'file_type', 'file_size', 'creation_date', 'last_modified_date', 'last_accessed_date'], excluded_llm_metadata_keys=['file_name', 'file_type', 'file_size', 'creation_date', 'last_modified_date', 'last_accessed_date'], relationships={}, text='EDUCATION:  \\n• MS in Data Science , Rutgers University         May 2024  \\n• BTech in Computer Science and Engineering , Indian Institute of Technology Indore   May 2019  \\n \\nSKILLS  \\n• Programming Languages:  Python, R  \\n• Machine Learning Libraries and Frame works:   PyTorch , scikit -learn, pandas, numpy  \\n• Cloud:  AWS, DynamoDB, Glue, EC2, SageMaker, IAM, S3  \\n• Office: Excel, PowerPoint, VBA  \\n• Data Visualization : Tableau, Matplotlib, Seaborn, Plotly  \\n \\nCERTIFICATIONS  \\n• AWS Machine Learning Specialist  \\n• AWS Cloud Practitioner  ', mimetype='text/plain', start_char_idx=None, end_char_idx=None, text_template='{metadata_str}\\n\\n{content}', metadata_template='{key}: {value}', metadata_seperator='\\n')]"
      ]
     },
     "execution_count": 4,
     "metadata": {},
     "output_type": "execute_result"
    }
   ],
   "source": [
    "documents"
   ]
  },
  {
   "cell_type": "code",
   "execution_count": 7,
   "metadata": {},
   "outputs": [],
   "source": []
  },
  {
   "cell_type": "code",
   "execution_count": 8,
   "metadata": {},
   "outputs": [
    {
     "data": {
      "text/plain": [
       "<llama_index.core.query_engine.retriever_query_engine.RetrieverQueryEngine at 0x243490075f0>"
      ]
     },
     "execution_count": 8,
     "metadata": {},
     "output_type": "execute_result"
    }
   ],
   "source": [
    "query_engine = index.as_query_engine()\n",
    "query_engine.query(\"hwhere did you do your bachelors from\")\n",
    "# this is a query engine retriever"
   ]
  },
  {
   "cell_type": "code",
   "execution_count": 11,
   "metadata": {},
   "outputs": [
    {
     "data": {
      "text/plain": [
       "Response(response='Indian Institute of Technology Indore', source_nodes=[NodeWithScore(node=TextNode(id_='823e81c5-918f-42fb-9f9d-73903997f9b6', embedding=None, metadata={'page_label': '2', 'file_name': 'resume_july_2024_master.pdf', 'file_path': 'c:\\\\Users\\\\localadmin\\\\Desktop\\\\myprojects\\\\linkedinsucks\\\\linkedinsucks\\\\RAG_models\\\\mydata\\\\resume_july_2024_master.pdf', 'file_type': 'application/pdf', 'file_size': 191973, 'creation_date': '2024-08-08', 'last_modified_date': '2024-08-01'}, excluded_embed_metadata_keys=['file_name', 'file_type', 'file_size', 'creation_date', 'last_modified_date', 'last_accessed_date'], excluded_llm_metadata_keys=['file_name', 'file_type', 'file_size', 'creation_date', 'last_modified_date', 'last_accessed_date'], relationships={<NodeRelationship.SOURCE: '1'>: RelatedNodeInfo(node_id='1342305b-1094-4ebe-a7b6-58e2bf92b7d8', node_type=<ObjectType.DOCUMENT: '4'>, metadata={'page_label': '2', 'file_name': 'resume_july_2024_master.pdf', 'file_path': 'c:\\\\Users\\\\localadmin\\\\Desktop\\\\myprojects\\\\linkedinsucks\\\\linkedinsucks\\\\RAG_models\\\\mydata\\\\resume_july_2024_master.pdf', 'file_type': 'application/pdf', 'file_size': 191973, 'creation_date': '2024-08-08', 'last_modified_date': '2024-08-01'}, hash='e54e03e3f3ffb4c5ff785024fd1a1402da8420907cbb1deaed62aa7dc5ab99c5')}, text='EDUCATION:  \\n• MS in Data Science , Rutgers University         May 2024  \\n• BTech in Computer Science and Engineering , Indian Institute of Technology Indore   May 2019  \\n \\nSKILLS  \\n• Programming Languages:  Python, R  \\n• Machine Learning Libraries and Frame works:   PyTorch , scikit -learn, pandas, numpy  \\n• Cloud:  AWS, DynamoDB, Glue, EC2, SageMaker, IAM, S3  \\n• Office: Excel, PowerPoint, VBA  \\n• Data Visualization : Tableau, Matplotlib, Seaborn, Plotly  \\n \\nCERTIFICATIONS  \\n• AWS Machine Learning Specialist  \\n• AWS Cloud Practitioner', mimetype='text/plain', start_char_idx=0, end_char_idx=542, text_template='{metadata_str}\\n\\n{content}', metadata_template='{key}: {value}', metadata_seperator='\\n'), score=0.7244323514448816), NodeWithScore(node=TextNode(id_='4d0198ca-5657-4416-90ad-bcc1ff5b3109', embedding=None, metadata={'page_label': '1', 'file_name': 'resume_july_2024_master.pdf', 'file_path': 'c:\\\\Users\\\\localadmin\\\\Desktop\\\\myprojects\\\\linkedinsucks\\\\linkedinsucks\\\\RAG_models\\\\mydata\\\\resume_july_2024_master.pdf', 'file_type': 'application/pdf', 'file_size': 191973, 'creation_date': '2024-08-08', 'last_modified_date': '2024-08-01'}, excluded_embed_metadata_keys=['file_name', 'file_type', 'file_size', 'creation_date', 'last_modified_date', 'last_accessed_date'], excluded_llm_metadata_keys=['file_name', 'file_type', 'file_size', 'creation_date', 'last_modified_date', 'last_accessed_date'], relationships={<NodeRelationship.SOURCE: '1'>: RelatedNodeInfo(node_id='9ad24789-68d3-489a-b545-5f395244f0dd', node_type=<ObjectType.DOCUMENT: '4'>, metadata={'page_label': '1', 'file_name': 'resume_july_2024_master.pdf', 'file_path': 'c:\\\\Users\\\\localadmin\\\\Desktop\\\\myprojects\\\\linkedinsucks\\\\linkedinsucks\\\\RAG_models\\\\mydata\\\\resume_july_2024_master.pdf', 'file_type': 'application/pdf', 'file_size': 191973, 'creation_date': '2024-08-08', 'last_modified_date': '2024-08-01'}, hash='002deb8a8cf26ea6643428cd0a545cff87d277db09a0371ef10eefedfca9942b')}, text='Ganesh Raj K  \\n◆ ganesh_012@outlook.com    ◆   848 313 8525   ◆   linkedin.com/in/ganeshrajk    ◆   github.com/ganeshraj -k \\nEXPERIENCE : \\nRutgers UCM, Data Analyst         Feb 2023 – Present, New Brunswick  \\n• Harnessed learning data from canvas Api to predict new student course outcomes /CGPA grade  using a classification \\nmodel with 78 percent success rate  in classifying new students.  \\n• The dataset consisted of 12 diverse features including demographic academic, behavioral, parent participation for the \\npredictive modeling.  \\n• Extracted data using canvas Api, preprocessed using python, and used ANN for the classificatio n model.  \\nDeloitte Consulting, Data Analyst       June 2019 – Jan 2022, Bengaluru  \\nMedical Data NER:  \\n• Enhanced query speed for a medical record database with over 2 million records.  \\n• Used Amazon Comprehend with Python to perform Named Entity Recognition on the DynamoDB dataset.  \\n• Added recognized entities as tags using AWS Glue for the ETL process.  \\nRestaurant Chain:  \\n• Categorized restaurant patrons based on their dining preferences from survey data using K -Means clustering.  \\n• Generated detailed Tableau visualizations to correlate the cluster results with their risk and safety behaviors.  \\n• This analysis helped strategize marketing along with promotion of safety protocols. which led to an 74% increase in \\ntake away orders the next quarter.  \\nBanking:  \\n• Mitigated the lockdown -induced customer churn by constructing a multivariate logistic regression model to Identified \\nchurn -prone customers and key contributing factors.  \\n• Performed EDA using matplotlib and communicated results to stakeholders. helped them target marketing accordingly \\nresulting in a 30% churn reduction in the next quarter.       \\nGeospatial Intelligence:  \\n• Addressed the challenge of manually identifying docked vessels by developing an object detection system using Mask \\nR-CNN and OpenCV for change detection in Python.  \\n• Accessed high -definition GIS satellite imagery from the Sentinel API in Python and dehazed the images for better \\nresults.  \\n• Extracted the geolocation data of the detected objects using QGIS.  \\n• Automated the entire process using AWS Lambda and CloudWatch, saving over $100k in labor costs.  \\nKey Achievement : Was recognized with Applause award twice for my client centric work approach and timely \\ndeliverables.  \\n \\nMAQ Software, Data Engineer        May 2018 – July 2018, Hyderabad  \\n• Established an ETL pipeline using SQL Server Management Studio and SSIS, consolidating three large Azure d ata \\nmarts with over 2 million records into one. Developed triggers and stored procedures in place to identify \\ninconsistencies during the transfer and maintain data integrity.  \\n \\nPROJECTS:  \\n Chat bot with a personality : [github]  \\n• Built a generative AI (Gen AI) model chatbot to replicate Chandler Bing’s dialogue style from “Friends,” utilizing an \\nextensive dataset of 8,700 dialogues.  \\n•  The model, featuring a seq2seq with 2 -layer LSTM network with a dropout layer, achieved a BLEU score of 0.63.  \\n \\nTwitter Search:  [github]  \\n• Designed a web application with a local cache of 200 trending tweets, leveraging a combination of Postgres \\n(relational) and MongoDB (non -relational) to query a dataset of about 120,000 tweets from 13,000 users.  \\n• Applied NLP techniques for efficient search, including synonym search and Levenshtein distance, and managed API \\nrequests with  Flask  \\n \\n2024 Travelers Insurance Analytics University Contest:  \\n• Conducted Tweedie regression on a zero -inflated dataset of over 29,000 records, fine -tuned parameters using grid \\nsearch, and assessed model efficacy with the Gini index. This systematic approach secured a third -place finish \\namong 200+ teams.', mimetype='text/plain', start_char_idx=0, end_char_idx=3773, text_template='{metadata_str}\\n\\n{content}', metadata_template='{key}: {value}', metadata_seperator='\\n'), score=0.712073912293382)], metadata={'823e81c5-918f-42fb-9f9d-73903997f9b6': {'page_label': '2', 'file_name': 'resume_july_2024_master.pdf', 'file_path': 'c:\\\\Users\\\\localadmin\\\\Desktop\\\\myprojects\\\\linkedinsucks\\\\linkedinsucks\\\\RAG_models\\\\mydata\\\\resume_july_2024_master.pdf', 'file_type': 'application/pdf', 'file_size': 191973, 'creation_date': '2024-08-08', 'last_modified_date': '2024-08-01'}, '4d0198ca-5657-4416-90ad-bcc1ff5b3109': {'page_label': '1', 'file_name': 'resume_july_2024_master.pdf', 'file_path': 'c:\\\\Users\\\\localadmin\\\\Desktop\\\\myprojects\\\\linkedinsucks\\\\linkedinsucks\\\\RAG_models\\\\mydata\\\\resume_july_2024_master.pdf', 'file_type': 'application/pdf', 'file_size': 191973, 'creation_date': '2024-08-08', 'last_modified_date': '2024-08-01'}})"
      ]
     },
     "execution_count": 11,
     "metadata": {},
     "output_type": "execute_result"
    }
   ],
   "source": [
    "query_engine.query(\"hwhere did you do your bachelors from\")"
   ]
  },
  {
   "cell_type": "code",
   "execution_count": 15,
   "metadata": {},
   "outputs": [
    {
     "name": "stdout",
     "output_type": "stream",
     "text": [
      "Final Response: Indian Institute of Technology Indore\n"
     ]
    }
   ],
   "source": [
    "\n",
    "pprint_response(query_engine.query(\"hwhere did you do your bachelors from\"))"
   ]
  },
  {
   "cell_type": "code",
   "execution_count": 18,
   "metadata": {},
   "outputs": [],
   "source": [
    "from llama_index.core.retrievers import VectorIndexRetriever\n",
    "from llama_index.core.query_engine import RetrieverQueryEngine\n",
    "from llama_index.core.indices.postprocessor import SimilarityPostprocessor"
   ]
  },
  {
   "cell_type": "code",
   "execution_count": 20,
   "metadata": {},
   "outputs": [],
   "source": [
    "retriever = VectorIndexRetriever(index = index, similarity_top_k= 3)\n",
    "query_engine = RetrieverQueryEngine(retriever = retriever)"
   ]
  },
  {
   "cell_type": "code",
   "execution_count": 23,
   "metadata": {},
   "outputs": [
    {
     "name": "stdout",
     "output_type": "stream",
     "text": [
      "Final Response: Data Science\n"
     ]
    }
   ],
   "source": [
    "response = query_engine.query(\"what was your masters in\")\n",
    "pprint_response(response)"
   ]
  },
  {
   "cell_type": "code",
   "execution_count": 25,
   "metadata": {},
   "outputs": [],
   "source": [
    "from llama_index.core import (VectorStoreIndex, SimpleDirectoryReader, StorageContext, load_index_from_storage)"
   ]
  },
  {
   "cell_type": "code",
   "execution_count": 26,
   "metadata": {},
   "outputs": [],
   "source": [
    "#persistent directory for index \n",
    "\n",
    "PERSIST_DIR = \"./storage\"\n",
    "if not os.path.exists(PERSIST_DIR):\n",
    "\n",
    "    documents = SimpleDirectoryReader('mydata').load_data()\n",
    "    index = VectorStoreIndex.from_documents( documents)\n",
    "    index.storage_context.persist(persist_dir = PERSIST_DIR)\n",
    "\n",
    "else:\n",
    "    storage_context = StorageContext.from_defaults(persist_dir=PERSIST_DIR)\n",
    "    index = load_index_from_storage(storage_context)\n",
    "    \n",
    "\n"
   ]
  },
  {
   "cell_type": "code",
   "execution_count": null,
   "metadata": {},
   "outputs": [],
   "source": []
  }
 ],
 "metadata": {
  "kernelspec": {
   "display_name": "linkedinbot_venv",
   "language": "python",
   "name": "python3"
  },
  "language_info": {
   "codemirror_mode": {
    "name": "ipython",
    "version": 3
   },
   "file_extension": ".py",
   "mimetype": "text/x-python",
   "name": "python",
   "nbconvert_exporter": "python",
   "pygments_lexer": "ipython3",
   "version": "3.12.4"
  }
 },
 "nbformat": 4,
 "nbformat_minor": 2
}
