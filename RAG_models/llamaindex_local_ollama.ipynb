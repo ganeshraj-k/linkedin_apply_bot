{
 "cells": [
  {
   "cell_type": "code",
   "execution_count": 4,
   "metadata": {},
   "outputs": [],
   "source": [
    "from llama_index.core import VectorStoreIndex, SimpleDirectoryReader, ServiceContext\n",
    "from llama_index.llms.ollama import Ollama\n",
    "from langchain.embeddings.huggingface import HuggingFaceEmbeddings\n",
    "from llama_index.core import ServiceContext\n",
    "from llama_index.legacy.embeddings import LangchainEmbedding"
   ]
  },
  {
   "cell_type": "code",
   "execution_count": 17,
   "metadata": {},
   "outputs": [],
   "source": [
    "documents = SimpleDirectoryReader(\"mydata\").load_data()\n",
    "\n",
    "system_prompt =  \"\"\"\n",
    "You are a job application assistant. You have the data about a person's resume, profile, work profile, and other details. Use those details to accurately answer the questions about the candidate's profile with the data provided and answer in the format requested in the question. Answer concisely. The answer should be less than 5 words. You will be rewarded for shorter but precise answers. **If the answer has numbers, represent them using numerals (e.g., \"2\" instead of \"two\"). This is important.**\n",
    "you just need to print the answer. Do not print the reason and justification and logic behind the answer. just print the answer. \n",
    "\"\"\""
   ]
  },
  {
   "cell_type": "code",
   "execution_count": 18,
   "metadata": {},
   "outputs": [
    {
     "name": "stderr",
     "output_type": "stream",
     "text": [
      "c:\\Users\\localadmin\\Desktop\\myprojects\\linkedinsucks\\linkedinbot_venv\\Lib\\site-packages\\transformers\\tokenization_utils_base.py:1601: FutureWarning: `clean_up_tokenization_spaces` was not set. It will be set to `True` by default. This behavior will be depracted in transformers v4.45, and will be then set to `False` by default. For more details check this issue: https://github.com/huggingface/transformers/issues/31884\n",
      "  warnings.warn(\n",
      "C:\\Users\\localadmin\\AppData\\Local\\Temp\\ipykernel_1652\\1324930452.py:14: DeprecationWarning: Call to deprecated class method from_defaults. (ServiceContext is deprecated, please use `llama_index.settings.Settings` instead.) -- Deprecated since version 0.10.0.\n",
      "  service_context = ServiceContext.from_defaults(\n"
     ]
    }
   ],
   "source": [
    "embed_model = LangchainEmbedding(HuggingFaceEmbeddings(model_name=\"sentence-transformers/all-mpnet-base-v2\"))\n",
    "\n",
    "llm2 = Ollama(\n",
    "model = \"phi3:3.8b-mini-4k-instruct-q4_K_M\",\n",
    "temperature = 0.01,\n",
    "request_timeout = 400,\n",
    "system_prompt = system_prompt,\n",
    "context_window = 3900\n",
    "\n",
    ")\n",
    "\n",
    "\n",
    "\n",
    "service_context = ServiceContext.from_defaults(\n",
    "chunk_size= 1024,\n",
    "llm = llm2,\n",
    "embed_model= embed_model\n",
    ")\n",
    "\n",
    "\n"
   ]
  },
  {
   "cell_type": "code",
   "execution_count": 23,
   "metadata": {},
   "outputs": [
    {
     "data": {
      "text/plain": [
       "Response(response='MS in Data Science', source_nodes=[NodeWithScore(node=TextNode(id_='e913026d-3168-4cc3-915e-554487bca86a', embedding=None, metadata={'page_label': '1', 'file_name': 'resume_july_2024_master.pdf', 'file_path': 'c:\\\\Users\\\\localadmin\\\\Desktop\\\\myprojects\\\\linkedinsucks\\\\linkedinsucks_2\\\\RAG_models\\\\mydata\\\\resume_july_2024_master.pdf', 'file_type': 'application/pdf', 'file_size': 191973, 'creation_date': '2024-08-08', 'last_modified_date': '2024-08-01'}, excluded_embed_metadata_keys=['file_name', 'file_type', 'file_size', 'creation_date', 'last_modified_date', 'last_accessed_date'], excluded_llm_metadata_keys=['file_name', 'file_type', 'file_size', 'creation_date', 'last_modified_date', 'last_accessed_date'], relationships={<NodeRelationship.SOURCE: '1'>: RelatedNodeInfo(node_id='ce3412c0-db76-4303-8fea-d78a3177d239', node_type=<ObjectType.DOCUMENT: '4'>, metadata={'page_label': '1', 'file_name': 'resume_july_2024_master.pdf', 'file_path': 'c:\\\\Users\\\\localadmin\\\\Desktop\\\\myprojects\\\\linkedinsucks\\\\linkedinsucks_2\\\\RAG_models\\\\mydata\\\\resume_july_2024_master.pdf', 'file_type': 'application/pdf', 'file_size': 191973, 'creation_date': '2024-08-08', 'last_modified_date': '2024-08-01'}, hash='5b9f5b49de45d4533bf5883811ba4ff50390eb24ff8da1d4d19b16107f444ae5')}, text='Ganesh Raj K  \\n◆ ganesh_012@outlook.com    ◆   848 313 8525   ◆   linkedin.com/in/ganeshrajk    ◆   github.com/ganeshraj -k \\nEXPERIENCE : \\nRutgers UCM, Data Analyst         Feb 2023 – Present, New Brunswick  \\n• Harnessed learning data from canvas Api to predict new student course outcomes /CGPA grade  using a classification \\nmodel with 78 percent success rate  in classifying new students.  \\n• The dataset consisted of 12 diverse features including demographic academic, behavioral, parent participation for the \\npredictive modeling.  \\n• Extracted data using canvas Api, preprocessed using python, and used ANN for the classificatio n model.  \\nDeloitte Consulting, Data Analyst       June 2019 – Jan 2022, Bengaluru  \\nMedical Data NER:  \\n• Enhanced query speed for a medical record database with over 2 million records.  \\n• Used Amazon Comprehend with Python to perform Named Entity Recognition on the DynamoDB dataset.  \\n• Added recognized entities as tags using AWS Glue for the ETL process.  \\nRestaurant Chain:  \\n• Categorized restaurant patrons based on their dining preferences from survey data using K -Means clustering.  \\n• Generated detailed Tableau visualizations to correlate the cluster results with their risk and safety behaviors.  \\n• This analysis helped strategize marketing along with promotion of safety protocols. which led to an 74% increase in \\ntake away orders the next quarter.  \\nBanking:  \\n• Mitigated the lockdown -induced customer churn by constructing a multivariate logistic regression model to Identified \\nchurn -prone customers and key contributing factors.  \\n• Performed EDA using matplotlib and communicated results to stakeholders. helped them target marketing accordingly \\nresulting in a 30% churn reduction in the next quarter.       \\nGeospatial Intelligence:  \\n• Addressed the challenge of manually identifying docked vessels by developing an object detection system using Mask \\nR-CNN and OpenCV for change detection in Python.  \\n• Accessed high -definition GIS satellite imagery from the Sentinel API in Python and dehazed the images for better \\nresults.  \\n• Extracted the geolocation data of the detected objects using QGIS.  \\n• Automated the entire process using AWS Lambda and CloudWatch, saving over $100k in labor costs.  \\nKey Achievement : Was recognized with Applause award twice for my client centric work approach and timely \\ndeliverables.  \\n \\nMAQ Software, Data Engineer        May 2018 – July 2018, Hyderabad  \\n• Established an ETL pipeline using SQL Server Management Studio and SSIS, consolidating three large Azure d ata \\nmarts with over 2 million records into one. Developed triggers and stored procedures in place to identify \\ninconsistencies during the transfer and maintain data integrity.  \\n \\nPROJECTS:  \\n Chat bot with a personality : [github]  \\n• Built a generative AI (Gen AI) model chatbot to replicate Chandler Bing’s dialogue style from “Friends,” utilizing an \\nextensive dataset of 8,700 dialogues.  \\n•  The model, featuring a seq2seq with 2 -layer LSTM network with a dropout layer, achieved a BLEU score of 0.63.  \\n \\nTwitter Search:  [github]  \\n• Designed a web application with a local cache of 200 trending tweets, leveraging a combination of Postgres \\n(relational) and MongoDB (non -relational) to query a dataset of about 120,000 tweets from 13,000 users.  \\n• Applied NLP techniques for efficient search, including synonym search and Levenshtein distance, and managed API \\nrequests with  Flask  \\n \\n2024 Travelers Insurance Analytics University Contest:  \\n• Conducted Tweedie regression on a zero -inflated dataset of over 29,000 records, fine -tuned parameters using grid \\nsearch, and assessed model efficacy with the Gini index. This systematic approach secured a third -place finish \\namong 200+ teams.', mimetype='text/plain', start_char_idx=0, end_char_idx=3773, text_template='{metadata_str}\\n\\n{content}', metadata_template='{key}: {value}', metadata_seperator='\\n'), score=0.23392097922676572), NodeWithScore(node=TextNode(id_='23871e77-0390-443a-a6e4-645f2b258fc3', embedding=None, metadata={'page_label': '2', 'file_name': 'resume_july_2024_master.pdf', 'file_path': 'c:\\\\Users\\\\localadmin\\\\Desktop\\\\myprojects\\\\linkedinsucks\\\\linkedinsucks_2\\\\RAG_models\\\\mydata\\\\resume_july_2024_master.pdf', 'file_type': 'application/pdf', 'file_size': 191973, 'creation_date': '2024-08-08', 'last_modified_date': '2024-08-01'}, excluded_embed_metadata_keys=['file_name', 'file_type', 'file_size', 'creation_date', 'last_modified_date', 'last_accessed_date'], excluded_llm_metadata_keys=['file_name', 'file_type', 'file_size', 'creation_date', 'last_modified_date', 'last_accessed_date'], relationships={<NodeRelationship.SOURCE: '1'>: RelatedNodeInfo(node_id='6fa5d787-7a17-4a42-a18f-d2fa44b6a469', node_type=<ObjectType.DOCUMENT: '4'>, metadata={'page_label': '2', 'file_name': 'resume_july_2024_master.pdf', 'file_path': 'c:\\\\Users\\\\localadmin\\\\Desktop\\\\myprojects\\\\linkedinsucks\\\\linkedinsucks_2\\\\RAG_models\\\\mydata\\\\resume_july_2024_master.pdf', 'file_type': 'application/pdf', 'file_size': 191973, 'creation_date': '2024-08-08', 'last_modified_date': '2024-08-01'}, hash='c2897142f3a6b9ef1ffddba096c728d92b68bd1d276e39c6b99277dded666409')}, text='EDUCATION:  \\n• MS in Data Science , Rutgers University         May 2024  \\n• BTech in Computer Science and Engineering , Indian Institute of Technology Indore   May 2019  \\n \\nSKILLS  \\n• Programming Languages:  Python, R  \\n• Machine Learning Libraries and Frame works:   PyTorch , scikit -learn, pandas, numpy  \\n• Cloud:  AWS, DynamoDB, Glue, EC2, SageMaker, IAM, S3  \\n• Office: Excel, PowerPoint, VBA  \\n• Data Visualization : Tableau, Matplotlib, Seaborn, Plotly  \\n \\nCERTIFICATIONS  \\n• AWS Machine Learning Specialist  \\n• AWS Cloud Practitioner', mimetype='text/plain', start_char_idx=0, end_char_idx=542, text_template='{metadata_str}\\n\\n{content}', metadata_template='{key}: {value}', metadata_seperator='\\n'), score=0.1452148181368949)], metadata={'e913026d-3168-4cc3-915e-554487bca86a': {'page_label': '1', 'file_name': 'resume_july_2024_master.pdf', 'file_path': 'c:\\\\Users\\\\localadmin\\\\Desktop\\\\myprojects\\\\linkedinsucks\\\\linkedinsucks_2\\\\RAG_models\\\\mydata\\\\resume_july_2024_master.pdf', 'file_type': 'application/pdf', 'file_size': 191973, 'creation_date': '2024-08-08', 'last_modified_date': '2024-08-01'}, '23871e77-0390-443a-a6e4-645f2b258fc3': {'page_label': '2', 'file_name': 'resume_july_2024_master.pdf', 'file_path': 'c:\\\\Users\\\\localadmin\\\\Desktop\\\\myprojects\\\\linkedinsucks\\\\linkedinsucks_2\\\\RAG_models\\\\mydata\\\\resume_july_2024_master.pdf', 'file_type': 'application/pdf', 'file_size': 191973, 'creation_date': '2024-08-08', 'last_modified_date': '2024-08-01'}})"
      ]
     },
     "execution_count": 23,
     "metadata": {},
     "output_type": "execute_result"
    }
   ],
   "source": [
    "index = VectorStoreIndex.from_documents(documents, service_context=service_context)\n",
    "query_engine = index.as_query_engine()\n",
    "response = query_engine.query(\"what was your major for your Masters Degree\")\n",
    "response"
   ]
  },
  {
   "cell_type": "code",
   "execution_count": null,
   "metadata": {},
   "outputs": [],
   "source": []
  }
 ],
 "metadata": {
  "kernelspec": {
   "display_name": "linkedinbot_venv",
   "language": "python",
   "name": "python3"
  },
  "language_info": {
   "codemirror_mode": {
    "name": "ipython",
    "version": 3
   },
   "file_extension": ".py",
   "mimetype": "text/x-python",
   "name": "python",
   "nbconvert_exporter": "python",
   "pygments_lexer": "ipython3",
   "version": "3.12.4"
  }
 },
 "nbformat": 4,
 "nbformat_minor": 2
}
