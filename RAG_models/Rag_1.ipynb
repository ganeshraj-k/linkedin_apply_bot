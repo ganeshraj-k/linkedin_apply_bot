{
 "cells": [
  {
   "cell_type": "code",
   "execution_count": 13,
   "metadata": {},
   "outputs": [],
   "source": [
    "import os \n",
    "from langchain.llms import LlamaCpp\n",
    "from llama_index.legacy.llms import Ollama\n",
    "from transformers import LlamaForCausalLM, LlamaTokenizer \n",
    "from llama_index.core import GPTVectorStoreIndex, SimpleDirectoryReader"
   ]
  },
  {
   "cell_type": "code",
   "execution_count": 10,
   "metadata": {},
   "outputs": [
    {
     "ename": "ImportError",
     "evalue": "cannot import name 'LLmpredictor' from 'llama_index' (unknown location)",
     "output_type": "error",
     "traceback": [
      "\u001b[1;31m---------------------------------------------------------------------------\u001b[0m",
      "\u001b[1;31mImportError\u001b[0m                               Traceback (most recent call last)",
      "Cell \u001b[1;32mIn[10], line 2\u001b[0m\n\u001b[0;32m      1\u001b[0m \u001b[38;5;28;01mfrom\u001b[39;00m \u001b[38;5;21;01mllama_index\u001b[39;00m\u001b[38;5;21;01m.\u001b[39;00m\u001b[38;5;21;01mcore\u001b[39;00m \u001b[38;5;28;01mimport\u001b[39;00m GPTVectorStoreIndex, SimpleDirectoryReader\n\u001b[1;32m----> 2\u001b[0m \u001b[38;5;28;01mfrom\u001b[39;00m \u001b[38;5;21;01mllama_index\u001b[39;00m \u001b[38;5;28;01mimport\u001b[39;00m LLmpredictor\n",
      "\u001b[1;31mImportError\u001b[0m: cannot import name 'LLmpredictor' from 'llama_index' (unknown location)"
     ]
    }
   ],
   "source": [
    "\n",
    "from llama_index import LLmpredictor  "
   ]
  },
  {
   "cell_type": "code",
   "execution_count": 4,
   "metadata": {},
   "outputs": [
    {
     "name": "stdout",
     "output_type": "stream",
     "text": [
      "Requirement already satisfied: transformers in c:\\users\\localadmin\\desktop\\myprojects\\linkedinsucks\\linkedinbot_venv\\lib\\site-packages (4.44.0)\n",
      "Requirement already satisfied: filelock in c:\\users\\localadmin\\desktop\\myprojects\\linkedinsucks\\linkedinbot_venv\\lib\\site-packages (from transformers) (3.15.4)\n",
      "Requirement already satisfied: huggingface-hub<1.0,>=0.23.2 in c:\\users\\localadmin\\desktop\\myprojects\\linkedinsucks\\linkedinbot_venv\\lib\\site-packages (from transformers) (0.23.5)\n",
      "Requirement already satisfied: numpy>=1.17 in c:\\users\\localadmin\\desktop\\myprojects\\linkedinsucks\\linkedinbot_venv\\lib\\site-packages (from transformers) (1.26.4)\n",
      "Requirement already satisfied: packaging>=20.0 in c:\\users\\localadmin\\desktop\\myprojects\\linkedinsucks\\linkedinbot_venv\\lib\\site-packages (from transformers) (24.1)\n",
      "Requirement already satisfied: pyyaml>=5.1 in c:\\users\\localadmin\\desktop\\myprojects\\linkedinsucks\\linkedinbot_venv\\lib\\site-packages (from transformers) (6.0.2)\n",
      "Requirement already satisfied: regex!=2019.12.17 in c:\\users\\localadmin\\desktop\\myprojects\\linkedinsucks\\linkedinbot_venv\\lib\\site-packages (from transformers) (2024.7.24)\n",
      "Requirement already satisfied: requests in c:\\users\\localadmin\\desktop\\myprojects\\linkedinsucks\\linkedinbot_venv\\lib\\site-packages (from transformers) (2.32.3)\n",
      "Requirement already satisfied: safetensors>=0.4.1 in c:\\users\\localadmin\\desktop\\myprojects\\linkedinsucks\\linkedinbot_venv\\lib\\site-packages (from transformers) (0.4.4)\n",
      "Requirement already satisfied: tokenizers<0.20,>=0.19 in c:\\users\\localadmin\\desktop\\myprojects\\linkedinsucks\\linkedinbot_venv\\lib\\site-packages (from transformers) (0.19.1)\n",
      "Requirement already satisfied: tqdm>=4.27 in c:\\users\\localadmin\\desktop\\myprojects\\linkedinsucks\\linkedinbot_venv\\lib\\site-packages (from transformers) (4.66.5)\n",
      "Requirement already satisfied: fsspec>=2023.5.0 in c:\\users\\localadmin\\desktop\\myprojects\\linkedinsucks\\linkedinbot_venv\\lib\\site-packages (from huggingface-hub<1.0,>=0.23.2->transformers) (2024.6.1)\n",
      "Requirement already satisfied: typing-extensions>=3.7.4.3 in c:\\users\\localadmin\\desktop\\myprojects\\linkedinsucks\\linkedinbot_venv\\lib\\site-packages (from huggingface-hub<1.0,>=0.23.2->transformers) (4.12.2)\n",
      "Requirement already satisfied: colorama in c:\\users\\localadmin\\desktop\\myprojects\\linkedinsucks\\linkedinbot_venv\\lib\\site-packages (from tqdm>=4.27->transformers) (0.4.6)\n",
      "Requirement already satisfied: charset-normalizer<4,>=2 in c:\\users\\localadmin\\desktop\\myprojects\\linkedinsucks\\linkedinbot_venv\\lib\\site-packages (from requests->transformers) (3.3.2)\n",
      "Requirement already satisfied: idna<4,>=2.5 in c:\\users\\localadmin\\desktop\\myprojects\\linkedinsucks\\linkedinbot_venv\\lib\\site-packages (from requests->transformers) (3.7)\n",
      "Requirement already satisfied: urllib3<3,>=1.21.1 in c:\\users\\localadmin\\desktop\\myprojects\\linkedinsucks\\linkedinbot_venv\\lib\\site-packages (from requests->transformers) (2.2.2)\n",
      "Requirement already satisfied: certifi>=2017.4.17 in c:\\users\\localadmin\\desktop\\myprojects\\linkedinsucks\\linkedinbot_venv\\lib\\site-packages (from requests->transformers) (2024.7.4)\n",
      "Note: you may need to restart the kernel to use updated packages.\n"
     ]
    },
    {
     "name": "stderr",
     "output_type": "stream",
     "text": [
      "\n",
      "[notice] A new release of pip is available: 24.0 -> 24.2\n",
      "[notice] To update, run: python.exe -m pip install --upgrade pip\n"
     ]
    }
   ],
   "source": [
    "%pip install transformers "
   ]
  }
 ],
 "metadata": {
  "kernelspec": {
   "display_name": "linkedinbot_venv",
   "language": "python",
   "name": "python3"
  },
  "language_info": {
   "codemirror_mode": {
    "name": "ipython",
    "version": 3
   },
   "file_extension": ".py",
   "mimetype": "text/x-python",
   "name": "python",
   "nbconvert_exporter": "python",
   "pygments_lexer": "ipython3",
   "version": "3.12.4"
  }
 },
 "nbformat": 4,
 "nbformat_minor": 2
}
