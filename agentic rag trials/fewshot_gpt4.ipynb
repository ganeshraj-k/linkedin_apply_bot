{
 "cells": [
  {
   "cell_type": "code",
   "execution_count": 93,
   "metadata": {},
   "outputs": [],
   "source": [
    "import os\n",
    "import json\n",
    "import nest_asyncio\n",
    "from llama_index.core import VectorStoreIndex\n",
    "from llama_index.core.schema import TextNode\n",
    "\n",
    "# Apply nest_asyncio\n",
    "nest_asyncio.apply()\n",
    "\n",
    "# Path to the JSON file\n",
    "questions_json_path = r\"C:\\Users\\localadmin\\Desktop\\new desktop\\linkedinsucks\\linkedin_easyapply_bot\\all_data\\docs\\questions.json\"\n",
    "\n",
    "# Load JSON data and create TextNode objects\n",
    "few_shot_nodes = []\n",
    "for line in open(questions_json_path, \"r\"):\n",
    "    few_shot_nodes.append(TextNode(text=line))\n",
    "\n",
    "# Create a VectorStoreIndex and retriever\n",
    "few_shot_index = VectorStoreIndex(few_shot_nodes)\n",
    "few_shot_retriever = few_shot_index.as_retriever(similarity_top_k=2)\n",
    "\n",
    "# Function to extract key-value pairs from a string\n",
    "def extract_key_value_from_string(input_string):\n",
    "    # Remove any trailing commas and newline characters\n",
    "    cleaned_string = input_string.strip().rstrip(',\\n}{')\n",
    "    if ':' not in cleaned_string:\n",
    "        return \"\", \"\"\n",
    "    # Split the string into key and value\n",
    "    key, value = cleaned_string.split('\": ')\n",
    "    \n",
    "    # Remove any surrounding quotes from key and value\n",
    "    key = key.strip('\"')\n",
    "    value = value.strip('\"')\n",
    "    \n",
    "    return key, value\n",
    "\n",
    "# Function to generate few-shot examples\n",
    "def few_shot_examples_fn(query_str):\n",
    "    retrieved_nodes = few_shot_retriever.retrieve(query_str)\n",
    "    result_strs = []\n",
    "    for n in retrieved_nodes:\n",
    "        query, response = extract_key_value_from_string(n.get_content())\n",
    "        result_str = f\"Query: {query}\\nResponse: {response}\"\n",
    "        result_strs.append(result_str)\n",
    "    return \"\\n\\n\".join(result_strs)\n"
   ]
  }
 ],
 "metadata": {
  "kernelspec": {
   "display_name": "linkedinbot_venv",
   "language": "python",
   "name": "python3"
  },
  "language_info": {
   "codemirror_mode": {
    "name": "ipython",
    "version": 3
   },
   "file_extension": ".py",
   "mimetype": "text/x-python",
   "name": "python",
   "nbconvert_exporter": "python",
   "pygments_lexer": "ipython3",
   "version": "3.12.6"
  }
 },
 "nbformat": 4,
 "nbformat_minor": 2
}
