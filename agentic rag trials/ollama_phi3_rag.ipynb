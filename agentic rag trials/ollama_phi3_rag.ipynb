{
 "cells": [
  {
   "cell_type": "code",
   "execution_count": 5,
   "metadata": {},
   "outputs": [
    {
     "name": "stdout",
     "output_type": "stream",
     "text": [
      "Using GPU: NVIDIA GeForce GTX 1650\n"
     ]
    }
   ],
   "source": [
    "docs_path = r\"C:\\Users\\localadmin\\Desktop\\new desktop\\linkedinsucks\\linkedin_easyapply_bot\\agentic rag trials\\docs\"\n",
    "import torch\n",
    "\n",
    "# Check if CUDA is available\n",
    "if torch.cuda.is_available():\n",
    "    # Get the name of the GPU\n",
    "    gpu_name = torch.cuda.get_device_name(torch.cuda.current_device())\n",
    "    print(f\"Using GPU: {gpu_name}\")\n",
    "else:\n",
    "    print(\"CUDA is not available. Using CPU.\")"
   ]
  },
  {
   "cell_type": "code",
   "execution_count": 3,
   "metadata": {},
   "outputs": [],
   "source": [
    "from llama_index.core import Settings\n",
    "from llama_index.core import VectorStoreIndex, SimpleDirectoryReader\n",
    "from llama_index.llms.ollama import Ollama\n",
    "from langchain.embeddings.huggingface import HuggingFaceEmbeddings"
   ]
  },
  {
   "cell_type": "code",
   "execution_count": 6,
   "metadata": {},
   "outputs": [],
   "source": [
    "documents = SimpleDirectoryReader(docs_path).load_data()\n",
    "\n",
    "system_prompt =  \"\"\"\n",
    "answer questions about lectures\n",
    "\"\"\""
   ]
  },
  {
   "cell_type": "code",
   "execution_count": 8,
   "metadata": {},
   "outputs": [
    {
     "name": "stderr",
     "output_type": "stream",
     "text": [
      "c:\\Users\\localadmin\\Desktop\\new desktop\\linkedinsucks\\linkedinsucks\\linkedinbot_venv\\Lib\\site-packages\\transformers\\tokenization_utils_base.py:1601: FutureWarning: `clean_up_tokenization_spaces` was not set. It will be set to `True` by default. This behavior will be depracted in transformers v4.45, and will be then set to `False` by default. For more details check this issue: https://github.com/huggingface/transformers/issues/31884\n",
      "  warnings.warn(\n"
     ]
    },
    {
     "ename": "RuntimeError",
     "evalue": "no validator found for <class 'langchain.chains.llm.LLMChain'>, see `arbitrary_types_allowed` in Config",
     "output_type": "error",
     "traceback": [
      "\u001b[1;31m---------------------------------------------------------------------------\u001b[0m",
      "\u001b[1;31mRuntimeError\u001b[0m                              Traceback (most recent call last)",
      "Cell \u001b[1;32mIn[8], line 11\u001b[0m\n\u001b[0;32m      1\u001b[0m \u001b[38;5;28;01mfrom\u001b[39;00m \u001b[38;5;21;01mllama_index\u001b[39;00m\u001b[38;5;21;01m.\u001b[39;00m\u001b[38;5;21;01mcore\u001b[39;00m \u001b[38;5;28;01mimport\u001b[39;00m Settings\n\u001b[0;32m      3\u001b[0m Settings\u001b[38;5;241m.\u001b[39mllm \u001b[38;5;241m=\u001b[39m Ollama(\n\u001b[0;32m      4\u001b[0m model \u001b[38;5;241m=\u001b[39m \u001b[38;5;124m\"\u001b[39m\u001b[38;5;124mtinyllama\u001b[39m\u001b[38;5;124m\"\u001b[39m,\n\u001b[0;32m      5\u001b[0m temperature \u001b[38;5;241m=\u001b[39m \u001b[38;5;241m0.01\u001b[39m,\n\u001b[1;32m   (...)\u001b[0m\n\u001b[0;32m      9\u001b[0m \n\u001b[0;32m     10\u001b[0m )\n\u001b[1;32m---> 11\u001b[0m \u001b[43mSettings\u001b[49m\u001b[38;5;241;43m.\u001b[39;49m\u001b[43membed_model\u001b[49m \u001b[38;5;241m=\u001b[39m HuggingFaceEmbeddings(\n\u001b[0;32m     12\u001b[0m     model_name\u001b[38;5;241m=\u001b[39m\u001b[38;5;124m\"\u001b[39m\u001b[38;5;124msentence-transformers/all-MiniLM-L6-v2\u001b[39m\u001b[38;5;124m\"\u001b[39m\n\u001b[0;32m     13\u001b[0m )\n\u001b[0;32m     16\u001b[0m index \u001b[38;5;241m=\u001b[39m VectorStoreIndex\u001b[38;5;241m.\u001b[39mfrom_documents(documents)\n\u001b[0;32m     18\u001b[0m query_engine \u001b[38;5;241m=\u001b[39m index\u001b[38;5;241m.\u001b[39mas_query_engine(response_mode\u001b[38;5;241m=\u001b[39m\u001b[38;5;124m\"\u001b[39m\u001b[38;5;124mcompact\u001b[39m\u001b[38;5;124m\"\u001b[39m)\n",
      "File \u001b[1;32mc:\\Users\\localadmin\\Desktop\\new desktop\\linkedinsucks\\linkedinsucks\\linkedinbot_venv\\Lib\\site-packages\\llama_index\\core\\settings.py:74\u001b[0m, in \u001b[0;36m_Settings.embed_model\u001b[1;34m(self, embed_model)\u001b[0m\n\u001b[0;32m     71\u001b[0m \u001b[38;5;129m@embed_model\u001b[39m\u001b[38;5;241m.\u001b[39msetter\n\u001b[0;32m     72\u001b[0m \u001b[38;5;28;01mdef\u001b[39;00m \u001b[38;5;21membed_model\u001b[39m(\u001b[38;5;28mself\u001b[39m, embed_model: EmbedType) \u001b[38;5;241m-\u001b[39m\u001b[38;5;241m>\u001b[39m \u001b[38;5;28;01mNone\u001b[39;00m:\n\u001b[0;32m     73\u001b[0m \u001b[38;5;250m    \u001b[39m\u001b[38;5;124;03m\"\"\"Set the embedding model.\"\"\"\u001b[39;00m\n\u001b[1;32m---> 74\u001b[0m     \u001b[38;5;28mself\u001b[39m\u001b[38;5;241m.\u001b[39m_embed_model \u001b[38;5;241m=\u001b[39m \u001b[43mresolve_embed_model\u001b[49m\u001b[43m(\u001b[49m\u001b[43membed_model\u001b[49m\u001b[43m)\u001b[49m\n",
      "File \u001b[1;32mc:\\Users\\localadmin\\Desktop\\new desktop\\linkedinsucks\\linkedinsucks\\linkedinbot_venv\\Lib\\site-packages\\llama_index\\core\\embeddings\\utils.py:39\u001b[0m, in \u001b[0;36mresolve_embed_model\u001b[1;34m(embed_model, callback_manager)\u001b[0m\n\u001b[0;32m     36\u001b[0m \u001b[38;5;28;01mfrom\u001b[39;00m \u001b[38;5;21;01mllama_index\u001b[39;00m\u001b[38;5;21;01m.\u001b[39;00m\u001b[38;5;21;01mcore\u001b[39;00m\u001b[38;5;21;01m.\u001b[39;00m\u001b[38;5;21;01msettings\u001b[39;00m \u001b[38;5;28;01mimport\u001b[39;00m Settings\n\u001b[0;32m     38\u001b[0m \u001b[38;5;28;01mtry\u001b[39;00m:\n\u001b[1;32m---> 39\u001b[0m     \u001b[38;5;28;01mfrom\u001b[39;00m \u001b[38;5;21;01mllama_index\u001b[39;00m\u001b[38;5;21;01m.\u001b[39;00m\u001b[38;5;21;01mcore\u001b[39;00m\u001b[38;5;21;01m.\u001b[39;00m\u001b[38;5;21;01mbridge\u001b[39;00m\u001b[38;5;21;01m.\u001b[39;00m\u001b[38;5;21;01mlangchain\u001b[39;00m \u001b[38;5;28;01mimport\u001b[39;00m Embeddings \u001b[38;5;28;01mas\u001b[39;00m LCEmbeddings\n\u001b[0;32m     40\u001b[0m \u001b[38;5;28;01mexcept\u001b[39;00m \u001b[38;5;167;01mImportError\u001b[39;00m:\n\u001b[0;32m     41\u001b[0m     LCEmbeddings \u001b[38;5;241m=\u001b[39m \u001b[38;5;28;01mNone\u001b[39;00m  \u001b[38;5;66;03m# type: ignore\u001b[39;00m\n",
      "File \u001b[1;32mc:\\Users\\localadmin\\Desktop\\new desktop\\linkedinsucks\\linkedinsucks\\linkedinbot_venv\\Lib\\site-packages\\llama_index\\core\\bridge\\langchain.py:2\u001b[0m\n\u001b[0;32m      1\u001b[0m \u001b[38;5;28;01mimport\u001b[39;00m \u001b[38;5;21;01mlangchain\u001b[39;00m  \u001b[38;5;66;03m# pants: no-infer-dep\u001b[39;00m\n\u001b[1;32m----> 2\u001b[0m \u001b[38;5;28;01mfrom\u001b[39;00m \u001b[38;5;21;01mlangchain\u001b[39;00m\u001b[38;5;21;01m.\u001b[39;00m\u001b[38;5;21;01magents\u001b[39;00m \u001b[38;5;28;01mimport\u001b[39;00m (\n\u001b[0;32m      3\u001b[0m     AgentExecutor,\n\u001b[0;32m      4\u001b[0m     AgentType,\n\u001b[0;32m      5\u001b[0m     initialize_agent,\n\u001b[0;32m      6\u001b[0m )  \u001b[38;5;66;03m# pants: no-infer-dep\u001b[39;00m\n\u001b[0;32m      8\u001b[0m \u001b[38;5;66;03m# agents and tools\u001b[39;00m\n\u001b[0;32m      9\u001b[0m \u001b[38;5;28;01mfrom\u001b[39;00m \u001b[38;5;21;01mlangchain\u001b[39;00m\u001b[38;5;21;01m.\u001b[39;00m\u001b[38;5;21;01magents\u001b[39;00m\u001b[38;5;21;01m.\u001b[39;00m\u001b[38;5;21;01magent_toolkits\u001b[39;00m\u001b[38;5;21;01m.\u001b[39;00m\u001b[38;5;21;01mbase\u001b[39;00m \u001b[38;5;28;01mimport\u001b[39;00m BaseToolkit  \u001b[38;5;66;03m# pants: no-infer-dep\u001b[39;00m\n",
      "File \u001b[1;32mc:\\Users\\localadmin\\Desktop\\new desktop\\linkedinsucks\\linkedinsucks\\linkedinbot_venv\\Lib\\site-packages\\langchain\\agents\\__init__.py:40\u001b[0m\n\u001b[0;32m     37\u001b[0m \u001b[38;5;28;01mfrom\u001b[39;00m \u001b[38;5;21;01mlangchain_core\u001b[39;00m\u001b[38;5;21;01m.\u001b[39;00m\u001b[38;5;21;01mtools\u001b[39;00m\u001b[38;5;21;01m.\u001b[39;00m\u001b[38;5;21;01mconvert\u001b[39;00m \u001b[38;5;28;01mimport\u001b[39;00m tool\n\u001b[0;32m     39\u001b[0m \u001b[38;5;28;01mfrom\u001b[39;00m \u001b[38;5;21;01mlangchain\u001b[39;00m\u001b[38;5;21;01m.\u001b[39;00m\u001b[38;5;21;01m_api\u001b[39;00m \u001b[38;5;28;01mimport\u001b[39;00m create_importer\n\u001b[1;32m---> 40\u001b[0m \u001b[38;5;28;01mfrom\u001b[39;00m \u001b[38;5;21;01mlangchain\u001b[39;00m\u001b[38;5;21;01m.\u001b[39;00m\u001b[38;5;21;01magents\u001b[39;00m\u001b[38;5;21;01m.\u001b[39;00m\u001b[38;5;21;01magent\u001b[39;00m \u001b[38;5;28;01mimport\u001b[39;00m (\n\u001b[0;32m     41\u001b[0m     Agent,\n\u001b[0;32m     42\u001b[0m     AgentExecutor,\n\u001b[0;32m     43\u001b[0m     AgentOutputParser,\n\u001b[0;32m     44\u001b[0m     BaseMultiActionAgent,\n\u001b[0;32m     45\u001b[0m     BaseSingleActionAgent,\n\u001b[0;32m     46\u001b[0m     LLMSingleActionAgent,\n\u001b[0;32m     47\u001b[0m )\n\u001b[0;32m     48\u001b[0m \u001b[38;5;28;01mfrom\u001b[39;00m \u001b[38;5;21;01mlangchain\u001b[39;00m\u001b[38;5;21;01m.\u001b[39;00m\u001b[38;5;21;01magents\u001b[39;00m\u001b[38;5;21;01m.\u001b[39;00m\u001b[38;5;21;01magent_iterator\u001b[39;00m \u001b[38;5;28;01mimport\u001b[39;00m AgentExecutorIterator\n\u001b[0;32m     49\u001b[0m \u001b[38;5;28;01mfrom\u001b[39;00m \u001b[38;5;21;01mlangchain\u001b[39;00m\u001b[38;5;21;01m.\u001b[39;00m\u001b[38;5;21;01magents\u001b[39;00m\u001b[38;5;21;01m.\u001b[39;00m\u001b[38;5;21;01magent_toolkits\u001b[39;00m\u001b[38;5;21;01m.\u001b[39;00m\u001b[38;5;21;01mvectorstore\u001b[39;00m\u001b[38;5;21;01m.\u001b[39;00m\u001b[38;5;21;01mbase\u001b[39;00m \u001b[38;5;28;01mimport\u001b[39;00m (\n\u001b[0;32m     50\u001b[0m     create_vectorstore_agent,\n\u001b[0;32m     51\u001b[0m     create_vectorstore_router_agent,\n\u001b[0;32m     52\u001b[0m )\n",
      "File \u001b[1;32mc:\\Users\\localadmin\\Desktop\\new desktop\\linkedinsucks\\linkedinsucks\\linkedinbot_venv\\Lib\\site-packages\\langchain\\agents\\agent.py:639\u001b[0m\n\u001b[0;32m    624\u001b[0m             final_output \u001b[38;5;241m=\u001b[39m \u001b[38;5;28;01mawait\u001b[39;00m \u001b[38;5;28mself\u001b[39m\u001b[38;5;241m.\u001b[39mrunnable\u001b[38;5;241m.\u001b[39mainvoke(\n\u001b[0;32m    625\u001b[0m                 inputs, config\u001b[38;5;241m=\u001b[39m{\u001b[38;5;124m\"\u001b[39m\u001b[38;5;124mcallbacks\u001b[39m\u001b[38;5;124m\"\u001b[39m: callbacks}\n\u001b[0;32m    626\u001b[0m             )\n\u001b[0;32m    628\u001b[0m         \u001b[38;5;28;01mreturn\u001b[39;00m final_output\n\u001b[0;32m    631\u001b[0m \u001b[38;5;129;43m@deprecated\u001b[39;49m\u001b[43m(\u001b[49m\n\u001b[0;32m    632\u001b[0m \u001b[43m    \u001b[49m\u001b[38;5;124;43m\"\u001b[39;49m\u001b[38;5;124;43m0.1.0\u001b[39;49m\u001b[38;5;124;43m\"\u001b[39;49m\u001b[43m,\u001b[49m\n\u001b[0;32m    633\u001b[0m \u001b[43m    \u001b[49m\u001b[43mmessage\u001b[49m\u001b[38;5;241;43m=\u001b[39;49m\u001b[43m(\u001b[49m\n\u001b[0;32m    634\u001b[0m \u001b[43m        \u001b[49m\u001b[38;5;124;43m\"\u001b[39;49m\u001b[38;5;124;43mUse new agent constructor methods like create_react_agent, create_json_agent, \u001b[39;49m\u001b[38;5;124;43m\"\u001b[39;49m\n\u001b[0;32m    635\u001b[0m \u001b[43m        \u001b[49m\u001b[38;5;124;43m\"\u001b[39;49m\u001b[38;5;124;43mcreate_structured_chat_agent, etc.\u001b[39;49m\u001b[38;5;124;43m\"\u001b[39;49m\n\u001b[0;32m    636\u001b[0m \u001b[43m    \u001b[49m\u001b[43m)\u001b[49m\u001b[43m,\u001b[49m\n\u001b[0;32m    637\u001b[0m \u001b[43m    \u001b[49m\u001b[43mremoval\u001b[49m\u001b[38;5;241;43m=\u001b[39;49m\u001b[38;5;124;43m\"\u001b[39;49m\u001b[38;5;124;43m1.0\u001b[39;49m\u001b[38;5;124;43m\"\u001b[39;49m\u001b[43m,\u001b[49m\n\u001b[0;32m    638\u001b[0m \u001b[43m)\u001b[49m\n\u001b[1;32m--> 639\u001b[0m \u001b[38;5;28;43;01mclass\u001b[39;49;00m\u001b[43m \u001b[49m\u001b[38;5;21;43;01mLLMSingleActionAgent\u001b[39;49;00m\u001b[43m(\u001b[49m\u001b[43mBaseSingleActionAgent\u001b[49m\u001b[43m)\u001b[49m\u001b[43m:\u001b[49m\n\u001b[0;32m    640\u001b[0m \u001b[38;5;250;43m    \u001b[39;49m\u001b[38;5;124;43;03m\"\"\"Base class for single action agents.\"\"\"\u001b[39;49;00m\n\u001b[0;32m    642\u001b[0m \u001b[43m    \u001b[49m\u001b[43mllm_chain\u001b[49m\u001b[43m:\u001b[49m\u001b[43m \u001b[49m\u001b[43mLLMChain\u001b[49m\n",
      "File \u001b[1;32mc:\\Users\\localadmin\\Desktop\\new desktop\\linkedinsucks\\linkedinsucks\\linkedinbot_venv\\Lib\\site-packages\\pydantic\\v1\\main.py:197\u001b[0m, in \u001b[0;36mModelMetaclass.__new__\u001b[1;34m(mcs, name, bases, namespace, **kwargs)\u001b[0m\n\u001b[0;32m    189\u001b[0m     \u001b[38;5;28;01mif\u001b[39;00m (\n\u001b[0;32m    190\u001b[0m         is_untouched(value)\n\u001b[0;32m    191\u001b[0m         \u001b[38;5;129;01mand\u001b[39;00m ann_type \u001b[38;5;241m!=\u001b[39m PyObject\n\u001b[1;32m   (...)\u001b[0m\n\u001b[0;32m    194\u001b[0m         )\n\u001b[0;32m    195\u001b[0m     ):\n\u001b[0;32m    196\u001b[0m         \u001b[38;5;28;01mcontinue\u001b[39;00m\n\u001b[1;32m--> 197\u001b[0m     fields[ann_name] \u001b[38;5;241m=\u001b[39m \u001b[43mModelField\u001b[49m\u001b[38;5;241;43m.\u001b[39;49m\u001b[43minfer\u001b[49m\u001b[43m(\u001b[49m\n\u001b[0;32m    198\u001b[0m \u001b[43m        \u001b[49m\u001b[43mname\u001b[49m\u001b[38;5;241;43m=\u001b[39;49m\u001b[43mann_name\u001b[49m\u001b[43m,\u001b[49m\n\u001b[0;32m    199\u001b[0m \u001b[43m        \u001b[49m\u001b[43mvalue\u001b[49m\u001b[38;5;241;43m=\u001b[39;49m\u001b[43mvalue\u001b[49m\u001b[43m,\u001b[49m\n\u001b[0;32m    200\u001b[0m \u001b[43m        \u001b[49m\u001b[43mannotation\u001b[49m\u001b[38;5;241;43m=\u001b[39;49m\u001b[43mann_type\u001b[49m\u001b[43m,\u001b[49m\n\u001b[0;32m    201\u001b[0m \u001b[43m        \u001b[49m\u001b[43mclass_validators\u001b[49m\u001b[38;5;241;43m=\u001b[39;49m\u001b[43mvg\u001b[49m\u001b[38;5;241;43m.\u001b[39;49m\u001b[43mget_validators\u001b[49m\u001b[43m(\u001b[49m\u001b[43mann_name\u001b[49m\u001b[43m)\u001b[49m\u001b[43m,\u001b[49m\n\u001b[0;32m    202\u001b[0m \u001b[43m        \u001b[49m\u001b[43mconfig\u001b[49m\u001b[38;5;241;43m=\u001b[39;49m\u001b[43mconfig\u001b[49m\u001b[43m,\u001b[49m\n\u001b[0;32m    203\u001b[0m \u001b[43m    \u001b[49m\u001b[43m)\u001b[49m\n\u001b[0;32m    204\u001b[0m \u001b[38;5;28;01melif\u001b[39;00m ann_name \u001b[38;5;129;01mnot\u001b[39;00m \u001b[38;5;129;01min\u001b[39;00m namespace \u001b[38;5;129;01mand\u001b[39;00m config\u001b[38;5;241m.\u001b[39munderscore_attrs_are_private:\n\u001b[0;32m    205\u001b[0m     private_attributes[ann_name] \u001b[38;5;241m=\u001b[39m PrivateAttr()\n",
      "File \u001b[1;32mc:\\Users\\localadmin\\Desktop\\new desktop\\linkedinsucks\\linkedinsucks\\linkedinbot_venv\\Lib\\site-packages\\pydantic\\v1\\fields.py:504\u001b[0m, in \u001b[0;36mModelField.infer\u001b[1;34m(cls, name, value, annotation, class_validators, config)\u001b[0m\n\u001b[0;32m    501\u001b[0m     required \u001b[38;5;241m=\u001b[39m \u001b[38;5;28;01mFalse\u001b[39;00m\n\u001b[0;32m    502\u001b[0m annotation \u001b[38;5;241m=\u001b[39m get_annotation_from_field_info(annotation, field_info, name, config\u001b[38;5;241m.\u001b[39mvalidate_assignment)\n\u001b[1;32m--> 504\u001b[0m \u001b[38;5;28;01mreturn\u001b[39;00m \u001b[38;5;28;43mcls\u001b[39;49m\u001b[43m(\u001b[49m\n\u001b[0;32m    505\u001b[0m \u001b[43m    \u001b[49m\u001b[43mname\u001b[49m\u001b[38;5;241;43m=\u001b[39;49m\u001b[43mname\u001b[49m\u001b[43m,\u001b[49m\n\u001b[0;32m    506\u001b[0m \u001b[43m    \u001b[49m\u001b[43mtype_\u001b[49m\u001b[38;5;241;43m=\u001b[39;49m\u001b[43mannotation\u001b[49m\u001b[43m,\u001b[49m\n\u001b[0;32m    507\u001b[0m \u001b[43m    \u001b[49m\u001b[43malias\u001b[49m\u001b[38;5;241;43m=\u001b[39;49m\u001b[43mfield_info\u001b[49m\u001b[38;5;241;43m.\u001b[39;49m\u001b[43malias\u001b[49m\u001b[43m,\u001b[49m\n\u001b[0;32m    508\u001b[0m \u001b[43m    \u001b[49m\u001b[43mclass_validators\u001b[49m\u001b[38;5;241;43m=\u001b[39;49m\u001b[43mclass_validators\u001b[49m\u001b[43m,\u001b[49m\n\u001b[0;32m    509\u001b[0m \u001b[43m    \u001b[49m\u001b[43mdefault\u001b[49m\u001b[38;5;241;43m=\u001b[39;49m\u001b[43mvalue\u001b[49m\u001b[43m,\u001b[49m\n\u001b[0;32m    510\u001b[0m \u001b[43m    \u001b[49m\u001b[43mdefault_factory\u001b[49m\u001b[38;5;241;43m=\u001b[39;49m\u001b[43mfield_info\u001b[49m\u001b[38;5;241;43m.\u001b[39;49m\u001b[43mdefault_factory\u001b[49m\u001b[43m,\u001b[49m\n\u001b[0;32m    511\u001b[0m \u001b[43m    \u001b[49m\u001b[43mrequired\u001b[49m\u001b[38;5;241;43m=\u001b[39;49m\u001b[43mrequired\u001b[49m\u001b[43m,\u001b[49m\n\u001b[0;32m    512\u001b[0m \u001b[43m    \u001b[49m\u001b[43mmodel_config\u001b[49m\u001b[38;5;241;43m=\u001b[39;49m\u001b[43mconfig\u001b[49m\u001b[43m,\u001b[49m\n\u001b[0;32m    513\u001b[0m \u001b[43m    \u001b[49m\u001b[43mfield_info\u001b[49m\u001b[38;5;241;43m=\u001b[39;49m\u001b[43mfield_info\u001b[49m\u001b[43m,\u001b[49m\n\u001b[0;32m    514\u001b[0m \u001b[43m\u001b[49m\u001b[43m)\u001b[49m\n",
      "File \u001b[1;32mc:\\Users\\localadmin\\Desktop\\new desktop\\linkedinsucks\\linkedinsucks\\linkedinbot_venv\\Lib\\site-packages\\pydantic\\v1\\fields.py:434\u001b[0m, in \u001b[0;36mModelField.__init__\u001b[1;34m(self, name, type_, class_validators, model_config, default, default_factory, required, final, alias, field_info)\u001b[0m\n\u001b[0;32m    432\u001b[0m \u001b[38;5;28mself\u001b[39m\u001b[38;5;241m.\u001b[39mshape: \u001b[38;5;28mint\u001b[39m \u001b[38;5;241m=\u001b[39m SHAPE_SINGLETON\n\u001b[0;32m    433\u001b[0m \u001b[38;5;28mself\u001b[39m\u001b[38;5;241m.\u001b[39mmodel_config\u001b[38;5;241m.\u001b[39mprepare_field(\u001b[38;5;28mself\u001b[39m)\n\u001b[1;32m--> 434\u001b[0m \u001b[38;5;28;43mself\u001b[39;49m\u001b[38;5;241;43m.\u001b[39;49m\u001b[43mprepare\u001b[49m\u001b[43m(\u001b[49m\u001b[43m)\u001b[49m\n",
      "File \u001b[1;32mc:\\Users\\localadmin\\Desktop\\new desktop\\linkedinsucks\\linkedinsucks\\linkedinbot_venv\\Lib\\site-packages\\pydantic\\v1\\fields.py:555\u001b[0m, in \u001b[0;36mModelField.prepare\u001b[1;34m(self)\u001b[0m\n\u001b[0;32m    553\u001b[0m \u001b[38;5;28;01mif\u001b[39;00m \u001b[38;5;28mself\u001b[39m\u001b[38;5;241m.\u001b[39mdefault \u001b[38;5;129;01mis\u001b[39;00m Undefined \u001b[38;5;129;01mand\u001b[39;00m \u001b[38;5;28mself\u001b[39m\u001b[38;5;241m.\u001b[39mdefault_factory \u001b[38;5;129;01mis\u001b[39;00m \u001b[38;5;28;01mNone\u001b[39;00m:\n\u001b[0;32m    554\u001b[0m     \u001b[38;5;28mself\u001b[39m\u001b[38;5;241m.\u001b[39mdefault \u001b[38;5;241m=\u001b[39m \u001b[38;5;28;01mNone\u001b[39;00m\n\u001b[1;32m--> 555\u001b[0m \u001b[38;5;28;43mself\u001b[39;49m\u001b[38;5;241;43m.\u001b[39;49m\u001b[43mpopulate_validators\u001b[49m\u001b[43m(\u001b[49m\u001b[43m)\u001b[49m\n",
      "File \u001b[1;32mc:\\Users\\localadmin\\Desktop\\new desktop\\linkedinsucks\\linkedinsucks\\linkedinbot_venv\\Lib\\site-packages\\pydantic\\v1\\fields.py:829\u001b[0m, in \u001b[0;36mModelField.populate_validators\u001b[1;34m(self)\u001b[0m\n\u001b[0;32m    825\u001b[0m \u001b[38;5;28;01mif\u001b[39;00m \u001b[38;5;129;01mnot\u001b[39;00m \u001b[38;5;28mself\u001b[39m\u001b[38;5;241m.\u001b[39msub_fields \u001b[38;5;129;01mor\u001b[39;00m \u001b[38;5;28mself\u001b[39m\u001b[38;5;241m.\u001b[39mshape \u001b[38;5;241m==\u001b[39m SHAPE_GENERIC:\n\u001b[0;32m    826\u001b[0m     get_validators \u001b[38;5;241m=\u001b[39m \u001b[38;5;28mgetattr\u001b[39m(\u001b[38;5;28mself\u001b[39m\u001b[38;5;241m.\u001b[39mtype_, \u001b[38;5;124m'\u001b[39m\u001b[38;5;124m__get_validators__\u001b[39m\u001b[38;5;124m'\u001b[39m, \u001b[38;5;28;01mNone\u001b[39;00m)\n\u001b[0;32m    827\u001b[0m     v_funcs \u001b[38;5;241m=\u001b[39m (\n\u001b[0;32m    828\u001b[0m         \u001b[38;5;241m*\u001b[39m[v\u001b[38;5;241m.\u001b[39mfunc \u001b[38;5;28;01mfor\u001b[39;00m v \u001b[38;5;129;01min\u001b[39;00m class_validators_ \u001b[38;5;28;01mif\u001b[39;00m v\u001b[38;5;241m.\u001b[39meach_item \u001b[38;5;129;01mand\u001b[39;00m v\u001b[38;5;241m.\u001b[39mpre],\n\u001b[1;32m--> 829\u001b[0m         \u001b[38;5;241m*\u001b[39m(get_validators() \u001b[38;5;28;01mif\u001b[39;00m get_validators \u001b[38;5;28;01melse\u001b[39;00m \u001b[38;5;28;43mlist\u001b[39;49m\u001b[43m(\u001b[49m\u001b[43mfind_validators\u001b[49m\u001b[43m(\u001b[49m\u001b[38;5;28;43mself\u001b[39;49m\u001b[38;5;241;43m.\u001b[39;49m\u001b[43mtype_\u001b[49m\u001b[43m,\u001b[49m\u001b[43m \u001b[49m\u001b[38;5;28;43mself\u001b[39;49m\u001b[38;5;241;43m.\u001b[39;49m\u001b[43mmodel_config\u001b[49m\u001b[43m)\u001b[49m\u001b[43m)\u001b[49m),\n\u001b[0;32m    830\u001b[0m         \u001b[38;5;241m*\u001b[39m[v\u001b[38;5;241m.\u001b[39mfunc \u001b[38;5;28;01mfor\u001b[39;00m v \u001b[38;5;129;01min\u001b[39;00m class_validators_ \u001b[38;5;28;01mif\u001b[39;00m v\u001b[38;5;241m.\u001b[39meach_item \u001b[38;5;129;01mand\u001b[39;00m \u001b[38;5;129;01mnot\u001b[39;00m v\u001b[38;5;241m.\u001b[39mpre],\n\u001b[0;32m    831\u001b[0m     )\n\u001b[0;32m    832\u001b[0m     \u001b[38;5;28mself\u001b[39m\u001b[38;5;241m.\u001b[39mvalidators \u001b[38;5;241m=\u001b[39m prep_validators(v_funcs)\n\u001b[0;32m    834\u001b[0m \u001b[38;5;28mself\u001b[39m\u001b[38;5;241m.\u001b[39mpre_validators \u001b[38;5;241m=\u001b[39m []\n",
      "File \u001b[1;32mc:\\Users\\localadmin\\Desktop\\new desktop\\linkedinsucks\\linkedinsucks\\linkedinbot_venv\\Lib\\site-packages\\pydantic\\v1\\validators.py:765\u001b[0m, in \u001b[0;36mfind_validators\u001b[1;34m(type_, config)\u001b[0m\n\u001b[0;32m    763\u001b[0m     \u001b[38;5;28;01myield\u001b[39;00m make_arbitrary_type_validator(type_)\n\u001b[0;32m    764\u001b[0m \u001b[38;5;28;01melse\u001b[39;00m:\n\u001b[1;32m--> 765\u001b[0m     \u001b[38;5;28;01mraise\u001b[39;00m \u001b[38;5;167;01mRuntimeError\u001b[39;00m(\u001b[38;5;124mf\u001b[39m\u001b[38;5;124m'\u001b[39m\u001b[38;5;124mno validator found for \u001b[39m\u001b[38;5;132;01m{\u001b[39;00mtype_\u001b[38;5;132;01m}\u001b[39;00m\u001b[38;5;124m, see `arbitrary_types_allowed` in Config\u001b[39m\u001b[38;5;124m'\u001b[39m)\n",
      "\u001b[1;31mRuntimeError\u001b[0m: no validator found for <class 'langchain.chains.llm.LLMChain'>, see `arbitrary_types_allowed` in Config"
     ]
    }
   ],
   "source": [
    "from llama_index.core import Settings\n",
    "\n",
    "Settings.llm = Ollama(\n",
    "model = \"tinyllama\",\n",
    "temperature = 0.01,\n",
    "request_timeout = 400,\n",
    "system_prompt = system_prompt,\n",
    "context_window = 2000\n",
    "\n",
    ")\n",
    "Settings.embed_model = HuggingFaceEmbeddings(\n",
    "    model_name=\"sentence-transformers/all-MiniLM-L6-v2\"\n",
    ")\n",
    "\n",
    "\n",
    "index = VectorStoreIndex.from_documents(documents)\n",
    "\n",
    "query_engine = index.as_query_engine(response_mode=\"compact\")\n",
    "response = query_engine.query(\"from the given documents tell me about regression\")\n",
    "response.response"
   ]
  },
  {
   "cell_type": "code",
   "execution_count": 37,
   "metadata": {},
   "outputs": [
    {
     "data": {
      "text/plain": [
       "'To answer the query about time series, you can follow these steps:\\n\\n1. Read the given context information carefully to understand the context of the question.\\n2. Look for any relevant data in the given documents that can help you answer the question. For example, if the question asks about the dependence among adjacent observations, you might look for patterns or trends in the data that suggest a seasonal pattern.\\n3. Consider the type of nonstationarity present in the data and how it affects the analysis. Seasonality is an example of nonstationarity, where the variance increases as the mean level. If this is the case, log transformation can be used to stabilize the variance.\\n4. Look for any trends or patterns in the data that can help you understand the underlying mechanisms driving the time series. For example, if the question asks about the dependence among adjacent observations, you might look for correlations between different variables.\\n5. Use statistical methods such as regression analysis or time series analysis to analyze and interpret the data. You can use tools like Excel or Python to perform these analyses.\\n6. Finally, provide a clear and concise answer that explains the main findings of your analysis.'"
      ]
     },
     "execution_count": 37,
     "metadata": {},
     "output_type": "execute_result"
    }
   ],
   "source": [
    "query_engine = index.as_query_engine(response_mode=\"compact\")\n",
    "response = query_engine.query(\"from the given documents tell me about time series\")\n",
    "response.response"
   ]
  },
  {
   "cell_type": "code",
   "execution_count": 10,
   "metadata": {},
   "outputs": [],
   "source": [
    "from llama_index.core import Settings\n",
    "\n",
    "Settings.llm = Ollama(\n",
    "model = \"phi3:3.8b-mini-4k-instruct-q4_K_M\",\n",
    "temperature = 0.01,\n",
    "request_timeout = 400,\n",
    "system_prompt = system_prompt,\n",
    "context_window = 2000\n",
    "\n",
    ")\n",
    "Settings.embed_model = HuggingFaceEmbeddings(\n",
    "    model_name=\"BAAI/bge-small-en-v1.5\"\n",
    ")\n",
    "\n",
    "\n",
    "index = VectorStoreIndex.from_documents(documents)\n",
    "\n",
    "query_engine = index.as_query_engine(response_mode=\"compact\")\n",
    "response = query_engine.query(\"tell me about regression\")\n",
    "response.response"
   ]
  },
  {
   "cell_type": "code",
   "execution_count": 13,
   "metadata": {},
   "outputs": [
    {
     "data": {
      "text/plain": [
       "\"Regression analysis is a statistical method used to examine relationships between variables by fitting a model that predicts one variable based on others. It's often employed in various fields such as economics, biology, and social sciences for forecasting or understanding the impact of certain factors. The process involves estimating coefficients which quantify how much each independent variable influences the dependent variable while controlling for other variables included in the model.\""
      ]
     },
     "execution_count": 13,
     "metadata": {},
     "output_type": "execute_result"
    }
   ],
   "source": [
    "index = VectorStoreIndex.from_documents(documents)\n",
    "\n",
    "query_engine = index.as_query_engine(response_mode=\"compact\")\n",
    "response = query_engine.query(\"tell me about regression\")\n",
    "response.response"
   ]
  },
  {
   "cell_type": "code",
   "execution_count": 7,
   "metadata": {},
   "outputs": [],
   "source": [
    "import json\n",
    "import os\n",
    "from llama_index.llms.openai import OpenAI\n",
    "from llama_index.embeddings.openai import OpenAIEmbedding\n",
    "\n",
    "Settings.llm = OpenAI(model=\"gpt-3.5-turbo\")\n",
    "Settings.embed_model = OpenAIEmbedding(model=\"text-embedding-ada-002\")\n",
    "\n",
    "\n",
    "secrets_file = r\"C:\\Users\\localadmin\\Desktop\\new desktop\\linkedinsucks\\user_files\\secrets.json\"\n",
    "with open(secrets_file, 'r') as file:\n",
    "    data = json.load(file)\n",
    "    \n",
    "\n",
    "OPENAI_API_KEY = data[\"OPENAI_KEY\"]\n",
    "os.environ[\"OPENAI_API_KEY\"] = OPENAI_API_KEY"
   ]
  },
  {
   "cell_type": "code",
   "execution_count": null,
   "metadata": {},
   "outputs": [],
   "source": []
  },
  {
   "cell_type": "code",
   "execution_count": 24,
   "metadata": {},
   "outputs": [
    {
     "data": {
      "text/plain": [
       "Response(response='Regression is a statistical method used to examine the relationship between one dependent variable and one or more independent variables. It helps in understanding how the value of the dependent variable changes when one or more independent variables are varied. Linear regression, a common type of regression, assumes a linear relationship between the variables. It is widely used in various fields such as economics, finance, biology, and social sciences to analyze and predict trends and patterns in data.', source_nodes=[NodeWithScore(node=TextNode(id_='e1700db8-0f64-4ac7-b364-9bb815bf272b', embedding=None, metadata={'page_label': '9', 'file_name': 'week1_beamer.pdf', 'file_path': 'C:\\\\Users\\\\localadmin\\\\Desktop\\\\new desktop\\\\linkedinsucks\\\\linkedin_easyapply_bot\\\\agentic rag trials\\\\docs\\\\week1_beamer.pdf', 'file_type': 'application/pdf', 'file_size': 1370171, 'creation_date': '2024-09-22', 'last_modified_date': '2022-11-06'}, excluded_embed_metadata_keys=['file_name', 'file_type', 'file_size', 'creation_date', 'last_modified_date', 'last_accessed_date'], excluded_llm_metadata_keys=['file_name', 'file_type', 'file_size', 'creation_date', 'last_modified_date', 'last_accessed_date'], relationships={<NodeRelationship.SOURCE: '1'>: RelatedNodeInfo(node_id='1da07bb1-ddca-47bc-b210-5af1c533ac9e', node_type=<ObjectType.DOCUMENT: '4'>, metadata={'page_label': '9', 'file_name': 'week1_beamer.pdf', 'file_path': 'C:\\\\Users\\\\localadmin\\\\Desktop\\\\new desktop\\\\linkedinsucks\\\\linkedin_easyapply_bot\\\\agentic rag trials\\\\docs\\\\week1_beamer.pdf', 'file_type': 'application/pdf', 'file_size': 1370171, 'creation_date': '2024-09-22', 'last_modified_date': '2022-11-06'}, hash='e44c97b18c3c1125ec6b3bde170799e2f9dc41355f66967927f2e5d5b70a6707')}, text='Why do you want to study regression?\\nMSDS 596 Lecture 01 Sept 12, 2022 9 / 26', mimetype='text/plain', start_char_idx=0, end_char_idx=77, text_template='{metadata_str}\\n\\n{content}', metadata_template='{key}: {value}', metadata_seperator='\\n'), score=0.8127682952795882), NodeWithScore(node=TextNode(id_='1a2b2f3f-7a22-4070-9ddc-4c57d86a884d', embedding=None, metadata={'page_label': '1', 'file_name': 'week1_beamer.pdf', 'file_path': 'C:\\\\Users\\\\localadmin\\\\Desktop\\\\new desktop\\\\linkedinsucks\\\\linkedin_easyapply_bot\\\\agentic rag trials\\\\docs\\\\week1_beamer.pdf', 'file_type': 'application/pdf', 'file_size': 1370171, 'creation_date': '2024-09-22', 'last_modified_date': '2022-11-06'}, excluded_embed_metadata_keys=['file_name', 'file_type', 'file_size', 'creation_date', 'last_modified_date', 'last_accessed_date'], excluded_llm_metadata_keys=['file_name', 'file_type', 'file_size', 'creation_date', 'last_modified_date', 'last_accessed_date'], relationships={<NodeRelationship.SOURCE: '1'>: RelatedNodeInfo(node_id='5d4e2868-ec2d-4a9d-8175-6e5568595ce2', node_type=<ObjectType.DOCUMENT: '4'>, metadata={'page_label': '1', 'file_name': 'week1_beamer.pdf', 'file_path': 'C:\\\\Users\\\\localadmin\\\\Desktop\\\\new desktop\\\\linkedinsucks\\\\linkedin_easyapply_bot\\\\agentic rag trials\\\\docs\\\\week1_beamer.pdf', 'file_type': 'application/pdf', 'file_size': 1370171, 'creation_date': '2024-09-22', 'last_modified_date': '2022-11-06'}, hash='7a97fd24d86461a360d2a40263e94ea8e19ddb1420e7929e30fc7577826fe60b')}, text='MSDS 596 Regression & Time Series\\nLecture 01 Introduction to linear regression\\nDepartment of Statistics\\nRutgers University\\nSept 12, 2022\\n*Do not reproduce or distribute lecture slides without permission*\\nMSDS 596 Lecture 01 Sept 12, 2022 1 / 26', mimetype='text/plain', start_char_idx=0, end_char_idx=244, text_template='{metadata_str}\\n\\n{content}', metadata_template='{key}: {value}', metadata_seperator='\\n'), score=0.80333883090112)], metadata={'e1700db8-0f64-4ac7-b364-9bb815bf272b': {'page_label': '9', 'file_name': 'week1_beamer.pdf', 'file_path': 'C:\\\\Users\\\\localadmin\\\\Desktop\\\\new desktop\\\\linkedinsucks\\\\linkedin_easyapply_bot\\\\agentic rag trials\\\\docs\\\\week1_beamer.pdf', 'file_type': 'application/pdf', 'file_size': 1370171, 'creation_date': '2024-09-22', 'last_modified_date': '2022-11-06'}, '1a2b2f3f-7a22-4070-9ddc-4c57d86a884d': {'page_label': '1', 'file_name': 'week1_beamer.pdf', 'file_path': 'C:\\\\Users\\\\localadmin\\\\Desktop\\\\new desktop\\\\linkedinsucks\\\\linkedin_easyapply_bot\\\\agentic rag trials\\\\docs\\\\week1_beamer.pdf', 'file_type': 'application/pdf', 'file_size': 1370171, 'creation_date': '2024-09-22', 'last_modified_date': '2022-11-06'}})"
      ]
     },
     "execution_count": 24,
     "metadata": {},
     "output_type": "execute_result"
    }
   ],
   "source": [
    "index = VectorStoreIndex.from_documents(documents)\n",
    "query_engine = index.as_query_engine()\n",
    "query_engine.query(\"tell me about regression\")"
   ]
  },
  {
   "cell_type": "code",
   "execution_count": 1,
   "metadata": {},
   "outputs": [
    {
     "name": "stderr",
     "output_type": "stream",
     "text": [
      "C:\\Users\\localadmin\\AppData\\Local\\Programs\\Python\\Python312\\Lib\\importlib\\__init__.py:90: LangChainDeprecationWarning: As of langchain-core 0.3.0, LangChain uses pydantic v2 internally. The langchain_core.pydantic_v1 module was a compatibility shim for pydantic v1, and should no longer be used. Please update the code to import from Pydantic directly.\n",
      "\n",
      "For example, replace imports like: `from langchain_core.pydantic_v1 import BaseModel`\n",
      "with: `from pydantic import BaseModel`\n",
      "or the v1 compatibility namespace if you are working in a code base that has not been fully upgraded to pydantic 2 yet. \tfrom pydantic.v1 import BaseModel\n",
      "\n",
      "  return _bootstrap._gcd_import(name[level:], package, level)\n"
     ]
    },
    {
     "ename": "NameError",
     "evalue": "name 'system_prompt' is not defined",
     "output_type": "error",
     "traceback": [
      "\u001b[1;31m---------------------------------------------------------------------------\u001b[0m",
      "\u001b[1;31mNameError\u001b[0m                                 Traceback (most recent call last)",
      "Cell \u001b[1;32mIn[1], line 19\u001b[0m\n\u001b[0;32m     12\u001b[0m gpt3_5_embed \u001b[38;5;241m=\u001b[39m OpenAIEmbedding(model\u001b[38;5;241m=\u001b[39m\u001b[38;5;124m\"\u001b[39m\u001b[38;5;124mtext-embedding-ada-002\u001b[39m\u001b[38;5;124m\"\u001b[39m)\n\u001b[0;32m     14\u001b[0m \u001b[38;5;66;03m# For vector search tool (Using phi3-mini)\u001b[39;00m\n\u001b[0;32m     15\u001b[0m phi3_llm \u001b[38;5;241m=\u001b[39m Ollama(\n\u001b[0;32m     16\u001b[0m     model\u001b[38;5;241m=\u001b[39m\u001b[38;5;124m\"\u001b[39m\u001b[38;5;124mphi3:3.8b-mini-4k-instruct-q4_K_M\u001b[39m\u001b[38;5;124m\"\u001b[39m,\n\u001b[0;32m     17\u001b[0m     temperature\u001b[38;5;241m=\u001b[39m\u001b[38;5;241m0.01\u001b[39m,\n\u001b[0;32m     18\u001b[0m     request_timeout\u001b[38;5;241m=\u001b[39m\u001b[38;5;241m400\u001b[39m,\n\u001b[1;32m---> 19\u001b[0m     system_prompt\u001b[38;5;241m=\u001b[39m\u001b[43msystem_prompt\u001b[49m,  \u001b[38;5;66;03m# Define your system prompt as needed\u001b[39;00m\n\u001b[0;32m     20\u001b[0m     context_window\u001b[38;5;241m=\u001b[39m\u001b[38;5;241m2000\u001b[39m\n\u001b[0;32m     21\u001b[0m )\n\u001b[0;32m     22\u001b[0m phi3_embed \u001b[38;5;241m=\u001b[39m HuggingFaceEmbeddings(model_name\u001b[38;5;241m=\u001b[39m\u001b[38;5;124m\"\u001b[39m\u001b[38;5;124mBAAI/bge-small-en-v1.5\u001b[39m\u001b[38;5;124m\"\u001b[39m)\n\u001b[0;32m     25\u001b[0m \u001b[38;5;66;03m#### Set Up Each Tool Separately\u001b[39;00m\n\u001b[0;32m     26\u001b[0m \n\u001b[0;32m     27\u001b[0m \u001b[38;5;66;03m# Summarizer tool settings (GPT-3.5)\u001b[39;00m\n",
      "\u001b[1;31mNameError\u001b[0m: name 'system_prompt' is not defined"
     ]
    }
   ],
   "source": [
    "from llama_index.core import Settings\n",
    "from llama_index.llms.ollama import Ollama\n",
    "from llama_index.llms.openai import OpenAI\n",
    "from llama_index.embeddings.openai import OpenAIEmbedding\n",
    "from langchain.embeddings.huggingface import HuggingFaceEmbeddings\n",
    "from llama_index.core.tools import QueryEngineTool\n",
    "from llama_index.core import SummaryIndex\n",
    "#### Define LLMs and Embeddings for Each Tool\n",
    "\n",
    "# For summarizer tool (Using GPT-3.5)\n",
    "gpt3_5_llm = OpenAI(model=\"gpt-3.5-turbo\")\n",
    "gpt3_5_embed = OpenAIEmbedding(model=\"text-embedding-ada-002\")\n",
    "\n",
    "# For vector search tool (Using phi3-mini)\n",
    "phi3_llm = Ollama(\n",
    "    model=\"phi3:3.8b-mini-4k-instruct-q4_K_M\",\n",
    "    temperature=0.01,\n",
    "    request_timeout=400,\n",
    "    system_prompt=system_prompt,  # Define your system prompt as needed\n",
    "    context_window=2000\n",
    ")\n",
    "phi3_embed = HuggingFaceEmbeddings(model_name=\"BAAI/bge-small-en-v1.5\")\n",
    "\n",
    "\n",
    "#### Set Up Each Tool Separately\n",
    "\n",
    "# Summarizer tool settings (GPT-3.5)\n",
    "Settings.llm = gpt3_5_llm\n",
    "Settings.embed_model = gpt3_5_embed\n",
    "\n",
    "summary_index = SummaryIndex(documents)  # Assuming `nodes` is already defined\n",
    "summary_query_engine = summary_index.as_query_engine(\n",
    "    response_mode=\"tree_summarize\",\n",
    "    use_async=True,\n",
    ")\n",
    "\n",
    "summary_tool = QueryEngineTool.from_defaults(\n",
    "    query_engine=summary_query_engine,\n",
    "    description=\"Useful for summarization questions related to MetaGPT\"\n",
    ")\n",
    "\n",
    "\n",
    "# Vector search tool settings (phi3-mini)\n",
    "Settings.llm = phi3_llm\n",
    "Settings.embed_model = phi3_embed\n",
    "\n",
    "vector_index = VectorStoreIndex(documents)  # Assuming `nodes` is already defined\n",
    "vector_query_engine = vector_index.as_query_engine()\n",
    "\n",
    "vector_tool = QueryEngineTool.from_defaults(\n",
    "    query_engine=vector_query_engine,\n",
    "    description=\"Useful for retrieving specific context from the MetaGPT paper.\"\n",
    ")\n",
    "\n",
    "#### Now you have the two tools using different LLMs\n"
   ]
  },
  {
   "cell_type": "code",
   "execution_count": 16,
   "metadata": {},
   "outputs": [],
   "source": [
    "import nest_asyncio\n",
    "\n",
    "nest_asyncio.apply()"
   ]
  },
  {
   "cell_type": "code",
   "execution_count": 35,
   "metadata": {},
   "outputs": [],
   "source": [
    "from llama_index.core.query_engine.router_query_engine import RouterQueryEngine\n",
    "from llama_index.core.selectors import LLMSingleSelector\n",
    "\n",
    "\n",
    "query_engine = RouterQueryEngine(\n",
    "    selector=LLMSingleSelector.from_defaults(),\n",
    "    query_engine_tools=[\n",
    "        summary_tool,\n",
    "        vector_tool,\n",
    "    ],\n",
    "    verbose=True\n",
    ")\n",
    "\n"
   ]
  },
  {
   "cell_type": "code",
   "execution_count": 36,
   "metadata": {},
   "outputs": [
    {
     "name": "stdout",
     "output_type": "stream",
     "text": [
      "\u001b[1;3;38;5;200mSelecting query engine 0: The Fisher-Cochran theorem is a statistical concept that can be summarized in the context of MetaGPT's capabilities for understanding and explaining complex theories..\n",
      "\u001b[0mThe Fisher-Cochran theorem is a fundamental concept in statistics that relates to multivariate normal distributions and chi-squared distributions. It states that under certain assumptions, a quadratic form of a vector divided by its degrees of freedom follows a chi-squared distribution. This theorem is powerful in hypothesis testing and confidence interval construction, as it allows for the calculation of probabilities associated with the chi-squared distribution. Additionally, the Fisher-Cochran theorem is essential in understanding the distribution of test statistics, calculating critical values, determining p-values, and assessing the significance of relationships between variables in statistical analysis.\n"
     ]
    }
   ],
   "source": [
    "\n",
    "response = query_engine.query(\"summarize fisher cochran theorem\")\n",
    "print(str(response))\n"
   ]
  },
  {
   "cell_type": "code",
   "execution_count": 32,
   "metadata": {},
   "outputs": [
    {
     "name": "stdout",
     "output_type": "stream",
     "text": [
      "2\n"
     ]
    }
   ],
   "source": [
    "print(len(response.source_nodes))"
   ]
  },
  {
   "cell_type": "code",
   "execution_count": 39,
   "metadata": {},
   "outputs": [
    {
     "name": "stdout",
     "output_type": "stream",
     "text": [
      "{'page_label': '1', 'file_name': 'week10_beamer.pdf', 'file_path': 'C:\\\\Users\\\\localadmin\\\\Desktop\\\\new desktop\\\\linkedinsucks\\\\linkedin_easyapply_bot\\\\agentic rag trials\\\\docs\\\\week10_beamer.pdf', 'file_type': 'application/pdf', 'file_size': 642084, 'creation_date': '2024-09-22', 'last_modified_date': '2022-11-23'}\n",
      "{'page_label': '2', 'file_name': 'week10_beamer.pdf', 'file_path': 'C:\\\\Users\\\\localadmin\\\\Desktop\\\\new desktop\\\\linkedinsucks\\\\linkedin_easyapply_bot\\\\agentic rag trials\\\\docs\\\\week10_beamer.pdf', 'file_type': 'application/pdf', 'file_size': 642084, 'creation_date': '2024-09-22', 'last_modified_date': '2022-11-23'}\n",
      "{'page_label': '3', 'file_name': 'week10_beamer.pdf', 'file_path': 'C:\\\\Users\\\\localadmin\\\\Desktop\\\\new desktop\\\\linkedinsucks\\\\linkedin_easyapply_bot\\\\agentic rag trials\\\\docs\\\\week10_beamer.pdf', 'file_type': 'application/pdf', 'file_size': 642084, 'creation_date': '2024-09-22', 'last_modified_date': '2022-11-23'}\n",
      "{'page_label': '4', 'file_name': 'week10_beamer.pdf', 'file_path': 'C:\\\\Users\\\\localadmin\\\\Desktop\\\\new desktop\\\\linkedinsucks\\\\linkedin_easyapply_bot\\\\agentic rag trials\\\\docs\\\\week10_beamer.pdf', 'file_type': 'application/pdf', 'file_size': 642084, 'creation_date': '2024-09-22', 'last_modified_date': '2022-11-23'}\n",
      "{'page_label': '5', 'file_name': 'week10_beamer.pdf', 'file_path': 'C:\\\\Users\\\\localadmin\\\\Desktop\\\\new desktop\\\\linkedinsucks\\\\linkedin_easyapply_bot\\\\agentic rag trials\\\\docs\\\\week10_beamer.pdf', 'file_type': 'application/pdf', 'file_size': 642084, 'creation_date': '2024-09-22', 'last_modified_date': '2022-11-23'}\n",
      "{'page_label': '6', 'file_name': 'week10_beamer.pdf', 'file_path': 'C:\\\\Users\\\\localadmin\\\\Desktop\\\\new desktop\\\\linkedinsucks\\\\linkedin_easyapply_bot\\\\agentic rag trials\\\\docs\\\\week10_beamer.pdf', 'file_type': 'application/pdf', 'file_size': 642084, 'creation_date': '2024-09-22', 'last_modified_date': '2022-11-23'}\n",
      "{'page_label': '7', 'file_name': 'week10_beamer.pdf', 'file_path': 'C:\\\\Users\\\\localadmin\\\\Desktop\\\\new desktop\\\\linkedinsucks\\\\linkedin_easyapply_bot\\\\agentic rag trials\\\\docs\\\\week10_beamer.pdf', 'file_type': 'application/pdf', 'file_size': 642084, 'creation_date': '2024-09-22', 'last_modified_date': '2022-11-23'}\n",
      "{'page_label': '8', 'file_name': 'week10_beamer.pdf', 'file_path': 'C:\\\\Users\\\\localadmin\\\\Desktop\\\\new desktop\\\\linkedinsucks\\\\linkedin_easyapply_bot\\\\agentic rag trials\\\\docs\\\\week10_beamer.pdf', 'file_type': 'application/pdf', 'file_size': 642084, 'creation_date': '2024-09-22', 'last_modified_date': '2022-11-23'}\n",
      "{'page_label': '9', 'file_name': 'week10_beamer.pdf', 'file_path': 'C:\\\\Users\\\\localadmin\\\\Desktop\\\\new desktop\\\\linkedinsucks\\\\linkedin_easyapply_bot\\\\agentic rag trials\\\\docs\\\\week10_beamer.pdf', 'file_type': 'application/pdf', 'file_size': 642084, 'creation_date': '2024-09-22', 'last_modified_date': '2022-11-23'}\n",
      "{'page_label': '10', 'file_name': 'week10_beamer.pdf', 'file_path': 'C:\\\\Users\\\\localadmin\\\\Desktop\\\\new desktop\\\\linkedinsucks\\\\linkedin_easyapply_bot\\\\agentic rag trials\\\\docs\\\\week10_beamer.pdf', 'file_type': 'application/pdf', 'file_size': 642084, 'creation_date': '2024-09-22', 'last_modified_date': '2022-11-23'}\n",
      "{'page_label': '11', 'file_name': 'week10_beamer.pdf', 'file_path': 'C:\\\\Users\\\\localadmin\\\\Desktop\\\\new desktop\\\\linkedinsucks\\\\linkedin_easyapply_bot\\\\agentic rag trials\\\\docs\\\\week10_beamer.pdf', 'file_type': 'application/pdf', 'file_size': 642084, 'creation_date': '2024-09-22', 'last_modified_date': '2022-11-23'}\n",
      "{'page_label': '12', 'file_name': 'week10_beamer.pdf', 'file_path': 'C:\\\\Users\\\\localadmin\\\\Desktop\\\\new desktop\\\\linkedinsucks\\\\linkedin_easyapply_bot\\\\agentic rag trials\\\\docs\\\\week10_beamer.pdf', 'file_type': 'application/pdf', 'file_size': 642084, 'creation_date': '2024-09-22', 'last_modified_date': '2022-11-23'}\n",
      "{'page_label': '13', 'file_name': 'week10_beamer.pdf', 'file_path': 'C:\\\\Users\\\\localadmin\\\\Desktop\\\\new desktop\\\\linkedinsucks\\\\linkedin_easyapply_bot\\\\agentic rag trials\\\\docs\\\\week10_beamer.pdf', 'file_type': 'application/pdf', 'file_size': 642084, 'creation_date': '2024-09-22', 'last_modified_date': '2022-11-23'}\n",
      "{'page_label': '14', 'file_name': 'week10_beamer.pdf', 'file_path': 'C:\\\\Users\\\\localadmin\\\\Desktop\\\\new desktop\\\\linkedinsucks\\\\linkedin_easyapply_bot\\\\agentic rag trials\\\\docs\\\\week10_beamer.pdf', 'file_type': 'application/pdf', 'file_size': 642084, 'creation_date': '2024-09-22', 'last_modified_date': '2022-11-23'}\n",
      "{'page_label': '15', 'file_name': 'week10_beamer.pdf', 'file_path': 'C:\\\\Users\\\\localadmin\\\\Desktop\\\\new desktop\\\\linkedinsucks\\\\linkedin_easyapply_bot\\\\agentic rag trials\\\\docs\\\\week10_beamer.pdf', 'file_type': 'application/pdf', 'file_size': 642084, 'creation_date': '2024-09-22', 'last_modified_date': '2022-11-23'}\n",
      "{'page_label': '16', 'file_name': 'week10_beamer.pdf', 'file_path': 'C:\\\\Users\\\\localadmin\\\\Desktop\\\\new desktop\\\\linkedinsucks\\\\linkedin_easyapply_bot\\\\agentic rag trials\\\\docs\\\\week10_beamer.pdf', 'file_type': 'application/pdf', 'file_size': 642084, 'creation_date': '2024-09-22', 'last_modified_date': '2022-11-23'}\n",
      "{'page_label': '17', 'file_name': 'week10_beamer.pdf', 'file_path': 'C:\\\\Users\\\\localadmin\\\\Desktop\\\\new desktop\\\\linkedinsucks\\\\linkedin_easyapply_bot\\\\agentic rag trials\\\\docs\\\\week10_beamer.pdf', 'file_type': 'application/pdf', 'file_size': 642084, 'creation_date': '2024-09-22', 'last_modified_date': '2022-11-23'}\n",
      "{'page_label': '18', 'file_name': 'week10_beamer.pdf', 'file_path': 'C:\\\\Users\\\\localadmin\\\\Desktop\\\\new desktop\\\\linkedinsucks\\\\linkedin_easyapply_bot\\\\agentic rag trials\\\\docs\\\\week10_beamer.pdf', 'file_type': 'application/pdf', 'file_size': 642084, 'creation_date': '2024-09-22', 'last_modified_date': '2022-11-23'}\n",
      "{'page_label': '19', 'file_name': 'week10_beamer.pdf', 'file_path': 'C:\\\\Users\\\\localadmin\\\\Desktop\\\\new desktop\\\\linkedinsucks\\\\linkedin_easyapply_bot\\\\agentic rag trials\\\\docs\\\\week10_beamer.pdf', 'file_type': 'application/pdf', 'file_size': 642084, 'creation_date': '2024-09-22', 'last_modified_date': '2022-11-23'}\n",
      "{'page_label': '20', 'file_name': 'week10_beamer.pdf', 'file_path': 'C:\\\\Users\\\\localadmin\\\\Desktop\\\\new desktop\\\\linkedinsucks\\\\linkedin_easyapply_bot\\\\agentic rag trials\\\\docs\\\\week10_beamer.pdf', 'file_type': 'application/pdf', 'file_size': 642084, 'creation_date': '2024-09-22', 'last_modified_date': '2022-11-23'}\n",
      "{'page_label': '21', 'file_name': 'week10_beamer.pdf', 'file_path': 'C:\\\\Users\\\\localadmin\\\\Desktop\\\\new desktop\\\\linkedinsucks\\\\linkedin_easyapply_bot\\\\agentic rag trials\\\\docs\\\\week10_beamer.pdf', 'file_type': 'application/pdf', 'file_size': 642084, 'creation_date': '2024-09-22', 'last_modified_date': '2022-11-23'}\n",
      "{'page_label': '22', 'file_name': 'week10_beamer.pdf', 'file_path': 'C:\\\\Users\\\\localadmin\\\\Desktop\\\\new desktop\\\\linkedinsucks\\\\linkedin_easyapply_bot\\\\agentic rag trials\\\\docs\\\\week10_beamer.pdf', 'file_type': 'application/pdf', 'file_size': 642084, 'creation_date': '2024-09-22', 'last_modified_date': '2022-11-23'}\n",
      "{'page_label': '23', 'file_name': 'week10_beamer.pdf', 'file_path': 'C:\\\\Users\\\\localadmin\\\\Desktop\\\\new desktop\\\\linkedinsucks\\\\linkedin_easyapply_bot\\\\agentic rag trials\\\\docs\\\\week10_beamer.pdf', 'file_type': 'application/pdf', 'file_size': 642084, 'creation_date': '2024-09-22', 'last_modified_date': '2022-11-23'}\n",
      "{'page_label': '24', 'file_name': 'week10_beamer.pdf', 'file_path': 'C:\\\\Users\\\\localadmin\\\\Desktop\\\\new desktop\\\\linkedinsucks\\\\linkedin_easyapply_bot\\\\agentic rag trials\\\\docs\\\\week10_beamer.pdf', 'file_type': 'application/pdf', 'file_size': 642084, 'creation_date': '2024-09-22', 'last_modified_date': '2022-11-23'}\n",
      "{'page_label': '25', 'file_name': 'week10_beamer.pdf', 'file_path': 'C:\\\\Users\\\\localadmin\\\\Desktop\\\\new desktop\\\\linkedinsucks\\\\linkedin_easyapply_bot\\\\agentic rag trials\\\\docs\\\\week10_beamer.pdf', 'file_type': 'application/pdf', 'file_size': 642084, 'creation_date': '2024-09-22', 'last_modified_date': '2022-11-23'}\n",
      "{'page_label': '26', 'file_name': 'week10_beamer.pdf', 'file_path': 'C:\\\\Users\\\\localadmin\\\\Desktop\\\\new desktop\\\\linkedinsucks\\\\linkedin_easyapply_bot\\\\agentic rag trials\\\\docs\\\\week10_beamer.pdf', 'file_type': 'application/pdf', 'file_size': 642084, 'creation_date': '2024-09-22', 'last_modified_date': '2022-11-23'}\n",
      "{'page_label': '27', 'file_name': 'week10_beamer.pdf', 'file_path': 'C:\\\\Users\\\\localadmin\\\\Desktop\\\\new desktop\\\\linkedinsucks\\\\linkedin_easyapply_bot\\\\agentic rag trials\\\\docs\\\\week10_beamer.pdf', 'file_type': 'application/pdf', 'file_size': 642084, 'creation_date': '2024-09-22', 'last_modified_date': '2022-11-23'}\n",
      "{'page_label': '28', 'file_name': 'week10_beamer.pdf', 'file_path': 'C:\\\\Users\\\\localadmin\\\\Desktop\\\\new desktop\\\\linkedinsucks\\\\linkedin_easyapply_bot\\\\agentic rag trials\\\\docs\\\\week10_beamer.pdf', 'file_type': 'application/pdf', 'file_size': 642084, 'creation_date': '2024-09-22', 'last_modified_date': '2022-11-23'}\n",
      "{'page_label': '29', 'file_name': 'week10_beamer.pdf', 'file_path': 'C:\\\\Users\\\\localadmin\\\\Desktop\\\\new desktop\\\\linkedinsucks\\\\linkedin_easyapply_bot\\\\agentic rag trials\\\\docs\\\\week10_beamer.pdf', 'file_type': 'application/pdf', 'file_size': 642084, 'creation_date': '2024-09-22', 'last_modified_date': '2022-11-23'}\n",
      "{'page_label': '30', 'file_name': 'week10_beamer.pdf', 'file_path': 'C:\\\\Users\\\\localadmin\\\\Desktop\\\\new desktop\\\\linkedinsucks\\\\linkedin_easyapply_bot\\\\agentic rag trials\\\\docs\\\\week10_beamer.pdf', 'file_type': 'application/pdf', 'file_size': 642084, 'creation_date': '2024-09-22', 'last_modified_date': '2022-11-23'}\n",
      "{'page_label': '31', 'file_name': 'week10_beamer.pdf', 'file_path': 'C:\\\\Users\\\\localadmin\\\\Desktop\\\\new desktop\\\\linkedinsucks\\\\linkedin_easyapply_bot\\\\agentic rag trials\\\\docs\\\\week10_beamer.pdf', 'file_type': 'application/pdf', 'file_size': 642084, 'creation_date': '2024-09-22', 'last_modified_date': '2022-11-23'}\n",
      "{'page_label': '32', 'file_name': 'week10_beamer.pdf', 'file_path': 'C:\\\\Users\\\\localadmin\\\\Desktop\\\\new desktop\\\\linkedinsucks\\\\linkedin_easyapply_bot\\\\agentic rag trials\\\\docs\\\\week10_beamer.pdf', 'file_type': 'application/pdf', 'file_size': 642084, 'creation_date': '2024-09-22', 'last_modified_date': '2022-11-23'}\n",
      "{'page_label': '1', 'file_name': 'week1_beamer.pdf', 'file_path': 'C:\\\\Users\\\\localadmin\\\\Desktop\\\\new desktop\\\\linkedinsucks\\\\linkedin_easyapply_bot\\\\agentic rag trials\\\\docs\\\\week1_beamer.pdf', 'file_type': 'application/pdf', 'file_size': 1370171, 'creation_date': '2024-09-22', 'last_modified_date': '2022-11-06'}\n",
      "{'page_label': '2', 'file_name': 'week1_beamer.pdf', 'file_path': 'C:\\\\Users\\\\localadmin\\\\Desktop\\\\new desktop\\\\linkedinsucks\\\\linkedin_easyapply_bot\\\\agentic rag trials\\\\docs\\\\week1_beamer.pdf', 'file_type': 'application/pdf', 'file_size': 1370171, 'creation_date': '2024-09-22', 'last_modified_date': '2022-11-06'}\n",
      "{'page_label': '3', 'file_name': 'week1_beamer.pdf', 'file_path': 'C:\\\\Users\\\\localadmin\\\\Desktop\\\\new desktop\\\\linkedinsucks\\\\linkedin_easyapply_bot\\\\agentic rag trials\\\\docs\\\\week1_beamer.pdf', 'file_type': 'application/pdf', 'file_size': 1370171, 'creation_date': '2024-09-22', 'last_modified_date': '2022-11-06'}\n",
      "{'page_label': '4', 'file_name': 'week1_beamer.pdf', 'file_path': 'C:\\\\Users\\\\localadmin\\\\Desktop\\\\new desktop\\\\linkedinsucks\\\\linkedin_easyapply_bot\\\\agentic rag trials\\\\docs\\\\week1_beamer.pdf', 'file_type': 'application/pdf', 'file_size': 1370171, 'creation_date': '2024-09-22', 'last_modified_date': '2022-11-06'}\n",
      "{'page_label': '5', 'file_name': 'week1_beamer.pdf', 'file_path': 'C:\\\\Users\\\\localadmin\\\\Desktop\\\\new desktop\\\\linkedinsucks\\\\linkedin_easyapply_bot\\\\agentic rag trials\\\\docs\\\\week1_beamer.pdf', 'file_type': 'application/pdf', 'file_size': 1370171, 'creation_date': '2024-09-22', 'last_modified_date': '2022-11-06'}\n",
      "{'page_label': '6', 'file_name': 'week1_beamer.pdf', 'file_path': 'C:\\\\Users\\\\localadmin\\\\Desktop\\\\new desktop\\\\linkedinsucks\\\\linkedin_easyapply_bot\\\\agentic rag trials\\\\docs\\\\week1_beamer.pdf', 'file_type': 'application/pdf', 'file_size': 1370171, 'creation_date': '2024-09-22', 'last_modified_date': '2022-11-06'}\n",
      "{'page_label': '7', 'file_name': 'week1_beamer.pdf', 'file_path': 'C:\\\\Users\\\\localadmin\\\\Desktop\\\\new desktop\\\\linkedinsucks\\\\linkedin_easyapply_bot\\\\agentic rag trials\\\\docs\\\\week1_beamer.pdf', 'file_type': 'application/pdf', 'file_size': 1370171, 'creation_date': '2024-09-22', 'last_modified_date': '2022-11-06'}\n",
      "{'page_label': '8', 'file_name': 'week1_beamer.pdf', 'file_path': 'C:\\\\Users\\\\localadmin\\\\Desktop\\\\new desktop\\\\linkedinsucks\\\\linkedin_easyapply_bot\\\\agentic rag trials\\\\docs\\\\week1_beamer.pdf', 'file_type': 'application/pdf', 'file_size': 1370171, 'creation_date': '2024-09-22', 'last_modified_date': '2022-11-06'}\n",
      "{'page_label': '9', 'file_name': 'week1_beamer.pdf', 'file_path': 'C:\\\\Users\\\\localadmin\\\\Desktop\\\\new desktop\\\\linkedinsucks\\\\linkedin_easyapply_bot\\\\agentic rag trials\\\\docs\\\\week1_beamer.pdf', 'file_type': 'application/pdf', 'file_size': 1370171, 'creation_date': '2024-09-22', 'last_modified_date': '2022-11-06'}\n",
      "{'page_label': '10', 'file_name': 'week1_beamer.pdf', 'file_path': 'C:\\\\Users\\\\localadmin\\\\Desktop\\\\new desktop\\\\linkedinsucks\\\\linkedin_easyapply_bot\\\\agentic rag trials\\\\docs\\\\week1_beamer.pdf', 'file_type': 'application/pdf', 'file_size': 1370171, 'creation_date': '2024-09-22', 'last_modified_date': '2022-11-06'}\n",
      "{'page_label': '11', 'file_name': 'week1_beamer.pdf', 'file_path': 'C:\\\\Users\\\\localadmin\\\\Desktop\\\\new desktop\\\\linkedinsucks\\\\linkedin_easyapply_bot\\\\agentic rag trials\\\\docs\\\\week1_beamer.pdf', 'file_type': 'application/pdf', 'file_size': 1370171, 'creation_date': '2024-09-22', 'last_modified_date': '2022-11-06'}\n",
      "{'page_label': '12', 'file_name': 'week1_beamer.pdf', 'file_path': 'C:\\\\Users\\\\localadmin\\\\Desktop\\\\new desktop\\\\linkedinsucks\\\\linkedin_easyapply_bot\\\\agentic rag trials\\\\docs\\\\week1_beamer.pdf', 'file_type': 'application/pdf', 'file_size': 1370171, 'creation_date': '2024-09-22', 'last_modified_date': '2022-11-06'}\n",
      "{'page_label': '13', 'file_name': 'week1_beamer.pdf', 'file_path': 'C:\\\\Users\\\\localadmin\\\\Desktop\\\\new desktop\\\\linkedinsucks\\\\linkedin_easyapply_bot\\\\agentic rag trials\\\\docs\\\\week1_beamer.pdf', 'file_type': 'application/pdf', 'file_size': 1370171, 'creation_date': '2024-09-22', 'last_modified_date': '2022-11-06'}\n",
      "{'page_label': '14', 'file_name': 'week1_beamer.pdf', 'file_path': 'C:\\\\Users\\\\localadmin\\\\Desktop\\\\new desktop\\\\linkedinsucks\\\\linkedin_easyapply_bot\\\\agentic rag trials\\\\docs\\\\week1_beamer.pdf', 'file_type': 'application/pdf', 'file_size': 1370171, 'creation_date': '2024-09-22', 'last_modified_date': '2022-11-06'}\n",
      "{'page_label': '15', 'file_name': 'week1_beamer.pdf', 'file_path': 'C:\\\\Users\\\\localadmin\\\\Desktop\\\\new desktop\\\\linkedinsucks\\\\linkedin_easyapply_bot\\\\agentic rag trials\\\\docs\\\\week1_beamer.pdf', 'file_type': 'application/pdf', 'file_size': 1370171, 'creation_date': '2024-09-22', 'last_modified_date': '2022-11-06'}\n",
      "{'page_label': '16', 'file_name': 'week1_beamer.pdf', 'file_path': 'C:\\\\Users\\\\localadmin\\\\Desktop\\\\new desktop\\\\linkedinsucks\\\\linkedin_easyapply_bot\\\\agentic rag trials\\\\docs\\\\week1_beamer.pdf', 'file_type': 'application/pdf', 'file_size': 1370171, 'creation_date': '2024-09-22', 'last_modified_date': '2022-11-06'}\n",
      "{'page_label': '17', 'file_name': 'week1_beamer.pdf', 'file_path': 'C:\\\\Users\\\\localadmin\\\\Desktop\\\\new desktop\\\\linkedinsucks\\\\linkedin_easyapply_bot\\\\agentic rag trials\\\\docs\\\\week1_beamer.pdf', 'file_type': 'application/pdf', 'file_size': 1370171, 'creation_date': '2024-09-22', 'last_modified_date': '2022-11-06'}\n",
      "{'page_label': '18', 'file_name': 'week1_beamer.pdf', 'file_path': 'C:\\\\Users\\\\localadmin\\\\Desktop\\\\new desktop\\\\linkedinsucks\\\\linkedin_easyapply_bot\\\\agentic rag trials\\\\docs\\\\week1_beamer.pdf', 'file_type': 'application/pdf', 'file_size': 1370171, 'creation_date': '2024-09-22', 'last_modified_date': '2022-11-06'}\n",
      "{'page_label': '19', 'file_name': 'week1_beamer.pdf', 'file_path': 'C:\\\\Users\\\\localadmin\\\\Desktop\\\\new desktop\\\\linkedinsucks\\\\linkedin_easyapply_bot\\\\agentic rag trials\\\\docs\\\\week1_beamer.pdf', 'file_type': 'application/pdf', 'file_size': 1370171, 'creation_date': '2024-09-22', 'last_modified_date': '2022-11-06'}\n",
      "{'page_label': '20', 'file_name': 'week1_beamer.pdf', 'file_path': 'C:\\\\Users\\\\localadmin\\\\Desktop\\\\new desktop\\\\linkedinsucks\\\\linkedin_easyapply_bot\\\\agentic rag trials\\\\docs\\\\week1_beamer.pdf', 'file_type': 'application/pdf', 'file_size': 1370171, 'creation_date': '2024-09-22', 'last_modified_date': '2022-11-06'}\n",
      "{'page_label': '21', 'file_name': 'week1_beamer.pdf', 'file_path': 'C:\\\\Users\\\\localadmin\\\\Desktop\\\\new desktop\\\\linkedinsucks\\\\linkedin_easyapply_bot\\\\agentic rag trials\\\\docs\\\\week1_beamer.pdf', 'file_type': 'application/pdf', 'file_size': 1370171, 'creation_date': '2024-09-22', 'last_modified_date': '2022-11-06'}\n",
      "{'page_label': '22', 'file_name': 'week1_beamer.pdf', 'file_path': 'C:\\\\Users\\\\localadmin\\\\Desktop\\\\new desktop\\\\linkedinsucks\\\\linkedin_easyapply_bot\\\\agentic rag trials\\\\docs\\\\week1_beamer.pdf', 'file_type': 'application/pdf', 'file_size': 1370171, 'creation_date': '2024-09-22', 'last_modified_date': '2022-11-06'}\n",
      "{'page_label': '23', 'file_name': 'week1_beamer.pdf', 'file_path': 'C:\\\\Users\\\\localadmin\\\\Desktop\\\\new desktop\\\\linkedinsucks\\\\linkedin_easyapply_bot\\\\agentic rag trials\\\\docs\\\\week1_beamer.pdf', 'file_type': 'application/pdf', 'file_size': 1370171, 'creation_date': '2024-09-22', 'last_modified_date': '2022-11-06'}\n",
      "{'page_label': '24', 'file_name': 'week1_beamer.pdf', 'file_path': 'C:\\\\Users\\\\localadmin\\\\Desktop\\\\new desktop\\\\linkedinsucks\\\\linkedin_easyapply_bot\\\\agentic rag trials\\\\docs\\\\week1_beamer.pdf', 'file_type': 'application/pdf', 'file_size': 1370171, 'creation_date': '2024-09-22', 'last_modified_date': '2022-11-06'}\n",
      "{'page_label': '25', 'file_name': 'week1_beamer.pdf', 'file_path': 'C:\\\\Users\\\\localadmin\\\\Desktop\\\\new desktop\\\\linkedinsucks\\\\linkedin_easyapply_bot\\\\agentic rag trials\\\\docs\\\\week1_beamer.pdf', 'file_type': 'application/pdf', 'file_size': 1370171, 'creation_date': '2024-09-22', 'last_modified_date': '2022-11-06'}\n",
      "{'page_label': '26', 'file_name': 'week1_beamer.pdf', 'file_path': 'C:\\\\Users\\\\localadmin\\\\Desktop\\\\new desktop\\\\linkedinsucks\\\\linkedin_easyapply_bot\\\\agentic rag trials\\\\docs\\\\week1_beamer.pdf', 'file_type': 'application/pdf', 'file_size': 1370171, 'creation_date': '2024-09-22', 'last_modified_date': '2022-11-06'}\n",
      "{'page_label': '1', 'file_name': 'week2_beamer.pdf', 'file_path': 'C:\\\\Users\\\\localadmin\\\\Desktop\\\\new desktop\\\\linkedinsucks\\\\linkedin_easyapply_bot\\\\agentic rag trials\\\\docs\\\\week2_beamer.pdf', 'file_type': 'application/pdf', 'file_size': 371203, 'creation_date': '2024-09-22', 'last_modified_date': '2022-11-06'}\n",
      "{'page_label': '2', 'file_name': 'week2_beamer.pdf', 'file_path': 'C:\\\\Users\\\\localadmin\\\\Desktop\\\\new desktop\\\\linkedinsucks\\\\linkedin_easyapply_bot\\\\agentic rag trials\\\\docs\\\\week2_beamer.pdf', 'file_type': 'application/pdf', 'file_size': 371203, 'creation_date': '2024-09-22', 'last_modified_date': '2022-11-06'}\n",
      "{'page_label': '3', 'file_name': 'week2_beamer.pdf', 'file_path': 'C:\\\\Users\\\\localadmin\\\\Desktop\\\\new desktop\\\\linkedinsucks\\\\linkedin_easyapply_bot\\\\agentic rag trials\\\\docs\\\\week2_beamer.pdf', 'file_type': 'application/pdf', 'file_size': 371203, 'creation_date': '2024-09-22', 'last_modified_date': '2022-11-06'}\n",
      "{'page_label': '4', 'file_name': 'week2_beamer.pdf', 'file_path': 'C:\\\\Users\\\\localadmin\\\\Desktop\\\\new desktop\\\\linkedinsucks\\\\linkedin_easyapply_bot\\\\agentic rag trials\\\\docs\\\\week2_beamer.pdf', 'file_type': 'application/pdf', 'file_size': 371203, 'creation_date': '2024-09-22', 'last_modified_date': '2022-11-06'}\n",
      "{'page_label': '5', 'file_name': 'week2_beamer.pdf', 'file_path': 'C:\\\\Users\\\\localadmin\\\\Desktop\\\\new desktop\\\\linkedinsucks\\\\linkedin_easyapply_bot\\\\agentic rag trials\\\\docs\\\\week2_beamer.pdf', 'file_type': 'application/pdf', 'file_size': 371203, 'creation_date': '2024-09-22', 'last_modified_date': '2022-11-06'}\n",
      "{'page_label': '6', 'file_name': 'week2_beamer.pdf', 'file_path': 'C:\\\\Users\\\\localadmin\\\\Desktop\\\\new desktop\\\\linkedinsucks\\\\linkedin_easyapply_bot\\\\agentic rag trials\\\\docs\\\\week2_beamer.pdf', 'file_type': 'application/pdf', 'file_size': 371203, 'creation_date': '2024-09-22', 'last_modified_date': '2022-11-06'}\n",
      "{'page_label': '7', 'file_name': 'week2_beamer.pdf', 'file_path': 'C:\\\\Users\\\\localadmin\\\\Desktop\\\\new desktop\\\\linkedinsucks\\\\linkedin_easyapply_bot\\\\agentic rag trials\\\\docs\\\\week2_beamer.pdf', 'file_type': 'application/pdf', 'file_size': 371203, 'creation_date': '2024-09-22', 'last_modified_date': '2022-11-06'}\n",
      "{'page_label': '8', 'file_name': 'week2_beamer.pdf', 'file_path': 'C:\\\\Users\\\\localadmin\\\\Desktop\\\\new desktop\\\\linkedinsucks\\\\linkedin_easyapply_bot\\\\agentic rag trials\\\\docs\\\\week2_beamer.pdf', 'file_type': 'application/pdf', 'file_size': 371203, 'creation_date': '2024-09-22', 'last_modified_date': '2022-11-06'}\n",
      "{'page_label': '9', 'file_name': 'week2_beamer.pdf', 'file_path': 'C:\\\\Users\\\\localadmin\\\\Desktop\\\\new desktop\\\\linkedinsucks\\\\linkedin_easyapply_bot\\\\agentic rag trials\\\\docs\\\\week2_beamer.pdf', 'file_type': 'application/pdf', 'file_size': 371203, 'creation_date': '2024-09-22', 'last_modified_date': '2022-11-06'}\n",
      "{'page_label': '1', 'file_name': 'week3_beamer.pdf', 'file_path': 'C:\\\\Users\\\\localadmin\\\\Desktop\\\\new desktop\\\\linkedinsucks\\\\linkedin_easyapply_bot\\\\agentic rag trials\\\\docs\\\\week3_beamer.pdf', 'file_type': 'application/pdf', 'file_size': 392519, 'creation_date': '2024-09-22', 'last_modified_date': '2022-11-06'}\n",
      "{'page_label': '2', 'file_name': 'week3_beamer.pdf', 'file_path': 'C:\\\\Users\\\\localadmin\\\\Desktop\\\\new desktop\\\\linkedinsucks\\\\linkedin_easyapply_bot\\\\agentic rag trials\\\\docs\\\\week3_beamer.pdf', 'file_type': 'application/pdf', 'file_size': 392519, 'creation_date': '2024-09-22', 'last_modified_date': '2022-11-06'}\n",
      "{'page_label': '3', 'file_name': 'week3_beamer.pdf', 'file_path': 'C:\\\\Users\\\\localadmin\\\\Desktop\\\\new desktop\\\\linkedinsucks\\\\linkedin_easyapply_bot\\\\agentic rag trials\\\\docs\\\\week3_beamer.pdf', 'file_type': 'application/pdf', 'file_size': 392519, 'creation_date': '2024-09-22', 'last_modified_date': '2022-11-06'}\n",
      "{'page_label': '4', 'file_name': 'week3_beamer.pdf', 'file_path': 'C:\\\\Users\\\\localadmin\\\\Desktop\\\\new desktop\\\\linkedinsucks\\\\linkedin_easyapply_bot\\\\agentic rag trials\\\\docs\\\\week3_beamer.pdf', 'file_type': 'application/pdf', 'file_size': 392519, 'creation_date': '2024-09-22', 'last_modified_date': '2022-11-06'}\n",
      "{'page_label': '5', 'file_name': 'week3_beamer.pdf', 'file_path': 'C:\\\\Users\\\\localadmin\\\\Desktop\\\\new desktop\\\\linkedinsucks\\\\linkedin_easyapply_bot\\\\agentic rag trials\\\\docs\\\\week3_beamer.pdf', 'file_type': 'application/pdf', 'file_size': 392519, 'creation_date': '2024-09-22', 'last_modified_date': '2022-11-06'}\n",
      "{'page_label': '6', 'file_name': 'week3_beamer.pdf', 'file_path': 'C:\\\\Users\\\\localadmin\\\\Desktop\\\\new desktop\\\\linkedinsucks\\\\linkedin_easyapply_bot\\\\agentic rag trials\\\\docs\\\\week3_beamer.pdf', 'file_type': 'application/pdf', 'file_size': 392519, 'creation_date': '2024-09-22', 'last_modified_date': '2022-11-06'}\n",
      "{'page_label': '7', 'file_name': 'week3_beamer.pdf', 'file_path': 'C:\\\\Users\\\\localadmin\\\\Desktop\\\\new desktop\\\\linkedinsucks\\\\linkedin_easyapply_bot\\\\agentic rag trials\\\\docs\\\\week3_beamer.pdf', 'file_type': 'application/pdf', 'file_size': 392519, 'creation_date': '2024-09-22', 'last_modified_date': '2022-11-06'}\n",
      "{'page_label': '8', 'file_name': 'week3_beamer.pdf', 'file_path': 'C:\\\\Users\\\\localadmin\\\\Desktop\\\\new desktop\\\\linkedinsucks\\\\linkedin_easyapply_bot\\\\agentic rag trials\\\\docs\\\\week3_beamer.pdf', 'file_type': 'application/pdf', 'file_size': 392519, 'creation_date': '2024-09-22', 'last_modified_date': '2022-11-06'}\n",
      "{'page_label': '9', 'file_name': 'week3_beamer.pdf', 'file_path': 'C:\\\\Users\\\\localadmin\\\\Desktop\\\\new desktop\\\\linkedinsucks\\\\linkedin_easyapply_bot\\\\agentic rag trials\\\\docs\\\\week3_beamer.pdf', 'file_type': 'application/pdf', 'file_size': 392519, 'creation_date': '2024-09-22', 'last_modified_date': '2022-11-06'}\n",
      "{'page_label': '10', 'file_name': 'week3_beamer.pdf', 'file_path': 'C:\\\\Users\\\\localadmin\\\\Desktop\\\\new desktop\\\\linkedinsucks\\\\linkedin_easyapply_bot\\\\agentic rag trials\\\\docs\\\\week3_beamer.pdf', 'file_type': 'application/pdf', 'file_size': 392519, 'creation_date': '2024-09-22', 'last_modified_date': '2022-11-06'}\n",
      "{'page_label': '11', 'file_name': 'week3_beamer.pdf', 'file_path': 'C:\\\\Users\\\\localadmin\\\\Desktop\\\\new desktop\\\\linkedinsucks\\\\linkedin_easyapply_bot\\\\agentic rag trials\\\\docs\\\\week3_beamer.pdf', 'file_type': 'application/pdf', 'file_size': 392519, 'creation_date': '2024-09-22', 'last_modified_date': '2022-11-06'}\n",
      "{'page_label': '12', 'file_name': 'week3_beamer.pdf', 'file_path': 'C:\\\\Users\\\\localadmin\\\\Desktop\\\\new desktop\\\\linkedinsucks\\\\linkedin_easyapply_bot\\\\agentic rag trials\\\\docs\\\\week3_beamer.pdf', 'file_type': 'application/pdf', 'file_size': 392519, 'creation_date': '2024-09-22', 'last_modified_date': '2022-11-06'}\n",
      "{'page_label': '1', 'file_name': 'week4_beamer.pdf', 'file_path': 'C:\\\\Users\\\\localadmin\\\\Desktop\\\\new desktop\\\\linkedinsucks\\\\linkedin_easyapply_bot\\\\agentic rag trials\\\\docs\\\\week4_beamer.pdf', 'file_type': 'application/pdf', 'file_size': 699803, 'creation_date': '2024-09-22', 'last_modified_date': '2022-11-06'}\n",
      "{'page_label': '2', 'file_name': 'week4_beamer.pdf', 'file_path': 'C:\\\\Users\\\\localadmin\\\\Desktop\\\\new desktop\\\\linkedinsucks\\\\linkedin_easyapply_bot\\\\agentic rag trials\\\\docs\\\\week4_beamer.pdf', 'file_type': 'application/pdf', 'file_size': 699803, 'creation_date': '2024-09-22', 'last_modified_date': '2022-11-06'}\n",
      "{'page_label': '3', 'file_name': 'week4_beamer.pdf', 'file_path': 'C:\\\\Users\\\\localadmin\\\\Desktop\\\\new desktop\\\\linkedinsucks\\\\linkedin_easyapply_bot\\\\agentic rag trials\\\\docs\\\\week4_beamer.pdf', 'file_type': 'application/pdf', 'file_size': 699803, 'creation_date': '2024-09-22', 'last_modified_date': '2022-11-06'}\n",
      "{'page_label': '4', 'file_name': 'week4_beamer.pdf', 'file_path': 'C:\\\\Users\\\\localadmin\\\\Desktop\\\\new desktop\\\\linkedinsucks\\\\linkedin_easyapply_bot\\\\agentic rag trials\\\\docs\\\\week4_beamer.pdf', 'file_type': 'application/pdf', 'file_size': 699803, 'creation_date': '2024-09-22', 'last_modified_date': '2022-11-06'}\n",
      "{'page_label': '5', 'file_name': 'week4_beamer.pdf', 'file_path': 'C:\\\\Users\\\\localadmin\\\\Desktop\\\\new desktop\\\\linkedinsucks\\\\linkedin_easyapply_bot\\\\agentic rag trials\\\\docs\\\\week4_beamer.pdf', 'file_type': 'application/pdf', 'file_size': 699803, 'creation_date': '2024-09-22', 'last_modified_date': '2022-11-06'}\n",
      "{'page_label': '6', 'file_name': 'week4_beamer.pdf', 'file_path': 'C:\\\\Users\\\\localadmin\\\\Desktop\\\\new desktop\\\\linkedinsucks\\\\linkedin_easyapply_bot\\\\agentic rag trials\\\\docs\\\\week4_beamer.pdf', 'file_type': 'application/pdf', 'file_size': 699803, 'creation_date': '2024-09-22', 'last_modified_date': '2022-11-06'}\n",
      "{'page_label': '7', 'file_name': 'week4_beamer.pdf', 'file_path': 'C:\\\\Users\\\\localadmin\\\\Desktop\\\\new desktop\\\\linkedinsucks\\\\linkedin_easyapply_bot\\\\agentic rag trials\\\\docs\\\\week4_beamer.pdf', 'file_type': 'application/pdf', 'file_size': 699803, 'creation_date': '2024-09-22', 'last_modified_date': '2022-11-06'}\n",
      "{'page_label': '8', 'file_name': 'week4_beamer.pdf', 'file_path': 'C:\\\\Users\\\\localadmin\\\\Desktop\\\\new desktop\\\\linkedinsucks\\\\linkedin_easyapply_bot\\\\agentic rag trials\\\\docs\\\\week4_beamer.pdf', 'file_type': 'application/pdf', 'file_size': 699803, 'creation_date': '2024-09-22', 'last_modified_date': '2022-11-06'}\n",
      "{'page_label': '9', 'file_name': 'week4_beamer.pdf', 'file_path': 'C:\\\\Users\\\\localadmin\\\\Desktop\\\\new desktop\\\\linkedinsucks\\\\linkedin_easyapply_bot\\\\agentic rag trials\\\\docs\\\\week4_beamer.pdf', 'file_type': 'application/pdf', 'file_size': 699803, 'creation_date': '2024-09-22', 'last_modified_date': '2022-11-06'}\n",
      "{'page_label': '10', 'file_name': 'week4_beamer.pdf', 'file_path': 'C:\\\\Users\\\\localadmin\\\\Desktop\\\\new desktop\\\\linkedinsucks\\\\linkedin_easyapply_bot\\\\agentic rag trials\\\\docs\\\\week4_beamer.pdf', 'file_type': 'application/pdf', 'file_size': 699803, 'creation_date': '2024-09-22', 'last_modified_date': '2022-11-06'}\n",
      "{'page_label': '11', 'file_name': 'week4_beamer.pdf', 'file_path': 'C:\\\\Users\\\\localadmin\\\\Desktop\\\\new desktop\\\\linkedinsucks\\\\linkedin_easyapply_bot\\\\agentic rag trials\\\\docs\\\\week4_beamer.pdf', 'file_type': 'application/pdf', 'file_size': 699803, 'creation_date': '2024-09-22', 'last_modified_date': '2022-11-06'}\n",
      "{'page_label': '12', 'file_name': 'week4_beamer.pdf', 'file_path': 'C:\\\\Users\\\\localadmin\\\\Desktop\\\\new desktop\\\\linkedinsucks\\\\linkedin_easyapply_bot\\\\agentic rag trials\\\\docs\\\\week4_beamer.pdf', 'file_type': 'application/pdf', 'file_size': 699803, 'creation_date': '2024-09-22', 'last_modified_date': '2022-11-06'}\n",
      "{'page_label': '13', 'file_name': 'week4_beamer.pdf', 'file_path': 'C:\\\\Users\\\\localadmin\\\\Desktop\\\\new desktop\\\\linkedinsucks\\\\linkedin_easyapply_bot\\\\agentic rag trials\\\\docs\\\\week4_beamer.pdf', 'file_type': 'application/pdf', 'file_size': 699803, 'creation_date': '2024-09-22', 'last_modified_date': '2022-11-06'}\n",
      "{'page_label': '14', 'file_name': 'week4_beamer.pdf', 'file_path': 'C:\\\\Users\\\\localadmin\\\\Desktop\\\\new desktop\\\\linkedinsucks\\\\linkedin_easyapply_bot\\\\agentic rag trials\\\\docs\\\\week4_beamer.pdf', 'file_type': 'application/pdf', 'file_size': 699803, 'creation_date': '2024-09-22', 'last_modified_date': '2022-11-06'}\n",
      "{'page_label': '15', 'file_name': 'week4_beamer.pdf', 'file_path': 'C:\\\\Users\\\\localadmin\\\\Desktop\\\\new desktop\\\\linkedinsucks\\\\linkedin_easyapply_bot\\\\agentic rag trials\\\\docs\\\\week4_beamer.pdf', 'file_type': 'application/pdf', 'file_size': 699803, 'creation_date': '2024-09-22', 'last_modified_date': '2022-11-06'}\n",
      "{'page_label': '16', 'file_name': 'week4_beamer.pdf', 'file_path': 'C:\\\\Users\\\\localadmin\\\\Desktop\\\\new desktop\\\\linkedinsucks\\\\linkedin_easyapply_bot\\\\agentic rag trials\\\\docs\\\\week4_beamer.pdf', 'file_type': 'application/pdf', 'file_size': 699803, 'creation_date': '2024-09-22', 'last_modified_date': '2022-11-06'}\n",
      "{'page_label': '1', 'file_name': 'week6_beamer.pdf', 'file_path': 'C:\\\\Users\\\\localadmin\\\\Desktop\\\\new desktop\\\\linkedinsucks\\\\linkedin_easyapply_bot\\\\agentic rag trials\\\\docs\\\\week6_beamer.pdf', 'file_type': 'application/pdf', 'file_size': 463284, 'creation_date': '2024-09-22', 'last_modified_date': '2022-11-06'}\n",
      "{'page_label': '2', 'file_name': 'week6_beamer.pdf', 'file_path': 'C:\\\\Users\\\\localadmin\\\\Desktop\\\\new desktop\\\\linkedinsucks\\\\linkedin_easyapply_bot\\\\agentic rag trials\\\\docs\\\\week6_beamer.pdf', 'file_type': 'application/pdf', 'file_size': 463284, 'creation_date': '2024-09-22', 'last_modified_date': '2022-11-06'}\n",
      "{'page_label': '3', 'file_name': 'week6_beamer.pdf', 'file_path': 'C:\\\\Users\\\\localadmin\\\\Desktop\\\\new desktop\\\\linkedinsucks\\\\linkedin_easyapply_bot\\\\agentic rag trials\\\\docs\\\\week6_beamer.pdf', 'file_type': 'application/pdf', 'file_size': 463284, 'creation_date': '2024-09-22', 'last_modified_date': '2022-11-06'}\n",
      "{'page_label': '3', 'file_name': 'week6_beamer.pdf', 'file_path': 'C:\\\\Users\\\\localadmin\\\\Desktop\\\\new desktop\\\\linkedinsucks\\\\linkedin_easyapply_bot\\\\agentic rag trials\\\\docs\\\\week6_beamer.pdf', 'file_type': 'application/pdf', 'file_size': 463284, 'creation_date': '2024-09-22', 'last_modified_date': '2022-11-06'}\n",
      "{'page_label': '4', 'file_name': 'week6_beamer.pdf', 'file_path': 'C:\\\\Users\\\\localadmin\\\\Desktop\\\\new desktop\\\\linkedinsucks\\\\linkedin_easyapply_bot\\\\agentic rag trials\\\\docs\\\\week6_beamer.pdf', 'file_type': 'application/pdf', 'file_size': 463284, 'creation_date': '2024-09-22', 'last_modified_date': '2022-11-06'}\n",
      "{'page_label': '5', 'file_name': 'week6_beamer.pdf', 'file_path': 'C:\\\\Users\\\\localadmin\\\\Desktop\\\\new desktop\\\\linkedinsucks\\\\linkedin_easyapply_bot\\\\agentic rag trials\\\\docs\\\\week6_beamer.pdf', 'file_type': 'application/pdf', 'file_size': 463284, 'creation_date': '2024-09-22', 'last_modified_date': '2022-11-06'}\n",
      "{'page_label': '6', 'file_name': 'week6_beamer.pdf', 'file_path': 'C:\\\\Users\\\\localadmin\\\\Desktop\\\\new desktop\\\\linkedinsucks\\\\linkedin_easyapply_bot\\\\agentic rag trials\\\\docs\\\\week6_beamer.pdf', 'file_type': 'application/pdf', 'file_size': 463284, 'creation_date': '2024-09-22', 'last_modified_date': '2022-11-06'}\n",
      "{'page_label': '7', 'file_name': 'week6_beamer.pdf', 'file_path': 'C:\\\\Users\\\\localadmin\\\\Desktop\\\\new desktop\\\\linkedinsucks\\\\linkedin_easyapply_bot\\\\agentic rag trials\\\\docs\\\\week6_beamer.pdf', 'file_type': 'application/pdf', 'file_size': 463284, 'creation_date': '2024-09-22', 'last_modified_date': '2022-11-06'}\n",
      "{'page_label': '8', 'file_name': 'week6_beamer.pdf', 'file_path': 'C:\\\\Users\\\\localadmin\\\\Desktop\\\\new desktop\\\\linkedinsucks\\\\linkedin_easyapply_bot\\\\agentic rag trials\\\\docs\\\\week6_beamer.pdf', 'file_type': 'application/pdf', 'file_size': 463284, 'creation_date': '2024-09-22', 'last_modified_date': '2022-11-06'}\n",
      "{'page_label': '9', 'file_name': 'week6_beamer.pdf', 'file_path': 'C:\\\\Users\\\\localadmin\\\\Desktop\\\\new desktop\\\\linkedinsucks\\\\linkedin_easyapply_bot\\\\agentic rag trials\\\\docs\\\\week6_beamer.pdf', 'file_type': 'application/pdf', 'file_size': 463284, 'creation_date': '2024-09-22', 'last_modified_date': '2022-11-06'}\n",
      "{'page_label': '10', 'file_name': 'week6_beamer.pdf', 'file_path': 'C:\\\\Users\\\\localadmin\\\\Desktop\\\\new desktop\\\\linkedinsucks\\\\linkedin_easyapply_bot\\\\agentic rag trials\\\\docs\\\\week6_beamer.pdf', 'file_type': 'application/pdf', 'file_size': 463284, 'creation_date': '2024-09-22', 'last_modified_date': '2022-11-06'}\n",
      "{'page_label': '11', 'file_name': 'week6_beamer.pdf', 'file_path': 'C:\\\\Users\\\\localadmin\\\\Desktop\\\\new desktop\\\\linkedinsucks\\\\linkedin_easyapply_bot\\\\agentic rag trials\\\\docs\\\\week6_beamer.pdf', 'file_type': 'application/pdf', 'file_size': 463284, 'creation_date': '2024-09-22', 'last_modified_date': '2022-11-06'}\n",
      "{'page_label': '12', 'file_name': 'week6_beamer.pdf', 'file_path': 'C:\\\\Users\\\\localadmin\\\\Desktop\\\\new desktop\\\\linkedinsucks\\\\linkedin_easyapply_bot\\\\agentic rag trials\\\\docs\\\\week6_beamer.pdf', 'file_type': 'application/pdf', 'file_size': 463284, 'creation_date': '2024-09-22', 'last_modified_date': '2022-11-06'}\n",
      "{'page_label': '13', 'file_name': 'week6_beamer.pdf', 'file_path': 'C:\\\\Users\\\\localadmin\\\\Desktop\\\\new desktop\\\\linkedinsucks\\\\linkedin_easyapply_bot\\\\agentic rag trials\\\\docs\\\\week6_beamer.pdf', 'file_type': 'application/pdf', 'file_size': 463284, 'creation_date': '2024-09-22', 'last_modified_date': '2022-11-06'}\n",
      "{'page_label': '14', 'file_name': 'week6_beamer.pdf', 'file_path': 'C:\\\\Users\\\\localadmin\\\\Desktop\\\\new desktop\\\\linkedinsucks\\\\linkedin_easyapply_bot\\\\agentic rag trials\\\\docs\\\\week6_beamer.pdf', 'file_type': 'application/pdf', 'file_size': 463284, 'creation_date': '2024-09-22', 'last_modified_date': '2022-11-06'}\n",
      "{'page_label': '15', 'file_name': 'week6_beamer.pdf', 'file_path': 'C:\\\\Users\\\\localadmin\\\\Desktop\\\\new desktop\\\\linkedinsucks\\\\linkedin_easyapply_bot\\\\agentic rag trials\\\\docs\\\\week6_beamer.pdf', 'file_type': 'application/pdf', 'file_size': 463284, 'creation_date': '2024-09-22', 'last_modified_date': '2022-11-06'}\n",
      "{'page_label': '16', 'file_name': 'week6_beamer.pdf', 'file_path': 'C:\\\\Users\\\\localadmin\\\\Desktop\\\\new desktop\\\\linkedinsucks\\\\linkedin_easyapply_bot\\\\agentic rag trials\\\\docs\\\\week6_beamer.pdf', 'file_type': 'application/pdf', 'file_size': 463284, 'creation_date': '2024-09-22', 'last_modified_date': '2022-11-06'}\n",
      "{'page_label': '17', 'file_name': 'week6_beamer.pdf', 'file_path': 'C:\\\\Users\\\\localadmin\\\\Desktop\\\\new desktop\\\\linkedinsucks\\\\linkedin_easyapply_bot\\\\agentic rag trials\\\\docs\\\\week6_beamer.pdf', 'file_type': 'application/pdf', 'file_size': 463284, 'creation_date': '2024-09-22', 'last_modified_date': '2022-11-06'}\n",
      "{'page_label': '18', 'file_name': 'week6_beamer.pdf', 'file_path': 'C:\\\\Users\\\\localadmin\\\\Desktop\\\\new desktop\\\\linkedinsucks\\\\linkedin_easyapply_bot\\\\agentic rag trials\\\\docs\\\\week6_beamer.pdf', 'file_type': 'application/pdf', 'file_size': 463284, 'creation_date': '2024-09-22', 'last_modified_date': '2022-11-06'}\n",
      "{'page_label': '19', 'file_name': 'week6_beamer.pdf', 'file_path': 'C:\\\\Users\\\\localadmin\\\\Desktop\\\\new desktop\\\\linkedinsucks\\\\linkedin_easyapply_bot\\\\agentic rag trials\\\\docs\\\\week6_beamer.pdf', 'file_type': 'application/pdf', 'file_size': 463284, 'creation_date': '2024-09-22', 'last_modified_date': '2022-11-06'}\n",
      "{'page_label': '20', 'file_name': 'week6_beamer.pdf', 'file_path': 'C:\\\\Users\\\\localadmin\\\\Desktop\\\\new desktop\\\\linkedinsucks\\\\linkedin_easyapply_bot\\\\agentic rag trials\\\\docs\\\\week6_beamer.pdf', 'file_type': 'application/pdf', 'file_size': 463284, 'creation_date': '2024-09-22', 'last_modified_date': '2022-11-06'}\n",
      "{'page_label': '21', 'file_name': 'week6_beamer.pdf', 'file_path': 'C:\\\\Users\\\\localadmin\\\\Desktop\\\\new desktop\\\\linkedinsucks\\\\linkedin_easyapply_bot\\\\agentic rag trials\\\\docs\\\\week6_beamer.pdf', 'file_type': 'application/pdf', 'file_size': 463284, 'creation_date': '2024-09-22', 'last_modified_date': '2022-11-06'}\n",
      "{'page_label': '22', 'file_name': 'week6_beamer.pdf', 'file_path': 'C:\\\\Users\\\\localadmin\\\\Desktop\\\\new desktop\\\\linkedinsucks\\\\linkedin_easyapply_bot\\\\agentic rag trials\\\\docs\\\\week6_beamer.pdf', 'file_type': 'application/pdf', 'file_size': 463284, 'creation_date': '2024-09-22', 'last_modified_date': '2022-11-06'}\n",
      "{'page_label': '23', 'file_name': 'week6_beamer.pdf', 'file_path': 'C:\\\\Users\\\\localadmin\\\\Desktop\\\\new desktop\\\\linkedinsucks\\\\linkedin_easyapply_bot\\\\agentic rag trials\\\\docs\\\\week6_beamer.pdf', 'file_type': 'application/pdf', 'file_size': 463284, 'creation_date': '2024-09-22', 'last_modified_date': '2022-11-06'}\n",
      "{'page_label': '24', 'file_name': 'week6_beamer.pdf', 'file_path': 'C:\\\\Users\\\\localadmin\\\\Desktop\\\\new desktop\\\\linkedinsucks\\\\linkedin_easyapply_bot\\\\agentic rag trials\\\\docs\\\\week6_beamer.pdf', 'file_type': 'application/pdf', 'file_size': 463284, 'creation_date': '2024-09-22', 'last_modified_date': '2022-11-06'}\n",
      "{'page_label': '25', 'file_name': 'week6_beamer.pdf', 'file_path': 'C:\\\\Users\\\\localadmin\\\\Desktop\\\\new desktop\\\\linkedinsucks\\\\linkedin_easyapply_bot\\\\agentic rag trials\\\\docs\\\\week6_beamer.pdf', 'file_type': 'application/pdf', 'file_size': 463284, 'creation_date': '2024-09-22', 'last_modified_date': '2022-11-06'}\n",
      "{'page_label': '26', 'file_name': 'week6_beamer.pdf', 'file_path': 'C:\\\\Users\\\\localadmin\\\\Desktop\\\\new desktop\\\\linkedinsucks\\\\linkedin_easyapply_bot\\\\agentic rag trials\\\\docs\\\\week6_beamer.pdf', 'file_type': 'application/pdf', 'file_size': 463284, 'creation_date': '2024-09-22', 'last_modified_date': '2022-11-06'}\n",
      "{'page_label': '27', 'file_name': 'week6_beamer.pdf', 'file_path': 'C:\\\\Users\\\\localadmin\\\\Desktop\\\\new desktop\\\\linkedinsucks\\\\linkedin_easyapply_bot\\\\agentic rag trials\\\\docs\\\\week6_beamer.pdf', 'file_type': 'application/pdf', 'file_size': 463284, 'creation_date': '2024-09-22', 'last_modified_date': '2022-11-06'}\n",
      "{'page_label': '28', 'file_name': 'week6_beamer.pdf', 'file_path': 'C:\\\\Users\\\\localadmin\\\\Desktop\\\\new desktop\\\\linkedinsucks\\\\linkedin_easyapply_bot\\\\agentic rag trials\\\\docs\\\\week6_beamer.pdf', 'file_type': 'application/pdf', 'file_size': 463284, 'creation_date': '2024-09-22', 'last_modified_date': '2022-11-06'}\n",
      "{'page_label': '29', 'file_name': 'week6_beamer.pdf', 'file_path': 'C:\\\\Users\\\\localadmin\\\\Desktop\\\\new desktop\\\\linkedinsucks\\\\linkedin_easyapply_bot\\\\agentic rag trials\\\\docs\\\\week6_beamer.pdf', 'file_type': 'application/pdf', 'file_size': 463284, 'creation_date': '2024-09-22', 'last_modified_date': '2022-11-06'}\n",
      "{'page_label': '30', 'file_name': 'week6_beamer.pdf', 'file_path': 'C:\\\\Users\\\\localadmin\\\\Desktop\\\\new desktop\\\\linkedinsucks\\\\linkedin_easyapply_bot\\\\agentic rag trials\\\\docs\\\\week6_beamer.pdf', 'file_type': 'application/pdf', 'file_size': 463284, 'creation_date': '2024-09-22', 'last_modified_date': '2022-11-06'}\n",
      "{'page_label': '31', 'file_name': 'week6_beamer.pdf', 'file_path': 'C:\\\\Users\\\\localadmin\\\\Desktop\\\\new desktop\\\\linkedinsucks\\\\linkedin_easyapply_bot\\\\agentic rag trials\\\\docs\\\\week6_beamer.pdf', 'file_type': 'application/pdf', 'file_size': 463284, 'creation_date': '2024-09-22', 'last_modified_date': '2022-11-06'}\n",
      "{'page_label': '32', 'file_name': 'week6_beamer.pdf', 'file_path': 'C:\\\\Users\\\\localadmin\\\\Desktop\\\\new desktop\\\\linkedinsucks\\\\linkedin_easyapply_bot\\\\agentic rag trials\\\\docs\\\\week6_beamer.pdf', 'file_type': 'application/pdf', 'file_size': 463284, 'creation_date': '2024-09-22', 'last_modified_date': '2022-11-06'}\n",
      "{'page_label': '1', 'file_name': 'week8_beamer.pdf', 'file_path': 'C:\\\\Users\\\\localadmin\\\\Desktop\\\\new desktop\\\\linkedinsucks\\\\linkedin_easyapply_bot\\\\agentic rag trials\\\\docs\\\\week8_beamer.pdf', 'file_type': 'application/pdf', 'file_size': 324321, 'creation_date': '2024-09-22', 'last_modified_date': '2022-11-19'}\n",
      "{'page_label': '2', 'file_name': 'week8_beamer.pdf', 'file_path': 'C:\\\\Users\\\\localadmin\\\\Desktop\\\\new desktop\\\\linkedinsucks\\\\linkedin_easyapply_bot\\\\agentic rag trials\\\\docs\\\\week8_beamer.pdf', 'file_type': 'application/pdf', 'file_size': 324321, 'creation_date': '2024-09-22', 'last_modified_date': '2022-11-19'}\n",
      "{'page_label': '3', 'file_name': 'week8_beamer.pdf', 'file_path': 'C:\\\\Users\\\\localadmin\\\\Desktop\\\\new desktop\\\\linkedinsucks\\\\linkedin_easyapply_bot\\\\agentic rag trials\\\\docs\\\\week8_beamer.pdf', 'file_type': 'application/pdf', 'file_size': 324321, 'creation_date': '2024-09-22', 'last_modified_date': '2022-11-19'}\n",
      "{'page_label': '4', 'file_name': 'week8_beamer.pdf', 'file_path': 'C:\\\\Users\\\\localadmin\\\\Desktop\\\\new desktop\\\\linkedinsucks\\\\linkedin_easyapply_bot\\\\agentic rag trials\\\\docs\\\\week8_beamer.pdf', 'file_type': 'application/pdf', 'file_size': 324321, 'creation_date': '2024-09-22', 'last_modified_date': '2022-11-19'}\n",
      "{'page_label': '5', 'file_name': 'week8_beamer.pdf', 'file_path': 'C:\\\\Users\\\\localadmin\\\\Desktop\\\\new desktop\\\\linkedinsucks\\\\linkedin_easyapply_bot\\\\agentic rag trials\\\\docs\\\\week8_beamer.pdf', 'file_type': 'application/pdf', 'file_size': 324321, 'creation_date': '2024-09-22', 'last_modified_date': '2022-11-19'}\n",
      "{'page_label': '6', 'file_name': 'week8_beamer.pdf', 'file_path': 'C:\\\\Users\\\\localadmin\\\\Desktop\\\\new desktop\\\\linkedinsucks\\\\linkedin_easyapply_bot\\\\agentic rag trials\\\\docs\\\\week8_beamer.pdf', 'file_type': 'application/pdf', 'file_size': 324321, 'creation_date': '2024-09-22', 'last_modified_date': '2022-11-19'}\n",
      "{'page_label': '7', 'file_name': 'week8_beamer.pdf', 'file_path': 'C:\\\\Users\\\\localadmin\\\\Desktop\\\\new desktop\\\\linkedinsucks\\\\linkedin_easyapply_bot\\\\agentic rag trials\\\\docs\\\\week8_beamer.pdf', 'file_type': 'application/pdf', 'file_size': 324321, 'creation_date': '2024-09-22', 'last_modified_date': '2022-11-19'}\n",
      "{'page_label': '8', 'file_name': 'week8_beamer.pdf', 'file_path': 'C:\\\\Users\\\\localadmin\\\\Desktop\\\\new desktop\\\\linkedinsucks\\\\linkedin_easyapply_bot\\\\agentic rag trials\\\\docs\\\\week8_beamer.pdf', 'file_type': 'application/pdf', 'file_size': 324321, 'creation_date': '2024-09-22', 'last_modified_date': '2022-11-19'}\n",
      "{'page_label': '9', 'file_name': 'week8_beamer.pdf', 'file_path': 'C:\\\\Users\\\\localadmin\\\\Desktop\\\\new desktop\\\\linkedinsucks\\\\linkedin_easyapply_bot\\\\agentic rag trials\\\\docs\\\\week8_beamer.pdf', 'file_type': 'application/pdf', 'file_size': 324321, 'creation_date': '2024-09-22', 'last_modified_date': '2022-11-19'}\n",
      "{'page_label': '10', 'file_name': 'week8_beamer.pdf', 'file_path': 'C:\\\\Users\\\\localadmin\\\\Desktop\\\\new desktop\\\\linkedinsucks\\\\linkedin_easyapply_bot\\\\agentic rag trials\\\\docs\\\\week8_beamer.pdf', 'file_type': 'application/pdf', 'file_size': 324321, 'creation_date': '2024-09-22', 'last_modified_date': '2022-11-19'}\n",
      "{'page_label': '11', 'file_name': 'week8_beamer.pdf', 'file_path': 'C:\\\\Users\\\\localadmin\\\\Desktop\\\\new desktop\\\\linkedinsucks\\\\linkedin_easyapply_bot\\\\agentic rag trials\\\\docs\\\\week8_beamer.pdf', 'file_type': 'application/pdf', 'file_size': 324321, 'creation_date': '2024-09-22', 'last_modified_date': '2022-11-19'}\n",
      "{'page_label': '12', 'file_name': 'week8_beamer.pdf', 'file_path': 'C:\\\\Users\\\\localadmin\\\\Desktop\\\\new desktop\\\\linkedinsucks\\\\linkedin_easyapply_bot\\\\agentic rag trials\\\\docs\\\\week8_beamer.pdf', 'file_type': 'application/pdf', 'file_size': 324321, 'creation_date': '2024-09-22', 'last_modified_date': '2022-11-19'}\n",
      "{'page_label': '13', 'file_name': 'week8_beamer.pdf', 'file_path': 'C:\\\\Users\\\\localadmin\\\\Desktop\\\\new desktop\\\\linkedinsucks\\\\linkedin_easyapply_bot\\\\agentic rag trials\\\\docs\\\\week8_beamer.pdf', 'file_type': 'application/pdf', 'file_size': 324321, 'creation_date': '2024-09-22', 'last_modified_date': '2022-11-19'}\n",
      "{'page_label': '14', 'file_name': 'week8_beamer.pdf', 'file_path': 'C:\\\\Users\\\\localadmin\\\\Desktop\\\\new desktop\\\\linkedinsucks\\\\linkedin_easyapply_bot\\\\agentic rag trials\\\\docs\\\\week8_beamer.pdf', 'file_type': 'application/pdf', 'file_size': 324321, 'creation_date': '2024-09-22', 'last_modified_date': '2022-11-19'}\n",
      "{'page_label': '15', 'file_name': 'week8_beamer.pdf', 'file_path': 'C:\\\\Users\\\\localadmin\\\\Desktop\\\\new desktop\\\\linkedinsucks\\\\linkedin_easyapply_bot\\\\agentic rag trials\\\\docs\\\\week8_beamer.pdf', 'file_type': 'application/pdf', 'file_size': 324321, 'creation_date': '2024-09-22', 'last_modified_date': '2022-11-19'}\n",
      "{'page_label': '16', 'file_name': 'week8_beamer.pdf', 'file_path': 'C:\\\\Users\\\\localadmin\\\\Desktop\\\\new desktop\\\\linkedinsucks\\\\linkedin_easyapply_bot\\\\agentic rag trials\\\\docs\\\\week8_beamer.pdf', 'file_type': 'application/pdf', 'file_size': 324321, 'creation_date': '2024-09-22', 'last_modified_date': '2022-11-19'}\n",
      "{'page_label': '17', 'file_name': 'week8_beamer.pdf', 'file_path': 'C:\\\\Users\\\\localadmin\\\\Desktop\\\\new desktop\\\\linkedinsucks\\\\linkedin_easyapply_bot\\\\agentic rag trials\\\\docs\\\\week8_beamer.pdf', 'file_type': 'application/pdf', 'file_size': 324321, 'creation_date': '2024-09-22', 'last_modified_date': '2022-11-19'}\n",
      "{'page_label': '18', 'file_name': 'week8_beamer.pdf', 'file_path': 'C:\\\\Users\\\\localadmin\\\\Desktop\\\\new desktop\\\\linkedinsucks\\\\linkedin_easyapply_bot\\\\agentic rag trials\\\\docs\\\\week8_beamer.pdf', 'file_type': 'application/pdf', 'file_size': 324321, 'creation_date': '2024-09-22', 'last_modified_date': '2022-11-19'}\n",
      "{'page_label': '19', 'file_name': 'week8_beamer.pdf', 'file_path': 'C:\\\\Users\\\\localadmin\\\\Desktop\\\\new desktop\\\\linkedinsucks\\\\linkedin_easyapply_bot\\\\agentic rag trials\\\\docs\\\\week8_beamer.pdf', 'file_type': 'application/pdf', 'file_size': 324321, 'creation_date': '2024-09-22', 'last_modified_date': '2022-11-19'}\n",
      "{'page_label': '20', 'file_name': 'week8_beamer.pdf', 'file_path': 'C:\\\\Users\\\\localadmin\\\\Desktop\\\\new desktop\\\\linkedinsucks\\\\linkedin_easyapply_bot\\\\agentic rag trials\\\\docs\\\\week8_beamer.pdf', 'file_type': 'application/pdf', 'file_size': 324321, 'creation_date': '2024-09-22', 'last_modified_date': '2022-11-19'}\n",
      "{'page_label': '21', 'file_name': 'week8_beamer.pdf', 'file_path': 'C:\\\\Users\\\\localadmin\\\\Desktop\\\\new desktop\\\\linkedinsucks\\\\linkedin_easyapply_bot\\\\agentic rag trials\\\\docs\\\\week8_beamer.pdf', 'file_type': 'application/pdf', 'file_size': 324321, 'creation_date': '2024-09-22', 'last_modified_date': '2022-11-19'}\n",
      "{'page_label': '22', 'file_name': 'week8_beamer.pdf', 'file_path': 'C:\\\\Users\\\\localadmin\\\\Desktop\\\\new desktop\\\\linkedinsucks\\\\linkedin_easyapply_bot\\\\agentic rag trials\\\\docs\\\\week8_beamer.pdf', 'file_type': 'application/pdf', 'file_size': 324321, 'creation_date': '2024-09-22', 'last_modified_date': '2022-11-19'}\n",
      "{'page_label': '23', 'file_name': 'week8_beamer.pdf', 'file_path': 'C:\\\\Users\\\\localadmin\\\\Desktop\\\\new desktop\\\\linkedinsucks\\\\linkedin_easyapply_bot\\\\agentic rag trials\\\\docs\\\\week8_beamer.pdf', 'file_type': 'application/pdf', 'file_size': 324321, 'creation_date': '2024-09-22', 'last_modified_date': '2022-11-19'}\n",
      "{'page_label': '24', 'file_name': 'week8_beamer.pdf', 'file_path': 'C:\\\\Users\\\\localadmin\\\\Desktop\\\\new desktop\\\\linkedinsucks\\\\linkedin_easyapply_bot\\\\agentic rag trials\\\\docs\\\\week8_beamer.pdf', 'file_type': 'application/pdf', 'file_size': 324321, 'creation_date': '2024-09-22', 'last_modified_date': '2022-11-19'}\n",
      "{'page_label': '25', 'file_name': 'week8_beamer.pdf', 'file_path': 'C:\\\\Users\\\\localadmin\\\\Desktop\\\\new desktop\\\\linkedinsucks\\\\linkedin_easyapply_bot\\\\agentic rag trials\\\\docs\\\\week8_beamer.pdf', 'file_type': 'application/pdf', 'file_size': 324321, 'creation_date': '2024-09-22', 'last_modified_date': '2022-11-19'}\n",
      "{'page_label': '26', 'file_name': 'week8_beamer.pdf', 'file_path': 'C:\\\\Users\\\\localadmin\\\\Desktop\\\\new desktop\\\\linkedinsucks\\\\linkedin_easyapply_bot\\\\agentic rag trials\\\\docs\\\\week8_beamer.pdf', 'file_type': 'application/pdf', 'file_size': 324321, 'creation_date': '2024-09-22', 'last_modified_date': '2022-11-19'}\n",
      "{'page_label': '27', 'file_name': 'week8_beamer.pdf', 'file_path': 'C:\\\\Users\\\\localadmin\\\\Desktop\\\\new desktop\\\\linkedinsucks\\\\linkedin_easyapply_bot\\\\agentic rag trials\\\\docs\\\\week8_beamer.pdf', 'file_type': 'application/pdf', 'file_size': 324321, 'creation_date': '2024-09-22', 'last_modified_date': '2022-11-19'}\n",
      "{'page_label': '28', 'file_name': 'week8_beamer.pdf', 'file_path': 'C:\\\\Users\\\\localadmin\\\\Desktop\\\\new desktop\\\\linkedinsucks\\\\linkedin_easyapply_bot\\\\agentic rag trials\\\\docs\\\\week8_beamer.pdf', 'file_type': 'application/pdf', 'file_size': 324321, 'creation_date': '2024-09-22', 'last_modified_date': '2022-11-19'}\n",
      "{'page_label': '29', 'file_name': 'week8_beamer.pdf', 'file_path': 'C:\\\\Users\\\\localadmin\\\\Desktop\\\\new desktop\\\\linkedinsucks\\\\linkedin_easyapply_bot\\\\agentic rag trials\\\\docs\\\\week8_beamer.pdf', 'file_type': 'application/pdf', 'file_size': 324321, 'creation_date': '2024-09-22', 'last_modified_date': '2022-11-19'}\n",
      "{'page_label': '30', 'file_name': 'week8_beamer.pdf', 'file_path': 'C:\\\\Users\\\\localadmin\\\\Desktop\\\\new desktop\\\\linkedinsucks\\\\linkedin_easyapply_bot\\\\agentic rag trials\\\\docs\\\\week8_beamer.pdf', 'file_type': 'application/pdf', 'file_size': 324321, 'creation_date': '2024-09-22', 'last_modified_date': '2022-11-19'}\n",
      "{'page_label': '1', 'file_name': 'week9_beamer.pdf', 'file_path': 'C:\\\\Users\\\\localadmin\\\\Desktop\\\\new desktop\\\\linkedinsucks\\\\linkedin_easyapply_bot\\\\agentic rag trials\\\\docs\\\\week9_beamer.pdf', 'file_type': 'application/pdf', 'file_size': 1141317, 'creation_date': '2024-09-22', 'last_modified_date': '2022-11-23'}\n",
      "{'page_label': '2', 'file_name': 'week9_beamer.pdf', 'file_path': 'C:\\\\Users\\\\localadmin\\\\Desktop\\\\new desktop\\\\linkedinsucks\\\\linkedin_easyapply_bot\\\\agentic rag trials\\\\docs\\\\week9_beamer.pdf', 'file_type': 'application/pdf', 'file_size': 1141317, 'creation_date': '2024-09-22', 'last_modified_date': '2022-11-23'}\n",
      "{'page_label': '3', 'file_name': 'week9_beamer.pdf', 'file_path': 'C:\\\\Users\\\\localadmin\\\\Desktop\\\\new desktop\\\\linkedinsucks\\\\linkedin_easyapply_bot\\\\agentic rag trials\\\\docs\\\\week9_beamer.pdf', 'file_type': 'application/pdf', 'file_size': 1141317, 'creation_date': '2024-09-22', 'last_modified_date': '2022-11-23'}\n",
      "{'page_label': '4', 'file_name': 'week9_beamer.pdf', 'file_path': 'C:\\\\Users\\\\localadmin\\\\Desktop\\\\new desktop\\\\linkedinsucks\\\\linkedin_easyapply_bot\\\\agentic rag trials\\\\docs\\\\week9_beamer.pdf', 'file_type': 'application/pdf', 'file_size': 1141317, 'creation_date': '2024-09-22', 'last_modified_date': '2022-11-23'}\n",
      "{'page_label': '5', 'file_name': 'week9_beamer.pdf', 'file_path': 'C:\\\\Users\\\\localadmin\\\\Desktop\\\\new desktop\\\\linkedinsucks\\\\linkedin_easyapply_bot\\\\agentic rag trials\\\\docs\\\\week9_beamer.pdf', 'file_type': 'application/pdf', 'file_size': 1141317, 'creation_date': '2024-09-22', 'last_modified_date': '2022-11-23'}\n",
      "{'page_label': '6', 'file_name': 'week9_beamer.pdf', 'file_path': 'C:\\\\Users\\\\localadmin\\\\Desktop\\\\new desktop\\\\linkedinsucks\\\\linkedin_easyapply_bot\\\\agentic rag trials\\\\docs\\\\week9_beamer.pdf', 'file_type': 'application/pdf', 'file_size': 1141317, 'creation_date': '2024-09-22', 'last_modified_date': '2022-11-23'}\n",
      "{'page_label': '7', 'file_name': 'week9_beamer.pdf', 'file_path': 'C:\\\\Users\\\\localadmin\\\\Desktop\\\\new desktop\\\\linkedinsucks\\\\linkedin_easyapply_bot\\\\agentic rag trials\\\\docs\\\\week9_beamer.pdf', 'file_type': 'application/pdf', 'file_size': 1141317, 'creation_date': '2024-09-22', 'last_modified_date': '2022-11-23'}\n",
      "{'page_label': '8', 'file_name': 'week9_beamer.pdf', 'file_path': 'C:\\\\Users\\\\localadmin\\\\Desktop\\\\new desktop\\\\linkedinsucks\\\\linkedin_easyapply_bot\\\\agentic rag trials\\\\docs\\\\week9_beamer.pdf', 'file_type': 'application/pdf', 'file_size': 1141317, 'creation_date': '2024-09-22', 'last_modified_date': '2022-11-23'}\n",
      "{'page_label': '9', 'file_name': 'week9_beamer.pdf', 'file_path': 'C:\\\\Users\\\\localadmin\\\\Desktop\\\\new desktop\\\\linkedinsucks\\\\linkedin_easyapply_bot\\\\agentic rag trials\\\\docs\\\\week9_beamer.pdf', 'file_type': 'application/pdf', 'file_size': 1141317, 'creation_date': '2024-09-22', 'last_modified_date': '2022-11-23'}\n",
      "{'page_label': '10', 'file_name': 'week9_beamer.pdf', 'file_path': 'C:\\\\Users\\\\localadmin\\\\Desktop\\\\new desktop\\\\linkedinsucks\\\\linkedin_easyapply_bot\\\\agentic rag trials\\\\docs\\\\week9_beamer.pdf', 'file_type': 'application/pdf', 'file_size': 1141317, 'creation_date': '2024-09-22', 'last_modified_date': '2022-11-23'}\n",
      "{'page_label': '11', 'file_name': 'week9_beamer.pdf', 'file_path': 'C:\\\\Users\\\\localadmin\\\\Desktop\\\\new desktop\\\\linkedinsucks\\\\linkedin_easyapply_bot\\\\agentic rag trials\\\\docs\\\\week9_beamer.pdf', 'file_type': 'application/pdf', 'file_size': 1141317, 'creation_date': '2024-09-22', 'last_modified_date': '2022-11-23'}\n",
      "{'page_label': '12', 'file_name': 'week9_beamer.pdf', 'file_path': 'C:\\\\Users\\\\localadmin\\\\Desktop\\\\new desktop\\\\linkedinsucks\\\\linkedin_easyapply_bot\\\\agentic rag trials\\\\docs\\\\week9_beamer.pdf', 'file_type': 'application/pdf', 'file_size': 1141317, 'creation_date': '2024-09-22', 'last_modified_date': '2022-11-23'}\n",
      "{'page_label': '13', 'file_name': 'week9_beamer.pdf', 'file_path': 'C:\\\\Users\\\\localadmin\\\\Desktop\\\\new desktop\\\\linkedinsucks\\\\linkedin_easyapply_bot\\\\agentic rag trials\\\\docs\\\\week9_beamer.pdf', 'file_type': 'application/pdf', 'file_size': 1141317, 'creation_date': '2024-09-22', 'last_modified_date': '2022-11-23'}\n",
      "{'page_label': '14', 'file_name': 'week9_beamer.pdf', 'file_path': 'C:\\\\Users\\\\localadmin\\\\Desktop\\\\new desktop\\\\linkedinsucks\\\\linkedin_easyapply_bot\\\\agentic rag trials\\\\docs\\\\week9_beamer.pdf', 'file_type': 'application/pdf', 'file_size': 1141317, 'creation_date': '2024-09-22', 'last_modified_date': '2022-11-23'}\n",
      "{'page_label': '15', 'file_name': 'week9_beamer.pdf', 'file_path': 'C:\\\\Users\\\\localadmin\\\\Desktop\\\\new desktop\\\\linkedinsucks\\\\linkedin_easyapply_bot\\\\agentic rag trials\\\\docs\\\\week9_beamer.pdf', 'file_type': 'application/pdf', 'file_size': 1141317, 'creation_date': '2024-09-22', 'last_modified_date': '2022-11-23'}\n",
      "{'page_label': '16', 'file_name': 'week9_beamer.pdf', 'file_path': 'C:\\\\Users\\\\localadmin\\\\Desktop\\\\new desktop\\\\linkedinsucks\\\\linkedin_easyapply_bot\\\\agentic rag trials\\\\docs\\\\week9_beamer.pdf', 'file_type': 'application/pdf', 'file_size': 1141317, 'creation_date': '2024-09-22', 'last_modified_date': '2022-11-23'}\n",
      "{'page_label': '17', 'file_name': 'week9_beamer.pdf', 'file_path': 'C:\\\\Users\\\\localadmin\\\\Desktop\\\\new desktop\\\\linkedinsucks\\\\linkedin_easyapply_bot\\\\agentic rag trials\\\\docs\\\\week9_beamer.pdf', 'file_type': 'application/pdf', 'file_size': 1141317, 'creation_date': '2024-09-22', 'last_modified_date': '2022-11-23'}\n",
      "{'page_label': '18', 'file_name': 'week9_beamer.pdf', 'file_path': 'C:\\\\Users\\\\localadmin\\\\Desktop\\\\new desktop\\\\linkedinsucks\\\\linkedin_easyapply_bot\\\\agentic rag trials\\\\docs\\\\week9_beamer.pdf', 'file_type': 'application/pdf', 'file_size': 1141317, 'creation_date': '2024-09-22', 'last_modified_date': '2022-11-23'}\n",
      "{'page_label': '19', 'file_name': 'week9_beamer.pdf', 'file_path': 'C:\\\\Users\\\\localadmin\\\\Desktop\\\\new desktop\\\\linkedinsucks\\\\linkedin_easyapply_bot\\\\agentic rag trials\\\\docs\\\\week9_beamer.pdf', 'file_type': 'application/pdf', 'file_size': 1141317, 'creation_date': '2024-09-22', 'last_modified_date': '2022-11-23'}\n",
      "{'page_label': '20', 'file_name': 'week9_beamer.pdf', 'file_path': 'C:\\\\Users\\\\localadmin\\\\Desktop\\\\new desktop\\\\linkedinsucks\\\\linkedin_easyapply_bot\\\\agentic rag trials\\\\docs\\\\week9_beamer.pdf', 'file_type': 'application/pdf', 'file_size': 1141317, 'creation_date': '2024-09-22', 'last_modified_date': '2022-11-23'}\n",
      "{'page_label': '21', 'file_name': 'week9_beamer.pdf', 'file_path': 'C:\\\\Users\\\\localadmin\\\\Desktop\\\\new desktop\\\\linkedinsucks\\\\linkedin_easyapply_bot\\\\agentic rag trials\\\\docs\\\\week9_beamer.pdf', 'file_type': 'application/pdf', 'file_size': 1141317, 'creation_date': '2024-09-22', 'last_modified_date': '2022-11-23'}\n",
      "{'page_label': '22', 'file_name': 'week9_beamer.pdf', 'file_path': 'C:\\\\Users\\\\localadmin\\\\Desktop\\\\new desktop\\\\linkedinsucks\\\\linkedin_easyapply_bot\\\\agentic rag trials\\\\docs\\\\week9_beamer.pdf', 'file_type': 'application/pdf', 'file_size': 1141317, 'creation_date': '2024-09-22', 'last_modified_date': '2022-11-23'}\n",
      "{'page_label': '23', 'file_name': 'week9_beamer.pdf', 'file_path': 'C:\\\\Users\\\\localadmin\\\\Desktop\\\\new desktop\\\\linkedinsucks\\\\linkedin_easyapply_bot\\\\agentic rag trials\\\\docs\\\\week9_beamer.pdf', 'file_type': 'application/pdf', 'file_size': 1141317, 'creation_date': '2024-09-22', 'last_modified_date': '2022-11-23'}\n",
      "{'page_label': '24', 'file_name': 'week9_beamer.pdf', 'file_path': 'C:\\\\Users\\\\localadmin\\\\Desktop\\\\new desktop\\\\linkedinsucks\\\\linkedin_easyapply_bot\\\\agentic rag trials\\\\docs\\\\week9_beamer.pdf', 'file_type': 'application/pdf', 'file_size': 1141317, 'creation_date': '2024-09-22', 'last_modified_date': '2022-11-23'}\n",
      "{'page_label': '25', 'file_name': 'week9_beamer.pdf', 'file_path': 'C:\\\\Users\\\\localadmin\\\\Desktop\\\\new desktop\\\\linkedinsucks\\\\linkedin_easyapply_bot\\\\agentic rag trials\\\\docs\\\\week9_beamer.pdf', 'file_type': 'application/pdf', 'file_size': 1141317, 'creation_date': '2024-09-22', 'last_modified_date': '2022-11-23'}\n",
      "{'page_label': '26', 'file_name': 'week9_beamer.pdf', 'file_path': 'C:\\\\Users\\\\localadmin\\\\Desktop\\\\new desktop\\\\linkedinsucks\\\\linkedin_easyapply_bot\\\\agentic rag trials\\\\docs\\\\week9_beamer.pdf', 'file_type': 'application/pdf', 'file_size': 1141317, 'creation_date': '2024-09-22', 'last_modified_date': '2022-11-23'}\n"
     ]
    }
   ],
   "source": [
    "for n in response.source_nodes:\n",
    "    print(n.metadata)"
   ]
  },
  {
   "cell_type": "code",
   "execution_count": 38,
   "metadata": {},
   "outputs": [
    {
     "name": "stdout",
     "output_type": "stream",
     "text": [
      "=== Calling Function ===\n",
      "Calling function: query_engine_tool with args: {\"input\": \"What is a time series and how is it used in data analysis?\"}\n",
      "=== Function Output ===\n",
      "A time series is a sequence of data points collected at successive equally spaced time intervals. It is utilized in data analysis to understand patterns, trends, and behaviors that evolve over time. Time series analysis involves studying past values of a variable to forecast future values based on the assumption that the data points are dependent on time. This analysis helps in making predictions, identifying anomalies, and understanding the underlying structure of the data over time.\n"
     ]
    }
   ],
   "source": [
    "llm = OpenAI(model=\"gpt-3.5-turbo\", temperature=0)\n",
    "response = llm.predict_and_call(\n",
    "    [vector_tool, summary_tool], \n",
    "    \"tell me about time series and finding variance in arima models\", \n",
    "    verbose=True\n",
    ")\n"
   ]
  },
  {
   "cell_type": "code",
   "execution_count": 41,
   "metadata": {},
   "outputs": [],
   "source": [
    "file_path = docs_path"
   ]
  },
  {
   "cell_type": "code",
   "execution_count": 5,
   "metadata": {},
   "outputs": [],
   "source": [
    "from llama_index.core.node_parser import SentenceSplitter\n",
    "from llama_index.core.tools import FunctionTool"
   ]
  },
  {
   "cell_type": "code",
   "execution_count": 7,
   "metadata": {},
   "outputs": [
    {
     "name": "stderr",
     "output_type": "stream",
     "text": [
      "C:\\Users\\localadmin\\AppData\\Local\\Temp\\ipykernel_3932\\2907076291.py:30: LangChainDeprecationWarning: The class `HuggingFaceEmbeddings` was deprecated in LangChain 0.2.2 and will be removed in 1.0. An updated version of the class exists in the :class:`~langchain-huggingface package and should be used instead. To use it run `pip install -U :class:`~langchain-huggingface` and import as `from :class:`~langchain_huggingface import HuggingFaceEmbeddings``.\n",
      "  phi3_embed = HuggingFaceEmbeddings(model_name=\"BAAI/bge-small-en-v1.5\")\n",
      "c:\\Users\\localadmin\\Desktop\\new desktop\\linkedinsucks\\linkedinsucks\\linkedinbot_venv\\Lib\\site-packages\\sentence_transformers\\cross_encoder\\CrossEncoder.py:11: TqdmExperimentalWarning: Using `tqdm.autonotebook.tqdm` in notebook mode. Use `tqdm.tqdm` instead to force console mode (e.g. in jupyter console)\n",
      "  from tqdm.autonotebook import tqdm, trange\n"
     ]
    },
    {
     "ename": "RuntimeError",
     "evalue": "no validator found for <class 'langchain.chains.llm.LLMChain'>, see `arbitrary_types_allowed` in Config",
     "output_type": "error",
     "traceback": [
      "\u001b[1;31m---------------------------------------------------------------------------\u001b[0m",
      "\u001b[1;31mRuntimeError\u001b[0m                              Traceback (most recent call last)",
      "Cell \u001b[1;32mIn[7], line 36\u001b[0m\n\u001b[0;32m     32\u001b[0m \u001b[38;5;66;03m#### Set Up Each Tool Separately\u001b[39;00m\n\u001b[0;32m     33\u001b[0m \n\u001b[0;32m     34\u001b[0m \u001b[38;5;66;03m# Summarizer tool settings (GPT-3.5)\u001b[39;00m\n\u001b[0;32m     35\u001b[0m Settings\u001b[38;5;241m.\u001b[39mllm \u001b[38;5;241m=\u001b[39m gpt3_5_llm\n\u001b[1;32m---> 36\u001b[0m \u001b[43mSettings\u001b[49m\u001b[38;5;241;43m.\u001b[39;49m\u001b[43membed_model\u001b[49m \u001b[38;5;241m=\u001b[39m gpt3_5_embed\n\u001b[0;32m     38\u001b[0m summary_index \u001b[38;5;241m=\u001b[39m SummaryIndex(documents)  \u001b[38;5;66;03m# Assuming `documents` is already defined\u001b[39;00m\n\u001b[0;32m     39\u001b[0m summary_query_engine \u001b[38;5;241m=\u001b[39m summary_index\u001b[38;5;241m.\u001b[39mas_query_engine(\n\u001b[0;32m     40\u001b[0m     response_mode\u001b[38;5;241m=\u001b[39m\u001b[38;5;124m\"\u001b[39m\u001b[38;5;124mtree_summarize\u001b[39m\u001b[38;5;124m\"\u001b[39m,\n\u001b[0;32m     41\u001b[0m     use_async\u001b[38;5;241m=\u001b[39m\u001b[38;5;28;01mTrue\u001b[39;00m,\n\u001b[0;32m     42\u001b[0m )\n",
      "File \u001b[1;32mc:\\Users\\localadmin\\Desktop\\new desktop\\linkedinsucks\\linkedinsucks\\linkedinbot_venv\\Lib\\site-packages\\llama_index\\core\\settings.py:74\u001b[0m, in \u001b[0;36m_Settings.embed_model\u001b[1;34m(self, embed_model)\u001b[0m\n\u001b[0;32m     71\u001b[0m \u001b[38;5;129m@embed_model\u001b[39m\u001b[38;5;241m.\u001b[39msetter\n\u001b[0;32m     72\u001b[0m \u001b[38;5;28;01mdef\u001b[39;00m \u001b[38;5;21membed_model\u001b[39m(\u001b[38;5;28mself\u001b[39m, embed_model: EmbedType) \u001b[38;5;241m-\u001b[39m\u001b[38;5;241m>\u001b[39m \u001b[38;5;28;01mNone\u001b[39;00m:\n\u001b[0;32m     73\u001b[0m \u001b[38;5;250m    \u001b[39m\u001b[38;5;124;03m\"\"\"Set the embedding model.\"\"\"\u001b[39;00m\n\u001b[1;32m---> 74\u001b[0m     \u001b[38;5;28mself\u001b[39m\u001b[38;5;241m.\u001b[39m_embed_model \u001b[38;5;241m=\u001b[39m \u001b[43mresolve_embed_model\u001b[49m\u001b[43m(\u001b[49m\u001b[43membed_model\u001b[49m\u001b[43m)\u001b[49m\n",
      "File \u001b[1;32mc:\\Users\\localadmin\\Desktop\\new desktop\\linkedinsucks\\linkedinsucks\\linkedinbot_venv\\Lib\\site-packages\\llama_index\\core\\embeddings\\utils.py:39\u001b[0m, in \u001b[0;36mresolve_embed_model\u001b[1;34m(embed_model, callback_manager)\u001b[0m\n\u001b[0;32m     36\u001b[0m \u001b[38;5;28;01mfrom\u001b[39;00m \u001b[38;5;21;01mllama_index\u001b[39;00m\u001b[38;5;21;01m.\u001b[39;00m\u001b[38;5;21;01mcore\u001b[39;00m\u001b[38;5;21;01m.\u001b[39;00m\u001b[38;5;21;01msettings\u001b[39;00m \u001b[38;5;28;01mimport\u001b[39;00m Settings\n\u001b[0;32m     38\u001b[0m \u001b[38;5;28;01mtry\u001b[39;00m:\n\u001b[1;32m---> 39\u001b[0m     \u001b[38;5;28;01mfrom\u001b[39;00m \u001b[38;5;21;01mllama_index\u001b[39;00m\u001b[38;5;21;01m.\u001b[39;00m\u001b[38;5;21;01mcore\u001b[39;00m\u001b[38;5;21;01m.\u001b[39;00m\u001b[38;5;21;01mbridge\u001b[39;00m\u001b[38;5;21;01m.\u001b[39;00m\u001b[38;5;21;01mlangchain\u001b[39;00m \u001b[38;5;28;01mimport\u001b[39;00m Embeddings \u001b[38;5;28;01mas\u001b[39;00m LCEmbeddings\n\u001b[0;32m     40\u001b[0m \u001b[38;5;28;01mexcept\u001b[39;00m \u001b[38;5;167;01mImportError\u001b[39;00m:\n\u001b[0;32m     41\u001b[0m     LCEmbeddings \u001b[38;5;241m=\u001b[39m \u001b[38;5;28;01mNone\u001b[39;00m  \u001b[38;5;66;03m# type: ignore\u001b[39;00m\n",
      "File \u001b[1;32mc:\\Users\\localadmin\\Desktop\\new desktop\\linkedinsucks\\linkedinsucks\\linkedinbot_venv\\Lib\\site-packages\\llama_index\\core\\bridge\\langchain.py:2\u001b[0m\n\u001b[0;32m      1\u001b[0m \u001b[38;5;28;01mimport\u001b[39;00m \u001b[38;5;21;01mlangchain\u001b[39;00m  \u001b[38;5;66;03m# pants: no-infer-dep\u001b[39;00m\n\u001b[1;32m----> 2\u001b[0m \u001b[38;5;28;01mfrom\u001b[39;00m \u001b[38;5;21;01mlangchain\u001b[39;00m\u001b[38;5;21;01m.\u001b[39;00m\u001b[38;5;21;01magents\u001b[39;00m \u001b[38;5;28;01mimport\u001b[39;00m (\n\u001b[0;32m      3\u001b[0m     AgentExecutor,\n\u001b[0;32m      4\u001b[0m     AgentType,\n\u001b[0;32m      5\u001b[0m     initialize_agent,\n\u001b[0;32m      6\u001b[0m )  \u001b[38;5;66;03m# pants: no-infer-dep\u001b[39;00m\n\u001b[0;32m      8\u001b[0m \u001b[38;5;66;03m# agents and tools\u001b[39;00m\n\u001b[0;32m      9\u001b[0m \u001b[38;5;28;01mfrom\u001b[39;00m \u001b[38;5;21;01mlangchain\u001b[39;00m\u001b[38;5;21;01m.\u001b[39;00m\u001b[38;5;21;01magents\u001b[39;00m\u001b[38;5;21;01m.\u001b[39;00m\u001b[38;5;21;01magent_toolkits\u001b[39;00m\u001b[38;5;21;01m.\u001b[39;00m\u001b[38;5;21;01mbase\u001b[39;00m \u001b[38;5;28;01mimport\u001b[39;00m BaseToolkit  \u001b[38;5;66;03m# pants: no-infer-dep\u001b[39;00m\n",
      "File \u001b[1;32mc:\\Users\\localadmin\\Desktop\\new desktop\\linkedinsucks\\linkedinsucks\\linkedinbot_venv\\Lib\\site-packages\\langchain\\agents\\__init__.py:40\u001b[0m\n\u001b[0;32m     37\u001b[0m \u001b[38;5;28;01mfrom\u001b[39;00m \u001b[38;5;21;01mlangchain_core\u001b[39;00m\u001b[38;5;21;01m.\u001b[39;00m\u001b[38;5;21;01mtools\u001b[39;00m\u001b[38;5;21;01m.\u001b[39;00m\u001b[38;5;21;01mconvert\u001b[39;00m \u001b[38;5;28;01mimport\u001b[39;00m tool\n\u001b[0;32m     39\u001b[0m \u001b[38;5;28;01mfrom\u001b[39;00m \u001b[38;5;21;01mlangchain\u001b[39;00m\u001b[38;5;21;01m.\u001b[39;00m\u001b[38;5;21;01m_api\u001b[39;00m \u001b[38;5;28;01mimport\u001b[39;00m create_importer\n\u001b[1;32m---> 40\u001b[0m \u001b[38;5;28;01mfrom\u001b[39;00m \u001b[38;5;21;01mlangchain\u001b[39;00m\u001b[38;5;21;01m.\u001b[39;00m\u001b[38;5;21;01magents\u001b[39;00m\u001b[38;5;21;01m.\u001b[39;00m\u001b[38;5;21;01magent\u001b[39;00m \u001b[38;5;28;01mimport\u001b[39;00m (\n\u001b[0;32m     41\u001b[0m     Agent,\n\u001b[0;32m     42\u001b[0m     AgentExecutor,\n\u001b[0;32m     43\u001b[0m     AgentOutputParser,\n\u001b[0;32m     44\u001b[0m     BaseMultiActionAgent,\n\u001b[0;32m     45\u001b[0m     BaseSingleActionAgent,\n\u001b[0;32m     46\u001b[0m     LLMSingleActionAgent,\n\u001b[0;32m     47\u001b[0m )\n\u001b[0;32m     48\u001b[0m \u001b[38;5;28;01mfrom\u001b[39;00m \u001b[38;5;21;01mlangchain\u001b[39;00m\u001b[38;5;21;01m.\u001b[39;00m\u001b[38;5;21;01magents\u001b[39;00m\u001b[38;5;21;01m.\u001b[39;00m\u001b[38;5;21;01magent_iterator\u001b[39;00m \u001b[38;5;28;01mimport\u001b[39;00m AgentExecutorIterator\n\u001b[0;32m     49\u001b[0m \u001b[38;5;28;01mfrom\u001b[39;00m \u001b[38;5;21;01mlangchain\u001b[39;00m\u001b[38;5;21;01m.\u001b[39;00m\u001b[38;5;21;01magents\u001b[39;00m\u001b[38;5;21;01m.\u001b[39;00m\u001b[38;5;21;01magent_toolkits\u001b[39;00m\u001b[38;5;21;01m.\u001b[39;00m\u001b[38;5;21;01mvectorstore\u001b[39;00m\u001b[38;5;21;01m.\u001b[39;00m\u001b[38;5;21;01mbase\u001b[39;00m \u001b[38;5;28;01mimport\u001b[39;00m (\n\u001b[0;32m     50\u001b[0m     create_vectorstore_agent,\n\u001b[0;32m     51\u001b[0m     create_vectorstore_router_agent,\n\u001b[0;32m     52\u001b[0m )\n",
      "File \u001b[1;32mc:\\Users\\localadmin\\Desktop\\new desktop\\linkedinsucks\\linkedinsucks\\linkedinbot_venv\\Lib\\site-packages\\langchain\\agents\\agent.py:639\u001b[0m\n\u001b[0;32m    624\u001b[0m             final_output \u001b[38;5;241m=\u001b[39m \u001b[38;5;28;01mawait\u001b[39;00m \u001b[38;5;28mself\u001b[39m\u001b[38;5;241m.\u001b[39mrunnable\u001b[38;5;241m.\u001b[39mainvoke(\n\u001b[0;32m    625\u001b[0m                 inputs, config\u001b[38;5;241m=\u001b[39m{\u001b[38;5;124m\"\u001b[39m\u001b[38;5;124mcallbacks\u001b[39m\u001b[38;5;124m\"\u001b[39m: callbacks}\n\u001b[0;32m    626\u001b[0m             )\n\u001b[0;32m    628\u001b[0m         \u001b[38;5;28;01mreturn\u001b[39;00m final_output\n\u001b[0;32m    631\u001b[0m \u001b[38;5;129;43m@deprecated\u001b[39;49m\u001b[43m(\u001b[49m\n\u001b[0;32m    632\u001b[0m \u001b[43m    \u001b[49m\u001b[38;5;124;43m\"\u001b[39;49m\u001b[38;5;124;43m0.1.0\u001b[39;49m\u001b[38;5;124;43m\"\u001b[39;49m\u001b[43m,\u001b[49m\n\u001b[0;32m    633\u001b[0m \u001b[43m    \u001b[49m\u001b[43mmessage\u001b[49m\u001b[38;5;241;43m=\u001b[39;49m\u001b[43m(\u001b[49m\n\u001b[0;32m    634\u001b[0m \u001b[43m        \u001b[49m\u001b[38;5;124;43m\"\u001b[39;49m\u001b[38;5;124;43mUse new agent constructor methods like create_react_agent, create_json_agent, \u001b[39;49m\u001b[38;5;124;43m\"\u001b[39;49m\n\u001b[0;32m    635\u001b[0m \u001b[43m        \u001b[49m\u001b[38;5;124;43m\"\u001b[39;49m\u001b[38;5;124;43mcreate_structured_chat_agent, etc.\u001b[39;49m\u001b[38;5;124;43m\"\u001b[39;49m\n\u001b[0;32m    636\u001b[0m \u001b[43m    \u001b[49m\u001b[43m)\u001b[49m\u001b[43m,\u001b[49m\n\u001b[0;32m    637\u001b[0m \u001b[43m    \u001b[49m\u001b[43mremoval\u001b[49m\u001b[38;5;241;43m=\u001b[39;49m\u001b[38;5;124;43m\"\u001b[39;49m\u001b[38;5;124;43m1.0\u001b[39;49m\u001b[38;5;124;43m\"\u001b[39;49m\u001b[43m,\u001b[49m\n\u001b[0;32m    638\u001b[0m \u001b[43m)\u001b[49m\n\u001b[1;32m--> 639\u001b[0m \u001b[38;5;28;43;01mclass\u001b[39;49;00m\u001b[43m \u001b[49m\u001b[38;5;21;43;01mLLMSingleActionAgent\u001b[39;49;00m\u001b[43m(\u001b[49m\u001b[43mBaseSingleActionAgent\u001b[49m\u001b[43m)\u001b[49m\u001b[43m:\u001b[49m\n\u001b[0;32m    640\u001b[0m \u001b[38;5;250;43m    \u001b[39;49m\u001b[38;5;124;43;03m\"\"\"Base class for single action agents.\"\"\"\u001b[39;49;00m\n\u001b[0;32m    642\u001b[0m \u001b[43m    \u001b[49m\u001b[43mllm_chain\u001b[49m\u001b[43m:\u001b[49m\u001b[43m \u001b[49m\u001b[43mLLMChain\u001b[49m\n",
      "File \u001b[1;32mc:\\Users\\localadmin\\Desktop\\new desktop\\linkedinsucks\\linkedinsucks\\linkedinbot_venv\\Lib\\site-packages\\pydantic\\v1\\main.py:197\u001b[0m, in \u001b[0;36mModelMetaclass.__new__\u001b[1;34m(mcs, name, bases, namespace, **kwargs)\u001b[0m\n\u001b[0;32m    189\u001b[0m     \u001b[38;5;28;01mif\u001b[39;00m (\n\u001b[0;32m    190\u001b[0m         is_untouched(value)\n\u001b[0;32m    191\u001b[0m         \u001b[38;5;129;01mand\u001b[39;00m ann_type \u001b[38;5;241m!=\u001b[39m PyObject\n\u001b[1;32m   (...)\u001b[0m\n\u001b[0;32m    194\u001b[0m         )\n\u001b[0;32m    195\u001b[0m     ):\n\u001b[0;32m    196\u001b[0m         \u001b[38;5;28;01mcontinue\u001b[39;00m\n\u001b[1;32m--> 197\u001b[0m     fields[ann_name] \u001b[38;5;241m=\u001b[39m \u001b[43mModelField\u001b[49m\u001b[38;5;241;43m.\u001b[39;49m\u001b[43minfer\u001b[49m\u001b[43m(\u001b[49m\n\u001b[0;32m    198\u001b[0m \u001b[43m        \u001b[49m\u001b[43mname\u001b[49m\u001b[38;5;241;43m=\u001b[39;49m\u001b[43mann_name\u001b[49m\u001b[43m,\u001b[49m\n\u001b[0;32m    199\u001b[0m \u001b[43m        \u001b[49m\u001b[43mvalue\u001b[49m\u001b[38;5;241;43m=\u001b[39;49m\u001b[43mvalue\u001b[49m\u001b[43m,\u001b[49m\n\u001b[0;32m    200\u001b[0m \u001b[43m        \u001b[49m\u001b[43mannotation\u001b[49m\u001b[38;5;241;43m=\u001b[39;49m\u001b[43mann_type\u001b[49m\u001b[43m,\u001b[49m\n\u001b[0;32m    201\u001b[0m \u001b[43m        \u001b[49m\u001b[43mclass_validators\u001b[49m\u001b[38;5;241;43m=\u001b[39;49m\u001b[43mvg\u001b[49m\u001b[38;5;241;43m.\u001b[39;49m\u001b[43mget_validators\u001b[49m\u001b[43m(\u001b[49m\u001b[43mann_name\u001b[49m\u001b[43m)\u001b[49m\u001b[43m,\u001b[49m\n\u001b[0;32m    202\u001b[0m \u001b[43m        \u001b[49m\u001b[43mconfig\u001b[49m\u001b[38;5;241;43m=\u001b[39;49m\u001b[43mconfig\u001b[49m\u001b[43m,\u001b[49m\n\u001b[0;32m    203\u001b[0m \u001b[43m    \u001b[49m\u001b[43m)\u001b[49m\n\u001b[0;32m    204\u001b[0m \u001b[38;5;28;01melif\u001b[39;00m ann_name \u001b[38;5;129;01mnot\u001b[39;00m \u001b[38;5;129;01min\u001b[39;00m namespace \u001b[38;5;129;01mand\u001b[39;00m config\u001b[38;5;241m.\u001b[39munderscore_attrs_are_private:\n\u001b[0;32m    205\u001b[0m     private_attributes[ann_name] \u001b[38;5;241m=\u001b[39m PrivateAttr()\n",
      "File \u001b[1;32mc:\\Users\\localadmin\\Desktop\\new desktop\\linkedinsucks\\linkedinsucks\\linkedinbot_venv\\Lib\\site-packages\\pydantic\\v1\\fields.py:504\u001b[0m, in \u001b[0;36mModelField.infer\u001b[1;34m(cls, name, value, annotation, class_validators, config)\u001b[0m\n\u001b[0;32m    501\u001b[0m     required \u001b[38;5;241m=\u001b[39m \u001b[38;5;28;01mFalse\u001b[39;00m\n\u001b[0;32m    502\u001b[0m annotation \u001b[38;5;241m=\u001b[39m get_annotation_from_field_info(annotation, field_info, name, config\u001b[38;5;241m.\u001b[39mvalidate_assignment)\n\u001b[1;32m--> 504\u001b[0m \u001b[38;5;28;01mreturn\u001b[39;00m \u001b[38;5;28;43mcls\u001b[39;49m\u001b[43m(\u001b[49m\n\u001b[0;32m    505\u001b[0m \u001b[43m    \u001b[49m\u001b[43mname\u001b[49m\u001b[38;5;241;43m=\u001b[39;49m\u001b[43mname\u001b[49m\u001b[43m,\u001b[49m\n\u001b[0;32m    506\u001b[0m \u001b[43m    \u001b[49m\u001b[43mtype_\u001b[49m\u001b[38;5;241;43m=\u001b[39;49m\u001b[43mannotation\u001b[49m\u001b[43m,\u001b[49m\n\u001b[0;32m    507\u001b[0m \u001b[43m    \u001b[49m\u001b[43malias\u001b[49m\u001b[38;5;241;43m=\u001b[39;49m\u001b[43mfield_info\u001b[49m\u001b[38;5;241;43m.\u001b[39;49m\u001b[43malias\u001b[49m\u001b[43m,\u001b[49m\n\u001b[0;32m    508\u001b[0m \u001b[43m    \u001b[49m\u001b[43mclass_validators\u001b[49m\u001b[38;5;241;43m=\u001b[39;49m\u001b[43mclass_validators\u001b[49m\u001b[43m,\u001b[49m\n\u001b[0;32m    509\u001b[0m \u001b[43m    \u001b[49m\u001b[43mdefault\u001b[49m\u001b[38;5;241;43m=\u001b[39;49m\u001b[43mvalue\u001b[49m\u001b[43m,\u001b[49m\n\u001b[0;32m    510\u001b[0m \u001b[43m    \u001b[49m\u001b[43mdefault_factory\u001b[49m\u001b[38;5;241;43m=\u001b[39;49m\u001b[43mfield_info\u001b[49m\u001b[38;5;241;43m.\u001b[39;49m\u001b[43mdefault_factory\u001b[49m\u001b[43m,\u001b[49m\n\u001b[0;32m    511\u001b[0m \u001b[43m    \u001b[49m\u001b[43mrequired\u001b[49m\u001b[38;5;241;43m=\u001b[39;49m\u001b[43mrequired\u001b[49m\u001b[43m,\u001b[49m\n\u001b[0;32m    512\u001b[0m \u001b[43m    \u001b[49m\u001b[43mmodel_config\u001b[49m\u001b[38;5;241;43m=\u001b[39;49m\u001b[43mconfig\u001b[49m\u001b[43m,\u001b[49m\n\u001b[0;32m    513\u001b[0m \u001b[43m    \u001b[49m\u001b[43mfield_info\u001b[49m\u001b[38;5;241;43m=\u001b[39;49m\u001b[43mfield_info\u001b[49m\u001b[43m,\u001b[49m\n\u001b[0;32m    514\u001b[0m \u001b[43m\u001b[49m\u001b[43m)\u001b[49m\n",
      "File \u001b[1;32mc:\\Users\\localadmin\\Desktop\\new desktop\\linkedinsucks\\linkedinsucks\\linkedinbot_venv\\Lib\\site-packages\\pydantic\\v1\\fields.py:434\u001b[0m, in \u001b[0;36mModelField.__init__\u001b[1;34m(self, name, type_, class_validators, model_config, default, default_factory, required, final, alias, field_info)\u001b[0m\n\u001b[0;32m    432\u001b[0m \u001b[38;5;28mself\u001b[39m\u001b[38;5;241m.\u001b[39mshape: \u001b[38;5;28mint\u001b[39m \u001b[38;5;241m=\u001b[39m SHAPE_SINGLETON\n\u001b[0;32m    433\u001b[0m \u001b[38;5;28mself\u001b[39m\u001b[38;5;241m.\u001b[39mmodel_config\u001b[38;5;241m.\u001b[39mprepare_field(\u001b[38;5;28mself\u001b[39m)\n\u001b[1;32m--> 434\u001b[0m \u001b[38;5;28;43mself\u001b[39;49m\u001b[38;5;241;43m.\u001b[39;49m\u001b[43mprepare\u001b[49m\u001b[43m(\u001b[49m\u001b[43m)\u001b[49m\n",
      "File \u001b[1;32mc:\\Users\\localadmin\\Desktop\\new desktop\\linkedinsucks\\linkedinsucks\\linkedinbot_venv\\Lib\\site-packages\\pydantic\\v1\\fields.py:555\u001b[0m, in \u001b[0;36mModelField.prepare\u001b[1;34m(self)\u001b[0m\n\u001b[0;32m    553\u001b[0m \u001b[38;5;28;01mif\u001b[39;00m \u001b[38;5;28mself\u001b[39m\u001b[38;5;241m.\u001b[39mdefault \u001b[38;5;129;01mis\u001b[39;00m Undefined \u001b[38;5;129;01mand\u001b[39;00m \u001b[38;5;28mself\u001b[39m\u001b[38;5;241m.\u001b[39mdefault_factory \u001b[38;5;129;01mis\u001b[39;00m \u001b[38;5;28;01mNone\u001b[39;00m:\n\u001b[0;32m    554\u001b[0m     \u001b[38;5;28mself\u001b[39m\u001b[38;5;241m.\u001b[39mdefault \u001b[38;5;241m=\u001b[39m \u001b[38;5;28;01mNone\u001b[39;00m\n\u001b[1;32m--> 555\u001b[0m \u001b[38;5;28;43mself\u001b[39;49m\u001b[38;5;241;43m.\u001b[39;49m\u001b[43mpopulate_validators\u001b[49m\u001b[43m(\u001b[49m\u001b[43m)\u001b[49m\n",
      "File \u001b[1;32mc:\\Users\\localadmin\\Desktop\\new desktop\\linkedinsucks\\linkedinsucks\\linkedinbot_venv\\Lib\\site-packages\\pydantic\\v1\\fields.py:829\u001b[0m, in \u001b[0;36mModelField.populate_validators\u001b[1;34m(self)\u001b[0m\n\u001b[0;32m    825\u001b[0m \u001b[38;5;28;01mif\u001b[39;00m \u001b[38;5;129;01mnot\u001b[39;00m \u001b[38;5;28mself\u001b[39m\u001b[38;5;241m.\u001b[39msub_fields \u001b[38;5;129;01mor\u001b[39;00m \u001b[38;5;28mself\u001b[39m\u001b[38;5;241m.\u001b[39mshape \u001b[38;5;241m==\u001b[39m SHAPE_GENERIC:\n\u001b[0;32m    826\u001b[0m     get_validators \u001b[38;5;241m=\u001b[39m \u001b[38;5;28mgetattr\u001b[39m(\u001b[38;5;28mself\u001b[39m\u001b[38;5;241m.\u001b[39mtype_, \u001b[38;5;124m'\u001b[39m\u001b[38;5;124m__get_validators__\u001b[39m\u001b[38;5;124m'\u001b[39m, \u001b[38;5;28;01mNone\u001b[39;00m)\n\u001b[0;32m    827\u001b[0m     v_funcs \u001b[38;5;241m=\u001b[39m (\n\u001b[0;32m    828\u001b[0m         \u001b[38;5;241m*\u001b[39m[v\u001b[38;5;241m.\u001b[39mfunc \u001b[38;5;28;01mfor\u001b[39;00m v \u001b[38;5;129;01min\u001b[39;00m class_validators_ \u001b[38;5;28;01mif\u001b[39;00m v\u001b[38;5;241m.\u001b[39meach_item \u001b[38;5;129;01mand\u001b[39;00m v\u001b[38;5;241m.\u001b[39mpre],\n\u001b[1;32m--> 829\u001b[0m         \u001b[38;5;241m*\u001b[39m(get_validators() \u001b[38;5;28;01mif\u001b[39;00m get_validators \u001b[38;5;28;01melse\u001b[39;00m \u001b[38;5;28;43mlist\u001b[39;49m\u001b[43m(\u001b[49m\u001b[43mfind_validators\u001b[49m\u001b[43m(\u001b[49m\u001b[38;5;28;43mself\u001b[39;49m\u001b[38;5;241;43m.\u001b[39;49m\u001b[43mtype_\u001b[49m\u001b[43m,\u001b[49m\u001b[43m \u001b[49m\u001b[38;5;28;43mself\u001b[39;49m\u001b[38;5;241;43m.\u001b[39;49m\u001b[43mmodel_config\u001b[49m\u001b[43m)\u001b[49m\u001b[43m)\u001b[49m),\n\u001b[0;32m    830\u001b[0m         \u001b[38;5;241m*\u001b[39m[v\u001b[38;5;241m.\u001b[39mfunc \u001b[38;5;28;01mfor\u001b[39;00m v \u001b[38;5;129;01min\u001b[39;00m class_validators_ \u001b[38;5;28;01mif\u001b[39;00m v\u001b[38;5;241m.\u001b[39meach_item \u001b[38;5;129;01mand\u001b[39;00m \u001b[38;5;129;01mnot\u001b[39;00m v\u001b[38;5;241m.\u001b[39mpre],\n\u001b[0;32m    831\u001b[0m     )\n\u001b[0;32m    832\u001b[0m     \u001b[38;5;28mself\u001b[39m\u001b[38;5;241m.\u001b[39mvalidators \u001b[38;5;241m=\u001b[39m prep_validators(v_funcs)\n\u001b[0;32m    834\u001b[0m \u001b[38;5;28mself\u001b[39m\u001b[38;5;241m.\u001b[39mpre_validators \u001b[38;5;241m=\u001b[39m []\n",
      "File \u001b[1;32mc:\\Users\\localadmin\\Desktop\\new desktop\\linkedinsucks\\linkedinsucks\\linkedinbot_venv\\Lib\\site-packages\\pydantic\\v1\\validators.py:765\u001b[0m, in \u001b[0;36mfind_validators\u001b[1;34m(type_, config)\u001b[0m\n\u001b[0;32m    763\u001b[0m     \u001b[38;5;28;01myield\u001b[39;00m make_arbitrary_type_validator(type_)\n\u001b[0;32m    764\u001b[0m \u001b[38;5;28;01melse\u001b[39;00m:\n\u001b[1;32m--> 765\u001b[0m     \u001b[38;5;28;01mraise\u001b[39;00m \u001b[38;5;167;01mRuntimeError\u001b[39;00m(\u001b[38;5;124mf\u001b[39m\u001b[38;5;124m'\u001b[39m\u001b[38;5;124mno validator found for \u001b[39m\u001b[38;5;132;01m{\u001b[39;00mtype_\u001b[38;5;132;01m}\u001b[39;00m\u001b[38;5;124m, see `arbitrary_types_allowed` in Config\u001b[39m\u001b[38;5;124m'\u001b[39m)\n",
      "\u001b[1;31mRuntimeError\u001b[0m: no validator found for <class 'langchain.chains.llm.LLMChain'>, see `arbitrary_types_allowed` in Config"
     ]
    }
   ],
   "source": [
    "from llama_index.core import Settings\n",
    "from llama_index.llms.ollama import Ollama\n",
    "from llama_index.llms.openai import OpenAI\n",
    "from llama_index.embeddings.openai import OpenAIEmbedding\n",
    "from langchain.embeddings.huggingface import HuggingFaceEmbeddings\n",
    "from llama_index.core import VectorStoreIndex, SummaryIndex\n",
    "from llama_index.core.tools import QueryEngineTool, FunctionTool\n",
    "\n",
    "#### Define LLMs and Embeddings for Each Tool\n",
    "\n",
    "docs = SimpleDirectoryReader(docs_path).load_data()\n",
    "from llama_index.core.node_parser import SentenceSplitter\n",
    "\n",
    "splitter = SentenceSplitter(chunk_size=1024)\n",
    "documents = splitter.get_nodes_from_documents(docs)\n",
    "\n",
    "\n",
    "# For summarizer tool (Using GPT-3.5)\n",
    "gpt3_5_llm = OpenAI(model=\"gpt-3.5-turbo\")\n",
    "gpt3_5_embed = OpenAIEmbedding(model=\"text-embedding-ada-002\")\n",
    "\n",
    "# For vector search tool (Using phi3-mini)\n",
    "phi3_llm = Ollama(\n",
    "    model=\"phi3:3.8b-mini-4k-instruct-q4_K_M\",\n",
    "    temperature=0.01,\n",
    "    request_timeout=400,\n",
    "    system_prompt=system_prompt,  # Define your system prompt as needed\n",
    "    context_window=2000\n",
    ")\n",
    "phi3_embed = HuggingFaceEmbeddings(model_name=\"BAAI/bge-small-en-v1.5\")\n",
    "\n",
    "#### Set Up Each Tool Separately\n",
    "\n",
    "# Summarizer tool settings (GPT-3.5)\n",
    "Settings.llm = gpt3_5_llm\n",
    "Settings.embed_model = gpt3_5_embed\n",
    "\n",
    "summary_index = SummaryIndex(documents)  # Assuming `documents` is already defined\n",
    "summary_query_engine = summary_index.as_query_engine(\n",
    "    response_mode=\"tree_summarize\",\n",
    "    use_async=True,\n",
    ")\n",
    "\n",
    "summary_tool = QueryEngineTool.from_defaults(\n",
    "    name=\"summary_tool\",\n",
    "    query_engine=summary_query_engine,\n",
    "    description=\"Useful for summarization questions related to MetaGPT\"\n",
    ")\n",
    "\n",
    "# Vector search tool settings (phi3-mini)\n",
    "Settings.llm = phi3_llm\n",
    "Settings.embed_model = phi3_embed\n",
    "\n",
    "vector_index = VectorStoreIndex(documents)  # Assuming `nodes` is already defined\n",
    "vector_query_engine = vector_index.as_query_engine()\n",
    "\n",
    "vector_tool = QueryEngineTool.from_defaults(\n",
    "    query_engine=vector_query_engine,\n",
    "    description=\"Useful for retrieving specific context from the MetaGPT paper.\"\n",
    ")\n",
    "\n",
    "#### Now, you have two tools:\n",
    "# 1. `summary_tool` uses GPT-3.5 for summarization tasks.\n",
    "# 2. `vector_tool` uses phi3-mini for vector search tasks.\n"
   ]
  },
  {
   "cell_type": "code",
   "execution_count": 27,
   "metadata": {},
   "outputs": [
    {
     "name": "stdout",
     "output_type": "stream",
     "text": [
      "=== Calling Function ===\n",
      "Calling function: query_engine_tool with args: {\"input\": \"types of time series models\"}\n",
      "=== Function Output ===\n",
      "Linear regression is a statistical method for modeling relationships between variables by fitting a linear equation to observed data. The key concept behind it involves predicting one variable (dependent) based on another (independent). It's widely used in various fields such as economics, biology, engineering, and social sciences due to its simplicity and effectiveness when the relationship is indeed linear or can be approximated by a straight line within certain ranges.\n",
      "\n",
      "In contrast, non-linear regression models are employed when relationships between variables cannot be adequately described using simple linear equations. These types of regressions involve more complex mathematical functions that better capture curved patterns in data sets where the dependent variable's change is not constant with respect to changes in independent variables. Non-linearity can arise from various factors, such as interactions among predictors or inherent properties within a system being studied.\n",
      "\n",
      "Non-parametric regression models are another category that doesn’t assume any specific form for the relationship between dependent and independent variables. Instead of fitting data to predetermined equations like linear or non-linear regressions, these methods estimate relationships directly from the observed data points using techniques such as kernel smoothing or splines without making strong assumptions about their underlying structure.\n",
      "\n",
      "Lastly, semiparametric regression models combine elements of both parametric and nonparametric approaches by incorporating a finite number of parameters (as in linear regressions) while also allowing for more flexible functional forms through the use of additional components that are not explicitly modeled but rather estimated from data. This hybrid approach can provide greater flexibility than purely parametric models, capturing complex relationships without requiring as much computational effort or risking overfitting compared to fully nonparametric methods.\n",
      "\n",
      "In summary: linear regression assumes a straight-line relationship between variables; it's simple and effective when applicable but may not capture more intricate patterns in data sets where the dependent variable changes at varying rates with respect to independent factors (nonlinearity). Non-linear regressions address this limitation by modeling curved relationships using complex mathematical functions. Meanwhile, nonparametric regression models estimate relationships directly from observed values without assuming any specific functional form for their underlying structure—a flexible approach that can capture intricate patterns in data sets but may require more computational resources or risk overfitting compared to parametric methods like linear regressions and semiparametric approaches.\n"
     ]
    }
   ],
   "source": [
    "llm = OpenAI(model=\"gpt-3.5-turbo\", temperature=0)\n",
    "response = llm.predict_and_call(\n",
    "    [vector_tool, summary_tool], \n",
    "    \"tell me the types of time series models\", \n",
    "    verbose=True\n",
    ")\n"
   ]
  }
 ],
 "metadata": {
  "kernelspec": {
   "display_name": "linkedinbot_venv",
   "language": "python",
   "name": "python3"
  },
  "language_info": {
   "codemirror_mode": {
    "name": "ipython",
    "version": 3
   },
   "file_extension": ".py",
   "mimetype": "text/x-python",
   "name": "python",
   "nbconvert_exporter": "python",
   "pygments_lexer": "ipython3",
   "version": "3.12.6"
  }
 },
 "nbformat": 4,
 "nbformat_minor": 2
}
